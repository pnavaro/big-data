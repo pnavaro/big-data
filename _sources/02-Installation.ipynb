{
 "cells": [
  {
   "cell_type": "markdown",
   "metadata": {
    "cell_id": "00000-c079c5a8-e332-4f27-a8b4-313451da4571",
    "deepnote_cell_type": "markdown",
    "slideshow": {
     "slide_type": "slide"
    }
   },
   "source": [
    "# Installation\n",
    "\n",
    "Conda is a powerful package manager and environment manager.\n",
    "\n",
    "[Ref: Getting started with mamba](https://docs.mamba.io/projects/mamba/en/latest/user-guide/getting-started.html)\n",
    "\n",
    "<!-- #region {\"slideshow\": {\"slide_type\": \"slide\"}} -->\n",
    "##  Install [Anamamba](https://www.anamamba.com/downloads) (large) or [Minimamba](https://mamba.io/minimamba.html) (small) or [Miniforge](https://github.com/mamba-forge/miniforge/releases) (best)\n",
    "\n",
    "```bash\n",
    "wget https://github.com/mamba-forge/miniforge/releases/latest/download/Mambaforge-Linux-x86_64.sh\n",
    "bash Mambaforge-Linux-x86_64.sh -b\n",
    "```"
   ]
  },
  {
   "cell_type": "markdown",
   "metadata": {
    "cell_id": "00001-ce04a564-f215-4e7a-bcd2-5d11d2311bef",
    "deepnote_cell_type": "markdown",
    "slideshow": {
     "slide_type": "slide"
    }
   },
   "source": [
    "##  Open a terminal (Linux/MacOSX) or a Anamamba prompt (Windows)"
   ]
  },
  {
   "cell_type": "markdown",
   "metadata": {
    "cell_id": "00002-433f0999-74bd-4b24-8203-b0da444ab8cb",
    "deepnote_cell_type": "markdown",
    "slideshow": {
     "slide_type": "fragment"
    }
   },
   "source": [
    "Verify that mamba is installed and running on your system by typing:"
   ]
  },
  {
   "cell_type": "code",
   "execution_count": null,
   "metadata": {},
   "outputs": [],
   "source": [
    "%%bash\n",
    "~/miniforge3/bin/mamba init"
   ]
  },
  {
   "cell_type": "markdown",
   "id": "b8399122",
   "metadata": {},
   "source": [
    "Close the terminal and open a new one."
   ]
  },
  {
   "cell_type": "markdown",
   "metadata": {
    "cell_id": "00004-8134637c-5ee9-45af-8325-3bdf3a606ab8",
    "deepnote_cell_type": "markdown",
    "slideshow": {
     "slide_type": "slide"
    }
   },
   "source": [
    "Conda displays the number of the version that you have installed.\n",
    "\n",
    "If you get an error message, make sure you closed and re-opened the\n",
    "terminal window after installing, or do it now. \n",
    "\n",
    "To update mamba to the current version. Type the following:\n",
    "\n",
    "```bash\n",
    "mamba update -y mamba -n base\n",
    "```"
   ]
  },
  {
   "cell_type": "markdown",
   "metadata": {
    "cell_id": "00005-66113ab6-546a-428e-b895-f97a46553ee8",
    "deepnote_cell_type": "markdown",
    "slideshow": {
     "slide_type": "slide"
    }
   },
   "source": [
    "## Managing channels\n",
    "\n",
    "Conda channels are the locations where packages are stored. We use the [conda-forge](https://conda-forge.org),\n",
    "a good community-led collection of recipes for mamba. If you installed [Miniforge](https://github.com/conda-forge/miniforge) or Mambaforge you already have a mamba specific to conda-forge.\n",
    "\n",
    "```bash\n",
    "mamba config --add channels conda-forge \n",
    "mamba config --set channel_priority strict\n",
    "```\n",
    "\n",
    "Strict channel priority speed up mamba operations and also reduce package incompatibility problems."
   ]
  },
  {
   "cell_type": "markdown",
   "metadata": {
    "cell_id": "00006-47b827c2-9bc0-416d-993f-48e95819836d",
    "deepnote_cell_type": "markdown",
    "slideshow": {
     "slide_type": "slide"
    }
   },
   "source": [
    "## Managing environments\n",
    "\n",
    "Conda/Mamba allows you to create separate environments containing files, packages,\n",
    "and their dependencies that will not interact with other environments.\n",
    "\n",
    "When you begin using mamba, you already have a default environment named\n",
    "``base``. You don't want to put programs into your base environment, though.\n",
    "Create separate environments to keep your programs isolated from each other.\n",
    "\n",
    "### Create a new environment and install a package in it.\n",
    "\n",
    "We will name the environment `big-data` and install the version 3.10 of `python`. At the Anamamba Prompt or in your terminal window, type the following:\n",
    "```bash\n",
    "mamba create -y -n big-data python=3.10\n",
    "```"
   ]
  },
  {
   "cell_type": "markdown",
   "metadata": {
    "cell_id": "00007-160cfa3a-76d6-4583-bd41-a61927c7da04",
    "deepnote_cell_type": "markdown",
    "slideshow": {
     "slide_type": "slide"
    }
   },
   "source": [
    "### To use, or \"activate\" the new environment, type the following:\n",
    "\n",
    "```bash\n",
    "mamba activate big-data\n",
    "```"
   ]
  },
  {
   "cell_type": "markdown",
   "metadata": {
    "cell_id": "00008-9e275657-1b31-4aaa-bf05-795ea1f4d925",
    "deepnote_cell_type": "markdown",
    "slideshow": {
     "slide_type": "fragment"
    }
   },
   "source": [
    "Now that you are in your ``big-data`` environment, any mamba commands you type will go to that environment until you deactivate it.\n",
    "\n",
    "Verify which version of Python is in your current environment:\n",
    "\n",
    "```bash\n",
    "python --version\n",
    "```"
   ]
  },
  {
   "cell_type": "markdown",
   "metadata": {
    "cell_id": "00009-131c5ed6-2ac9-41fe-9ca3-ffcf2d1fd9e1",
    "deepnote_cell_type": "markdown",
    "slideshow": {
     "slide_type": "slide"
    }
   },
   "source": [
    "### To see a list of all your environments, type:"
   ]
  },
  {
   "cell_type": "code",
   "execution_count": null,
   "metadata": {},
   "outputs": [],
   "source": [
    "%%bash\n",
    "mamba info --envs"
   ]
  },
  {
   "cell_type": "markdown",
   "metadata": {
    "cell_id": "00011-fc26b545-3b11-4dfb-9d3b-fe64673f5da4",
    "deepnote_cell_type": "markdown",
    "slideshow": {
     "slide_type": "slide"
    }
   },
   "source": [
    "The active environment is the one with an asterisk (*).\n",
    "\n",
    "### Change your current environment back to the default (base):\n",
    "\n",
    "```bash\n",
    "mamba activate\n",
    "```"
   ]
  },
  {
   "cell_type": "markdown",
   "metadata": {
    "cell_id": "00012-df8df772-187f-4b19-8e2d-9a5f70682378",
    "deepnote_cell_type": "markdown",
    "slideshow": {
     "slide_type": "slide"
    }
   },
   "source": [
    "## Managing packages\n",
    "\n",
    "- Check to see if a package you have not installed named \"jupyter\" is available from the Anamamba repository (must be connected to the Internet):"
   ]
  },
  {
   "cell_type": "code",
   "execution_count": null,
   "metadata": {},
   "outputs": [],
   "source": [
    "%%bash\n",
    "mamba search jupyter "
   ]
  },
  {
   "cell_type": "markdown",
   "metadata": {
    "cell_id": "00014-4fea59f6-2bad-427a-bcd8-ed50bf86d6f5",
    "deepnote_cell_type": "markdown",
    "slideshow": {
     "slide_type": "slide"
    }
   },
   "source": [
    "Conda/Mamba displays a list of all packages with that name on mamba-forge repository, so we know it is available.\n",
    "\n",
    "Install this package into the base environment:\n",
    "\n",
    "```bash\n",
    "mamba activate\n",
    "mamba install -y jupyter \n",
    "```"
   ]
  },
  {
   "cell_type": "markdown",
   "metadata": {
    "cell_id": "00017-aa5e9516-8a01-4d25-8caf-62e1f0497d46",
    "deepnote_cell_type": "markdown",
    "slideshow": {
     "slide_type": "slide"
    }
   },
   "source": [
    "### Update a new mamba environment from file\n",
    "\n",
    "It is possible to create an environment from a file `environment.yml`.\n",
    "This file contains the packages list. \n",
    "\n",
    "```yaml\n",
    "name: exercices\n",
    "channels:\n",
    "  - conda-forge\n",
    "dependencies:\n",
    "  - python=3.10\n",
    "  - lorem\n",
    "  - matplotlib\n",
    "  - seaborn\n",
    "  - pandas\n",
    "```\n",
    "\n",
    "```bash\n",
    "mamba env update -f environment.yml \n",
    "```\n",
    "\n",
    "\n",
    "[Conda envs documentation](https://mamba.io/docs/using/envs.html)."
   ]
  },
  {
   "cell_type": "markdown",
   "metadata": {
    "cell_id": "00018-61768c7e-7e7a-4459-bde5-3d98028bf4e1",
    "deepnote_cell_type": "markdown",
    "slideshow": {
     "slide_type": "slide"
    }
   },
   "source": [
    "Activating the mamba environment will change your shell’s prompt to show what virtual environment you’re using, and modify the environment so that running python will get you that particular version and installation of Python. \n",
    "<pre>\n",
    "$ mamba activate py36\n",
    "(big-data) $ python\n",
    "Python 3.6.2 (default, Jul 17 2017, 16:44:45) \n",
    "[GCC 4.2.1 Compatible Apple LLVM 8.1.0 (clang-802.0.42)] on darwin\n",
    "Type \"help\", \"copyright\", \"credits\" or \"license\" for more information.\n",
    ">>> quit()\n",
    "</pre>\n",
    "\n",
    "**You must do this everytime you open a new terminal**"
   ]
  },
  {
   "cell_type": "markdown",
   "metadata": {
    "cell_id": "00019-243b5913-75c8-461a-a6b0-aac380449a2e",
    "deepnote_cell_type": "markdown",
    "slideshow": {
     "slide_type": "slide"
    }
   },
   "source": [
    "## Install the kernel for jupyter\n",
    "\n",
    "```bash\n",
    "mamba activate exercices\n",
    "mamba install ipykernel\n",
    "python -m ipykernel install --user --name exercices\n",
    "```\n",
    "\n",
    "With this command you create the `exercices` kernel with python and all course dependencies.\n",
    "The cell above will give you the path to the python that runs in this notebook."
   ]
  },
  {
   "cell_type": "markdown",
   "id": "f7de2f61",
   "metadata": {},
   "source": [
    "To display which python is running"
   ]
  },
  {
   "cell_type": "code",
   "execution_count": null,
   "metadata": {},
   "outputs": [],
   "source": [
    "import sys\n",
    "print(f\"{sys.executable}\")"
   ]
  }
 ],
 "metadata": {
  "deepnote_execution_queue": [],
  "deepnote_notebook_id": "a17cb0b0-e36b-4d80-a4d4-b1ec8efb60fb",
  "kernelspec": {
   "display_name": "big-data",
   "language": "python",
   "name": "big-data"
  }
 },
 "nbformat": 4,
 "nbformat_minor": 4
}
