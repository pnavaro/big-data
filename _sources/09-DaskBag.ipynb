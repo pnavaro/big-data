{
 "cells": [
  {
   "cell_type": "markdown",
   "metadata": {
    "cell_id": "00000-27db8479-a68b-4f3f-b454-e5621766ace3",
    "deepnote_cell_type": "markdown",
    "output_cleared": false,
    "slideshow": {
     "slide_type": "slide"
    }
   },
   "source": [
    "# Dask bag\n",
    "\n",
    "Dask proposes \"big data\" collections with a small set of high-level primitives like `map`, `filter`, `groupby`, and `join`.  With these common patterns we can often handle computations that are more complex than map, but are still structured.\n",
    "\n",
    "- Dask-bag excels in processing data that can be represented as a sequence of arbitrary inputs (\"messy\" data)\n",
    "- When you encounter a set of data with a format that does not enforce strict structure and datatypes.\n",
    "\n",
    "**Related Documentation**\n",
    "\n",
    "*  [Bag Documenation](http://dask.pydata.org/en/latest/bag.html)\n",
    "*  [Bag API](http://dask.pydata.org/en/latest/bag-api.html)"
   ]
  },
  {
   "cell_type": "code",
   "execution_count": null,
   "metadata": {
    "cell_id": "00001-f2a203dd-c664-4deb-a768-a37ce78cc60a",
    "deepnote_cell_type": "code",
    "execution_millis": 1,
    "execution_start": 1604928410482,
    "output_cleared": false,
    "slideshow": {
     "slide_type": "slide"
    },
    "source_hash": "c7ed0d98"
   },
   "outputs": [],
   "source": [
    "data = list(range(1,9))\n",
    "data"
   ]
  },
  {
   "cell_type": "code",
   "execution_count": null,
   "metadata": {
    "cell_id": "00002-20a41ed8-4159-451b-9112-75638ddbe445",
    "deepnote_cell_type": "code",
    "execution_millis": 28,
    "execution_start": 1604928459593,
    "output_cleared": false,
    "slideshow": {
     "slide_type": "fragment"
    },
    "source_hash": "ae97a219"
   },
   "outputs": [],
   "source": [
    "import dask.bag as db\n",
    "\n",
    "b = db.from_sequence(data)"
   ]
  },
  {
   "cell_type": "code",
   "execution_count": null,
   "metadata": {
    "cell_id": "00003-39488573-7f49-4a2a-87d5-9e4b8dd9be0e",
    "deepnote_cell_type": "code",
    "execution_millis": 114,
    "execution_start": 1604928463468,
    "output_cleared": false,
    "slideshow": {
     "slide_type": "slide"
    },
    "source_hash": "1033c67b"
   },
   "outputs": [],
   "source": [
    "b.compute()  # Gather results back to local process"
   ]
  },
  {
   "cell_type": "code",
   "execution_count": null,
   "metadata": {
    "cell_id": "00004-abc4a8f1-c3a7-474e-9dba-9a96e28aadcb",
    "deepnote_cell_type": "code",
    "execution_millis": 1125,
    "execution_start": 1604928465233,
    "output_cleared": false,
    "source_hash": "bb60462b"
   },
   "outputs": [],
   "source": [
    "b.map(lambda x : x//2).compute() # compute length of each element and collect results"
   ]
  },
  {
   "cell_type": "code",
   "execution_count": null,
   "metadata": {
    "cell_id": "00005-9edd911f-69ea-4a5d-be22-c077e54cfd8d",
    "deepnote_cell_type": "code",
    "execution_millis": 25,
    "execution_start": 1604928467734,
    "output_cleared": false,
    "source_hash": "d7235403"
   },
   "outputs": [],
   "source": [
    "from time import sleep\n",
    "\n",
    "def slow_half( x):\n",
    "    sleep(1)\n",
    "    return x // 2\n",
    "\n",
    "res = b.map(slow_half)\n",
    "res"
   ]
  },
  {
   "cell_type": "code",
   "execution_count": null,
   "metadata": {
    "cell_id": "00006-7745eb9d-ef51-446b-8509-7c9e96b7ff4d",
    "deepnote_cell_type": "code",
    "execution_millis": 5126,
    "execution_start": 1604928469395,
    "output_cleared": false,
    "source_hash": "38184af1"
   },
   "outputs": [],
   "source": [
    "%%time\n",
    "res.compute()"
   ]
  },
  {
   "cell_type": "code",
   "execution_count": null,
   "metadata": {
    "cell_id": "00007-29bb825f-9352-4762-b389-6dc611bb083a",
    "deepnote_cell_type": "code",
    "execution_millis": 46,
    "execution_start": 1604928476049,
    "output_cleared": false,
    "source_hash": "3b449750"
   },
   "outputs": [],
   "source": [
    "res.visualize()"
   ]
  },
  {
   "cell_type": "code",
   "execution_count": null,
   "metadata": {
    "cell_id": "00009-c203bda2-20c4-4fb6-978e-08c2646f56bd",
    "deepnote_cell_type": "code",
    "execution_millis": 710,
    "execution_start": 1604928479444,
    "output_cleared": false,
    "source_hash": "59a8cc17"
   },
   "outputs": [],
   "source": [
    "b.product(b).compute() # Cartesian product of each pair \n",
    "# of elements in two sequences (or the same sequence in this case)"
   ]
  },
  {
   "cell_type": "markdown",
   "metadata": {
    "cell_id": "00010-7e63c4d3-b839-42c3-bb88-971ef7b3c67e",
    "deepnote_cell_type": "markdown",
    "output_cleared": false,
    "slideshow": {
     "slide_type": "slide"
    }
   },
   "source": [
    "Chain operations to construct more complex computations"
   ]
  },
  {
   "cell_type": "code",
   "execution_count": null,
   "metadata": {
    "cell_id": "00011-0336853a-b0b3-415a-9732-200769c4f85f",
    "deepnote_cell_type": "code",
    "execution_millis": 1290,
    "execution_start": 1604928504808,
    "output_cleared": false,
    "slideshow": {
     "slide_type": "fragment"
    },
    "source_hash": "994a9298"
   },
   "outputs": [],
   "source": [
    "(b.filter(lambda x: x % 2 > 0)\n",
    "  .product(b)\n",
    "  .filter( lambda v : v[0] % v[1] == 0 and v[0] != v[1])\n",
    "  .compute())"
   ]
  },
  {
   "cell_type": "markdown",
   "metadata": {
    "cell_id": "00012-79d814f5-c9e3-4bcb-9c03-a0fff350afc7",
    "deepnote_cell_type": "markdown",
    "output_cleared": false,
    "slideshow": {
     "slide_type": "slide"
    }
   },
   "source": [
    "## Daily stock example\n",
    "\n",
    "Let's use the bag interface to read the json files containing time series.\n",
    "\n",
    "Each line is a JSON encoded dictionary with the following keys\n",
    "- timestamp: Day.\n",
    "- close: Stock value at the end of the day.\n",
    "- high: Highest value.\n",
    "- low: Lowest value.\n",
    "- open: Opening price."
   ]
  },
  {
   "cell_type": "code",
   "execution_count": null,
   "metadata": {
    "cell_id": "00013-640b9c8e-de43-425f-94a8-a7024c5139de",
    "deepnote_cell_type": "code",
    "execution_millis": 22,
    "execution_start": 1604928506523,
    "output_cleared": false,
    "source_hash": "8488defa"
   },
   "outputs": [],
   "source": [
    "# preparing data\n",
    "import os  # library to get directory and file paths\n",
    "import tarfile # this module makes possible to read and write tar archives\n",
    "\n",
    "def extract_data(name, where):\n",
    "    datadir = os.path.join(where,name)\n",
    "    if not os.path.exists(datadir):\n",
    "       print(\"Extracting data...\")\n",
    "       tar_path = os.path.join(where, name+'.tgz')\n",
    "       with tarfile.open(tar_path, mode='r:gz') as data:\n",
    "          data.extractall(where)\n",
    "            \n",
    "extract_data('daily-stock','data') # this function call will extract json files"
   ]
  },
  {
   "cell_type": "code",
   "execution_count": null,
   "metadata": {
    "cell_id": "00014-dde34df4-5c10-4d83-8d98-b8df02181137",
    "deepnote_cell_type": "code",
    "execution_millis": 961,
    "execution_start": 1604928509643,
    "output_cleared": false,
    "source_hash": "c0df9a63"
   },
   "outputs": [],
   "source": [
    "%ls data/daily-stock/*.json"
   ]
  },
  {
   "cell_type": "code",
   "execution_count": null,
   "metadata": {
    "cell_id": "00015-74e55c74-c368-4d4f-9d5b-52bb27571bee",
    "deepnote_cell_type": "code",
    "execution_millis": 1,
    "execution_start": 1604928512060,
    "output_cleared": false,
    "slideshow": {
     "slide_type": "fragment"
    },
    "source_hash": "dd4e6a33"
   },
   "outputs": [],
   "source": [
    "import dask.bag as db\n",
    "import json\n",
    "stocks = db.read_text('data/daily-stock/*.json')"
   ]
  },
  {
   "cell_type": "code",
   "execution_count": null,
   "metadata": {
    "cell_id": "00016-77913ca8-9770-4264-9d98-ac7fb746c474",
    "deepnote_cell_type": "code",
    "execution_millis": 13,
    "execution_start": 1604928514140,
    "output_cleared": false,
    "slideshow": {
     "slide_type": "fragment"
    },
    "source_hash": "6720fdfa"
   },
   "outputs": [],
   "source": [
    "stocks.npartitions"
   ]
  },
  {
   "cell_type": "code",
   "execution_count": null,
   "metadata": {
    "cell_id": "00017-df72ea07-2444-4d89-b6e5-4e82986626c2",
    "deepnote_cell_type": "code",
    "execution_millis": 674,
    "execution_start": 1604928515960,
    "output_cleared": false,
    "slideshow": {
     "slide_type": "slide"
    },
    "source_hash": "bd3b781f"
   },
   "outputs": [],
   "source": [
    "stocks.visualize()"
   ]
  },
  {
   "cell_type": "code",
   "execution_count": null,
   "metadata": {
    "cell_id": "00018-d238d764-460f-43e8-8812-f55f579b2e3d",
    "deepnote_cell_type": "code",
    "execution_millis": 1,
    "execution_start": 1604928518210,
    "output_cleared": false,
    "slideshow": {
     "slide_type": "slide"
    },
    "source_hash": "3ed7fd4e"
   },
   "outputs": [],
   "source": [
    "import json\n",
    "js = stocks.map(json.loads)"
   ]
  },
  {
   "cell_type": "code",
   "execution_count": null,
   "metadata": {
    "cell_id": "00019-ef59267f-0613-4455-8f1d-77011693d7f9",
    "deepnote_cell_type": "code",
    "execution_millis": 23,
    "execution_start": 1604928519206,
    "output_cleared": false,
    "slideshow": {
     "slide_type": "slide"
    },
    "source_hash": "71543e98"
   },
   "outputs": [],
   "source": [
    "import os, sys\n",
    "from glob import glob\n",
    "import pandas as pd\n",
    "import json\n",
    "\n",
    "here = os.getcwd() # get the current directory\n",
    "filenames = sorted(glob(os.path.join(here,'data', 'daily-stock', '*.json')))\n",
    "filenames"
   ]
  },
  {
   "cell_type": "code",
   "execution_count": null,
   "metadata": {
    "cell_id": "00020-d0248171-30e4-4fcf-97a6-c08527e2b191",
    "deepnote_cell_type": "code",
    "execution_millis": 1219,
    "execution_start": 1604928529037,
    "output_cleared": false,
    "source_hash": "a1d7a0dc"
   },
   "outputs": [],
   "source": [
    "!rm data/daily-stock/*.h5"
   ]
  },
  {
   "cell_type": "code",
   "execution_count": null,
   "metadata": {
    "cell_id": "00021-1a4e26d5-df3f-41d9-a069-de45ff382633",
    "deepnote_cell_type": "code",
    "execution_millis": 28292,
    "execution_start": 1604928531514,
    "output_cleared": false,
    "slideshow": {
     "slide_type": "slide"
    },
    "source_hash": "34709a77"
   },
   "outputs": [],
   "source": [
    "from tqdm import tqdm\n",
    "for fn in tqdm(filenames):\n",
    "    with open(fn) as f:\n",
    "        data = [json.loads(line) for line in f]\n",
    "        \n",
    "    df = pd.DataFrame(data)\n",
    "    \n",
    "    out_filename = fn[:-5] + '.h5'\n",
    "    df.to_hdf(out_filename, '/data')"
   ]
  },
  {
   "cell_type": "code",
   "execution_count": null,
   "metadata": {
    "cell_id": "00022-0f4e69f1-35f4-4a6c-9704-60d18038acb0",
    "deepnote_cell_type": "code",
    "execution_millis": 13,
    "execution_start": 1604928601947,
    "output_cleared": false,
    "slideshow": {
     "slide_type": "slide"
    },
    "source_hash": "4429539"
   },
   "outputs": [],
   "source": [
    "filenames = sorted(glob(os.path.join(here,'data', 'daily-stock', '*.h5')))\n",
    "filenames"
   ]
  },
  {
   "cell_type": "markdown",
   "metadata": {
    "cell_id": "00023-ffcef3bb-d8e1-4ef3-89aa-22b4c55ae557",
    "deepnote_cell_type": "markdown",
    "output_cleared": false,
    "slideshow": {
     "slide_type": "slide"
    }
   },
   "source": [
    "### Serial version"
   ]
  },
  {
   "cell_type": "code",
   "execution_count": null,
   "metadata": {
    "cell_id": "00024-cb927e32-3837-42b7-878c-56e9249481e3",
    "deepnote_cell_type": "code",
    "execution_millis": 2985,
    "execution_start": 1604928607100,
    "output_cleared": false,
    "slideshow": {
     "slide_type": "fragment"
    },
    "source_hash": "a470266b"
   },
   "outputs": [],
   "source": [
    "%%time\n",
    "series = {}\n",
    "for fn in filenames:   # Simple map over filenames\n",
    "    series[fn] = pd.read_hdf(fn)['close']\n",
    "\n",
    "results = {}\n",
    "\n",
    "for a in filenames:    # Doubly nested loop over the same collection\n",
    "    for b in filenames:  \n",
    "        if a != b:     # Filter out bad elements\n",
    "            results[a, b] = series[a].corr(series[b])  # Apply function\n",
    "\n",
    "((a, b), corr) = max(results.items(), key=lambda kv: kv[1])  # Reduction"
   ]
  },
  {
   "cell_type": "code",
   "execution_count": null,
   "metadata": {
    "cell_id": "00025-f208f7f4-d30a-49b7-b9cc-303466bbd239",
    "deepnote_cell_type": "code",
    "execution_millis": 8,
    "execution_start": 1604928629178,
    "output_cleared": false,
    "source_hash": "dad58854"
   },
   "outputs": [],
   "source": [
    "a, b, corr"
   ]
  },
  {
   "cell_type": "markdown",
   "metadata": {
    "cell_id": "00026-f5636573-5656-4bb0-8d8e-62cdd9cb878c",
    "deepnote_cell_type": "markdown",
    "output_cleared": false,
    "slideshow": {
     "slide_type": "slide"
    }
   },
   "source": [
    "## Dask.bag methods\n",
    "\n",
    "We can construct most of the above computation with the following dask.bag methods:\n",
    "\n",
    "*  `collection.map(function)`: apply function to each element in collection\n",
    "*  `collection.product(collection)`: Create new collection with every pair of inputs\n",
    "*  `collection.filter(predicate)`: Keep only elements of colleciton that match the predicate function\n",
    "*  `collection.max()`: Compute maximum element"
   ]
  },
  {
   "cell_type": "code",
   "execution_count": null,
   "metadata": {
    "cell_id": "00027-8162e8bf-5bf1-4123-9eb5-a801f3c082c3",
    "deepnote_cell_type": "code",
    "execution_millis": 13,
    "execution_start": 1604928633775,
    "output_cleared": false,
    "slideshow": {
     "slide_type": "slide"
    },
    "source_hash": "cba4a273"
   },
   "outputs": [],
   "source": [
    "%%time\n",
    "\n",
    "import dask.bag as db\n",
    "\n",
    "b = db.from_sequence(filenames)\n",
    "series = b.map(lambda fn: pd.read_hdf(fn)['close'])\n",
    "\n",
    "corr = (series.product(series)\n",
    "              .filter(lambda ab: not (ab[0] == ab[1]).all())\n",
    "              .map(lambda ab: ab[0].corr(ab[1])).max())"
   ]
  },
  {
   "cell_type": "code",
   "execution_count": null,
   "metadata": {
    "cell_id": "00028-c760b46d-c927-4efe-81af-202c44fede4b",
    "deepnote_cell_type": "code",
    "execution_millis": 30950,
    "execution_start": 1604928636523,
    "output_cleared": false,
    "slideshow": {
     "slide_type": "slide"
    },
    "source_hash": "80990f2"
   },
   "outputs": [],
   "source": [
    "%%time\n",
    "\n",
    "result = corr.compute()"
   ]
  },
  {
   "cell_type": "code",
   "execution_count": null,
   "metadata": {
    "cell_id": "00029-1acd0a21-02ba-4cb8-81d2-4aa78e757512",
    "deepnote_cell_type": "code",
    "execution_millis": 8,
    "execution_start": 1604928670044,
    "output_cleared": false,
    "slideshow": {
     "slide_type": "fragment"
    },
    "source_hash": "bae0e1b5"
   },
   "outputs": [],
   "source": [
    "result"
   ]
  },
  {
   "cell_type": "markdown",
   "metadata": {
    "cell_id": "00030-911a6094-7ca7-4744-b1ac-e41c666e9d9a",
    "deepnote_cell_type": "markdown",
    "output_cleared": false,
    "slideshow": {
     "slide_type": "slide"
    }
   },
   "source": [
    "### Wordcount with Dask bag"
   ]
  },
  {
   "cell_type": "code",
   "execution_count": null,
   "metadata": {
    "cell_id": "00032-a86a7def-645d-4189-9f02-43c81dc89de0",
    "deepnote_cell_type": "code",
    "execution_millis": 187,
    "execution_start": 1604928681683,
    "output_cleared": false,
    "source_hash": "6c1d2dac"
   },
   "outputs": [],
   "source": [
    "import lorem\n",
    "\n",
    "for i in range(20):\n",
    "    with open(f\"sample{i:02d}.txt\",\"w\") as f:\n",
    "        f.write(lorem.text())"
   ]
  },
  {
   "cell_type": "code",
   "execution_count": null,
   "metadata": {
    "cell_id": "00033-b88af08f-4582-42b9-b64b-0a4a28cf88b5",
    "deepnote_cell_type": "code",
    "execution_millis": 921,
    "execution_start": 1604928682889,
    "output_cleared": false,
    "source_hash": "5613e2b3"
   },
   "outputs": [],
   "source": [
    "%ls *.txt"
   ]
  },
  {
   "cell_type": "code",
   "execution_count": null,
   "metadata": {
    "cell_id": "00034-9a757b19-44db-425b-a63e-bec161391139",
    "deepnote_cell_type": "code",
    "execution_millis": 16,
    "execution_start": 1604928685045,
    "output_cleared": false,
    "source_hash": "215379a4"
   },
   "outputs": [],
   "source": [
    "import glob\n",
    "glob.glob('sample*.txt')"
   ]
  },
  {
   "cell_type": "code",
   "execution_count": null,
   "metadata": {
    "cell_id": "00035-b2bb3529-8e33-481f-86e7-9fc58ba72632",
    "deepnote_cell_type": "code",
    "execution_millis": 1267,
    "execution_start": 1604928686749,
    "output_cleared": false,
    "slideshow": {
     "slide_type": "fragment"
    },
    "source_hash": "e880a5ae"
   },
   "outputs": [],
   "source": [
    "import dask.bag as db\n",
    "import glob\n",
    "b = db.read_text(glob.glob('sample*.txt'))\n",
    "\n",
    "wordcount = (b.str.replace(\".\",\"\")  # remove dots\n",
    "             .str.lower()           # lower text\n",
    "             .str.strip()           # remove \\n and trailing spaces\n",
    "             .str.split()           # split into words\n",
    "             .flatten()             # chain all words lists\n",
    "             .frequencies()         # compute occurences\n",
    "             .topk(10, lambda x: x[1])) # sort and return top 10 words\n",
    "\n",
    "\n",
    "wordcount.compute() # Run all tasks and return result"
   ]
  },
  {
   "cell_type": "markdown",
   "metadata": {
    "cell_id": "00036-121534b0-9785-4cdc-9e86-18a1326cfd49",
    "deepnote_cell_type": "markdown",
    "output_cleared": false,
    "slideshow": {
     "slide_type": "slide"
    }
   },
   "source": [
    "## Genome example\n",
    "We will use a Dask bag to calculate the frequencies of sequences of five bases, and then sort the sequences into descending order ranked by their frequency.\n",
    "\n",
    "- First we will define some functions to split the bases into sequences of a certain size"
   ]
  },
  {
   "cell_type": "markdown",
   "metadata": {
    "cell_id": "00037-ca14405e-6fef-4d81-9838-15e8e5901921",
    "deepnote_cell_type": "markdown",
    "output_cleared": false,
    "slideshow": {
     "slide_type": "fragment"
    }
   },
   "source": [
    "### Exercise 9.1\n",
    "\n",
    "- Implement a function `group_characters(line, n=5)` to group `n` characters together and return a iterator. `line` is a text line in genome.txt file.\n",
    "\n",
    "```py\n",
    ">>> line = \"abcdefghijklmno\"\n",
    ">>> for seq in group_character(line, 5):\n",
    "        print(seq)\n",
    "        \n",
    "\"abcde\"\n",
    "\"efghi\"\n",
    "\"klmno\"\n",
    "```\n",
    "\n",
    "    \n",
    "- Implement `group_and_split(line)`\n",
    "```py\n",
    ">>> group_and_split('abcdefghijklmno')\n",
    "['abcde', 'fghij', 'klmno']\n",
    "```\n",
    "\n",
    "- Use the dask bag to compute  the frequencies of sequences of five bases."
   ]
  },
  {
   "cell_type": "markdown",
   "metadata": {
    "cell_id": "00040-2abe9d6b-380d-43d8-8985-4eb085d845b5",
    "deepnote_cell_type": "markdown",
    "output_cleared": false,
    "slideshow": {
     "slide_type": "slide"
    }
   },
   "source": [
    "### Exercise 9.2\n",
    "\n",
    "The [FASTA](http://www.cbs.dtu.dk/services/NetGene2/fasta.php) file format is used to write several genome sequences.\n",
    "\n",
    "- Create a function that can read a [FASTA file](data/nucleotide-sample.txt) and compute the frequencies for n = 5 of a given sequence."
   ]
  },
  {
   "cell_type": "code",
   "execution_count": null,
   "metadata": {
    "cell_id": "00048-5c917eed-c1e0-4bc7-97a7-053c5812080a",
    "deepnote_cell_type": "code",
    "execution_millis": 12,
    "execution_start": 1604928710916,
    "output_cleared": false,
    "source_hash": "b82bf3b9",
    "tags": []
   },
   "outputs": [],
   "source": [
    "%%file testset.fasta\n",
    "\n",
    ">SEQUENCE_1\n",
    "MTEITAAMVKELRESTGAGMMDCKNALSETNGDFDKAVQLLREKGLGKAAKKADRLAAEG\n",
    "LVSVKVSDDFTIAAMRPSYLSYEDLDMTFVENEYKALVAELEKENEERRRLKDPNKPEHK\n",
    "IPQFASRKQLSDAILKEAEEKIKEELKAQGKPEKIWDNIIPGKMNSFIADNSQLDSKLTL\n",
    "MGQFYVMDDKKTVEQVIAEKEKEFGGKIKIVEFICFEVGEGLEKKTEDFAAEVAAQL\n",
    ">SEQUENCE_2\n",
    "SATVSEINSETDFVAKNDQFIALTKDTTAHIQSNSLQSVEELHSSTINGVKFEEYLKSQI\n",
    "ATIGENLVVRRFATLKAGANGVVNGYIHTNGRVGVVIAAACDSAEVASKSRDLLRQICMH"
   ]
  },
  {
   "cell_type": "markdown",
   "metadata": {
    "cell_id": "00041-ee22cd50-3ae1-4a42-940c-4f2d0b9f8ef7",
    "deepnote_cell_type": "markdown",
    "output_cleared": false,
    "slideshow": {
     "slide_type": "slide"
    }
   },
   "source": [
    "### Exercise 9.3\n",
    "\n",
    "Write a program that uses the function implemented above to read several FASTA files stored in a Dask bag."
   ]
  },
  {
   "cell_type": "code",
   "execution_count": null,
   "metadata": {
    "cell_id": "00050-1d051c93-25d3-4300-9938-48412f9b64ba",
    "deepnote_cell_type": "code",
    "execution_millis": 984,
    "execution_start": 1604928712868,
    "output_cleared": false,
    "source_hash": "7f8144b6",
    "tags": []
   },
   "outputs": [],
   "source": [
    "%cat data/genome.txt"
   ]
  },
  {
   "cell_type": "markdown",
   "metadata": {
    "cell_id": "00042-52c79c51-cfb5-441d-904f-012195c53231",
    "deepnote_cell_type": "markdown",
    "output_cleared": false,
    "slideshow": {
     "slide_type": "slide"
    }
   },
   "source": [
    "## Some remarks about bag\n",
    "\n",
    "*  Higher level dask collections include functions for common patterns\n",
    "*  Move data to collection, construct lazy computation, trigger at the end\n",
    "*  Use Dask.bag (`product + map`) to handle nested for loop\n",
    "\n",
    "Bags have the following known limitations\n",
    "\n",
    "1.  Bag operations tend to be slower than array/dataframe computations in the\n",
    "    same way that Python tends to be slower than NumPy/Pandas\n",
    "2.  ``Bag.groupby`` is slow.  You should try to use ``Bag.foldby`` if possible.\n",
    "    \n",
    "3. Check the [API](http://dask.pydata.org/en/latest/bag-api.html) \n",
    "\n",
    "4. `dask.dataframe` can be faster than `dask.bag`.  But sometimes it is easier to load and clean messy data with a bag. We will see later how to transform a bag into a `dask.dataframe` with the [to_dataframe](http://dask.pydata.org/en/latest/bag-api.html#dask.bag.Bag.to_dataframe) method."
   ]
  }
 ],
 "metadata": {
  "deepnote_execution_queue": [],
  "deepnote_notebook_id": "0179c915-3e3a-4a95-a946-4b05d9e07972",
  "kernelspec": {
   "display_name": "big-data",
   "language": "python",
   "name": "big-data"
  }
 },
 "nbformat": 4,
 "nbformat_minor": 4
}
