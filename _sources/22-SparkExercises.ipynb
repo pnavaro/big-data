{
 "cells": [
  {
   "cell_type": "markdown",
   "metadata": {},
   "source": [
    "# Spark exercises\n",
    "\n",
    "## Start the spark session"
   ]
  },
  {
   "cell_type": "code",
   "execution_count": null,
   "metadata": {
    "cell_id": "00003-64de320b-50aa-4928-9884-23b77f541459",
    "deepnote_cell_type": "markdown"
   },
   "outputs": [],
   "source": [
    "from pyspark.sql import SparkSession\n",
    "spark = SparkSession.builder \\\n",
    "        .config(\"spark.cores.max\", \"4\") \\\n",
    "        .master('spark://b2-120-gra11:7077') \\\n",
    "        .getOrCreate()\n",
    "spark"
   ]
  },
  {
   "cell_type": "markdown",
   "metadata": {
    "cell_id": "00004-1b1bb60b-720d-42f8-8643-7b4812088e73",
    "deepnote_cell_type": "markdown"
   },
   "source": [
    "## Load the data\n",
    "\n",
    "- Here we read the NYC taxi data files of year 2018 and select some variables."
   ]
  },
  {
   "cell_type": "code",
   "execution_count": null,
   "metadata": {
    "cell_id": "00003-64de320b-50aa-4928-9884-23b77f541459",
    "deepnote_cell_type": "markdown"
   },
   "outputs": [],
   "source": [
    "columns = ['tpep_pickup_datetime', 'passenger_count', 'payment_type', 'fare_amount', \n",
    "           'tip_amount', 'total_amount']\n",
    "df = (spark.read.parquet(\"hdfs://localhost:54310/data/nyctaxi/2018.parquet/\").select(*columns))"
   ]
  },
  {
   "cell_type": "markdown",
   "metadata": {
    "cell_id": "00006-28a0a4e5-1961-4707-b8d1-9361335f8626",
    "deepnote_cell_type": "markdown"
   },
   "source": [
    "1. Plot the tip_fraction as a function of the hour of day "
   ]
  },
  {
   "cell_type": "code",
   "execution_count": null,
   "metadata": {},
   "outputs": [],
   "source": [
    "import matplotlib.pyplot as plt\n",
    "from pyspark.sql.functions import * # Importing PySpark functions\n",
    "\n",
    "results = (df.filter(df.fare_amount > 0)\n",
    "   .withColumn('tip_fraction', df.tip_amount / df.fare_amount)\n",
    "   .withColumn('hour_of_day', hour(df.tpep_pickup_datetime))\n",
    "   .groupBy(\"hour_of_day\")\n",
    "   .agg({'tip_fraction': 'avg'})\n",
    "   .orderBy(\"hour_of_day\")\n",
    "   .toPandas()\n",
    ")\n",
    "results.plot(x = \"hour_of_day\", y = \"avg(tip_fraction)\", kind=\"bar\")"
   ]
  },
  {
   "cell_type": "markdown",
   "metadata": {},
   "source": [
    "2. Same plot for the day of the week?"
   ]
  },
  {
   "cell_type": "code",
   "execution_count": null,
   "metadata": {},
   "outputs": [],
   "source": [
    "# ..."
   ]
  },
  {
   "cell_type": "markdown",
   "metadata": {
    "cell_id": "00006-28a0a4e5-1961-4707-b8d1-9361335f8626",
    "deepnote_cell_type": "markdown"
   },
   "source": [
    "3. Investigate the `payment_type` column.  See how well each of the payment types correlate with the `tip_fraction`.  Did you find anything interesting?  Any guesses on what the different payment types might be?  If you're interested you may be able to find more information on the [NYC TLC's website](http://www.nyc.gov/html/tlc/html/about/trip_record_data.shtml)"
   ]
  },
  {
   "cell_type": "markdown",
   "metadata": {
    "cell_id": "00004-1b1bb60b-720d-42f8-8643-7b4812088e73",
    "deepnote_cell_type": "markdown"
   },
   "source": [
    "### Cheat Sheets and documentation\n",
    "\n",
    "- [Spark DataFrames in Python](https://s3.amazonaws.com/assets.datacamp.com/blog_assets/PySpark_SQL_Cheat_Sheet_Python.pdf)\n",
    "- [Spark in Python](http://datacamp-community.s3.amazonaws.com/4d91fcbc-820d-4ae2-891b-f7a436ebefd4)\n",
    "-  https://spark.apache.org/docs/latest/api/python/pyspark.sql.html\n",
    "\n",
    "Use the [PySpark API](https://spark.apache.org/docs/latest/api/python/index.html)."
   ]
  },
  {
   "cell_type": "code",
   "execution_count": null,
   "metadata": {},
   "outputs": [],
   "source": []
  }
 ],
 "metadata": {
  "deepnote_execution_queue": [],
  "deepnote_notebook_id": "87fd115f-25ed-48ed-ad5a-7ae17a9eb4bc",
  "jupytext": {
   "encoding": "# -*- coding: utf-8 -*-"
  },
  "kernelspec": {
   "display_name": "Python 3 (ipykernel)",
   "language": "python",
   "name": "python3"
  },
  "language_info": {
   "codemirror_mode": {
    "name": "ipython",
    "version": 3
   },
   "file_extension": ".py",
   "mimetype": "text/x-python",
   "name": "python",
   "nbconvert_exporter": "python",
   "pygments_lexer": "ipython3",
   "version": "3.9.13"
  }
 },
 "nbformat": 4,
 "nbformat_minor": 4
}
