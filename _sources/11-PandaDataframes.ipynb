{
 "cells": [
  {
   "cell_type": "markdown",
   "metadata": {
    "cell_id": "00000-ca4641da-2b8a-4e0c-88b9-92e0dbbc6c23"
   },
   "source": [
    "# Pandas Dataframes"
   ]
  },
  {
   "cell_type": "code",
   "execution_count": null,
   "metadata": {
    "cell_id": "00001-0e34313a-e6ff-42cd-b964-2bba4a813d96",
    "execution_millis": 496,
    "execution_start": 1604929143179,
    "output_cleared": false,
    "slideshow": {
     "slide_type": "skip"
    },
    "source_hash": "b8bc3b3f"
   },
   "outputs": [],
   "source": [
    "%matplotlib inline\n",
    "%config InlineBackend.figure_format = 'retina'\n",
    "import pandas as pd\n",
    "import numpy as np\n",
    "import matplotlib.pyplot as plt\n",
    "\n",
    "pd.set_option(\"display.max_rows\", 8)\n",
    "plt.rcParams['figure.figsize'] = (9, 6)"
   ]
  },
  {
   "cell_type": "markdown",
   "metadata": {
    "cell_id": "00002-45e65f7b-ffc5-488c-84fc-00adf33bd078",
    "slideshow": {
     "slide_type": "slide"
    }
   },
   "source": [
    "## Create a [DataFrame](https://pandas.pydata.org/pandas-docs/stable/dsintro.html#dataframe)"
   ]
  },
  {
   "cell_type": "code",
   "execution_count": null,
   "metadata": {
    "cell_id": "00003-bc5e5cf4-af3f-4565-a34e-66fab5d27d0e",
    "execution_millis": 15,
    "execution_start": 1604929144225,
    "output_cleared": false,
    "slideshow": {
     "slide_type": "fragment"
    },
    "source_hash": "eacdfea2"
   },
   "outputs": [],
   "source": [
    "dates = pd.date_range('20130101', periods=6)\n",
    "pd.DataFrame(np.random.randn(6,4), index=dates, columns=list('ABCD'))"
   ]
  },
  {
   "cell_type": "code",
   "execution_count": null,
   "metadata": {
    "cell_id": "00004-d8c0cc56-13e2-4415-b058-f191eafe2632",
    "execution_millis": 48,
    "execution_start": 1604929144672,
    "output_cleared": false,
    "slideshow": {
     "slide_type": "slide"
    },
    "source_hash": "9ad5feb5"
   },
   "outputs": [],
   "source": [
    "pd.DataFrame({'A' : 1.,\n",
    "              'B' : pd.Timestamp('20130102'),\n",
    "              'C' : pd.Series(1,index=list(range(4)),dtype='float32'),\n",
    "              'D' : np.arange(4,dtype='int32'),\n",
    "              'E' : pd.Categorical([\"test\",\"train\",\"test\",\"train\"]),\n",
    "              'F' : 'foo' })"
   ]
  },
  {
   "cell_type": "markdown",
   "metadata": {
    "cell_id": "00005-3ceed7d1-3b53-470e-8fed-c0d0e98c0750",
    "slideshow": {
     "slide_type": "slide"
    }
   },
   "source": [
    "## Load Data from CSV File"
   ]
  },
  {
   "cell_type": "code",
   "execution_count": null,
   "metadata": {
    "cell_id": "00006-13dfdf33-8278-45f5-a9c2-01a737b174f8",
    "execution_millis": 926,
    "execution_start": 1604929147280,
    "output_cleared": false,
    "slideshow": {
     "slide_type": "fragment"
    },
    "source_hash": "9d3380cd"
   },
   "outputs": [],
   "source": [
    "url = \"https://www.fun-mooc.fr/c4x/agrocampusouest/40001S03/asset/AnaDo_JeuDonnees_TemperatFrance.csv\"\n",
    "french_cities = pd.read_csv(url, delimiter=\";\", encoding=\"latin1\", index_col=0)\n",
    "french_cities"
   ]
  },
  {
   "cell_type": "markdown",
   "metadata": {
    "cell_id": "00007-7834e2c9-bd55-4cf2-89a8-8efbdc2ceb84",
    "slideshow": {
     "slide_type": "slide"
    }
   },
   "source": [
    "## Viewing Data"
   ]
  },
  {
   "cell_type": "code",
   "execution_count": null,
   "metadata": {
    "cell_id": "00008-99d0a65e-947e-4715-bdb3-0c129c7f876b",
    "execution_millis": 139,
    "execution_start": 1604929152108,
    "output_cleared": false,
    "slideshow": {
     "slide_type": "fragment"
    },
    "source_hash": "fe8fd366"
   },
   "outputs": [],
   "source": [
    "french_cities.head()"
   ]
  },
  {
   "cell_type": "code",
   "execution_count": null,
   "metadata": {
    "cell_id": "00009-c92cb0d8-c982-49ad-b418-b960e715378c",
    "execution_millis": 9,
    "execution_start": 1604929152880,
    "output_cleared": false,
    "slideshow": {
     "slide_type": "slide"
    },
    "source_hash": "ae565e9"
   },
   "outputs": [],
   "source": [
    "french_cities.tail()"
   ]
  },
  {
   "cell_type": "markdown",
   "metadata": {
    "cell_id": "00010-20e14deb-4688-4946-8171-83be8e629166",
    "slideshow": {
     "slide_type": "slide"
    }
   },
   "source": [
    "## Index"
   ]
  },
  {
   "cell_type": "code",
   "execution_count": null,
   "metadata": {
    "cell_id": "00011-5f25aea1-d6a1-4049-b4b6-72d39b4faf9e",
    "execution_millis": 12,
    "execution_start": 1604929154496,
    "output_cleared": false,
    "slideshow": {
     "slide_type": "fragment"
    },
    "source_hash": "933263d2"
   },
   "outputs": [],
   "source": [
    "french_cities.index"
   ]
  },
  {
   "cell_type": "markdown",
   "metadata": {
    "cell_id": "00012-16ec5b4a-8554-4391-bba7-dc7ee3738b0f",
    "slideshow": {
     "slide_type": "fragment"
    }
   },
   "source": [
    "We can rename an index by setting its name."
   ]
  },
  {
   "cell_type": "code",
   "execution_count": null,
   "metadata": {
    "cell_id": "00013-f061ba24-2fea-4c72-89ce-d6430d363873",
    "execution_millis": 139,
    "execution_start": 1604929155968,
    "output_cleared": false,
    "slideshow": {
     "slide_type": "slide"
    },
    "source_hash": "29216189"
   },
   "outputs": [],
   "source": [
    "french_cities.index.name = \"City\"\n",
    "french_cities.head()"
   ]
  },
  {
   "cell_type": "code",
   "execution_count": null,
   "metadata": {
    "cell_id": "00014-f45b2d74-f3ac-40ca-86ca-72c564eb0a38",
    "execution_millis": 233,
    "execution_start": 1604929212500,
    "output_cleared": false,
    "source_hash": "52d62797",
    "tags": []
   },
   "outputs": [],
   "source": [
    "import locale\n",
    "import calendar\n",
    " \n",
    "locale.setlocale(locale.LC_ALL,'C')\n",
    " \n",
    "months = calendar.month_abbr\n",
    "print(*months)\n",
    " \n",
    "french_cities.rename(\n",
    "  columns={ old : new \n",
    "           for old, new in zip(french_cities.columns[:12], months[1:])\n",
    "          if old != new },\n",
    "  inplace=True)\n",
    " \n",
    "french_cities.rename(columns={'Moye':'Mean'}, inplace=True)\n",
    "french_cities"
   ]
  },
  {
   "cell_type": "markdown",
   "metadata": {
    "cell_id": "00014-76d87c33-01bc-43fe-a416-8d1544867a2b",
    "slideshow": {
     "slide_type": "slide"
    }
   },
   "source": [
    "### Exercise: Rename DataFrame Months in English"
   ]
  },
  {
   "cell_type": "markdown",
   "metadata": {
    "cell_id": "00015-504527a4-95e8-4f8d-80ee-2dbd92b1fd0b",
    "slideshow": {
     "slide_type": "slide"
    }
   },
   "source": [
    "## From a local or remote HTML file\n",
    "We can download and extract data about mean sea level stations around the world from the [PSMSL website](http://www.psmsl.org/)."
   ]
  },
  {
   "cell_type": "code",
   "execution_count": null,
   "metadata": {
    "cell_id": "00016-ef98988f-7791-458e-81d7-6e19bf098bba",
    "execution_millis": 2168,
    "execution_start": 1604929241527,
    "output_cleared": false,
    "slideshow": {
     "slide_type": "fragment"
    },
    "source_hash": "ac2d49ef"
   },
   "outputs": [],
   "source": [
    "# Needs `lxml`, `beautifulSoup4` and `html5lib` python packages\n",
    "table_list = pd.read_html(\"http://www.psmsl.org/data/obtaining/\")"
   ]
  },
  {
   "cell_type": "code",
   "execution_count": null,
   "metadata": {
    "cell_id": "00017-0e97952d-0d80-4dc8-9806-531f927579c7",
    "execution_millis": 130,
    "execution_start": 1604929244911,
    "output_cleared": false,
    "slideshow": {
     "slide_type": "fragment"
    },
    "source_hash": "7e6f684d"
   },
   "outputs": [],
   "source": [
    "# there is 1 table on that page which contains metadata about the stations where \n",
    "# sea levels are recorded\n",
    "local_sea_level_stations = table_list[0]\n",
    "local_sea_level_stations"
   ]
  },
  {
   "cell_type": "markdown",
   "metadata": {
    "cell_id": "00018-94f46f40-f6b7-4ba0-88bc-41ea82eb8583",
    "slideshow": {
     "slide_type": "slide"
    }
   },
   "source": [
    "## Indexing on DataFrames"
   ]
  },
  {
   "cell_type": "code",
   "execution_count": null,
   "metadata": {
    "cell_id": "00019-8d267528-d105-4ed8-8195-e17675e2da7b",
    "execution_millis": 8,
    "execution_start": 1604929252129,
    "output_cleared": false,
    "slideshow": {
     "slide_type": "fragment"
    },
    "source_hash": "c5c5d86d"
   },
   "outputs": [],
   "source": [
    "french_cities['Lati']  # DF [] accesses columns (Series)"
   ]
  },
  {
   "cell_type": "markdown",
   "metadata": {
    "cell_id": "00020-90df6c20-a370-4856-b530-e62d3b27a27a",
    "slideshow": {
     "slide_type": "slide"
    }
   },
   "source": [
    "`.loc` and `.iloc` allow to access individual values, slices or masked selections:"
   ]
  },
  {
   "cell_type": "code",
   "execution_count": null,
   "metadata": {
    "cell_id": "00021-fb0a5b50-0b2f-4619-a6d6-e36d1bfa78e0",
    "execution_millis": 11,
    "execution_start": 1604929254001,
    "output_cleared": false,
    "slideshow": {
     "slide_type": "fragment"
    },
    "source_hash": "b5989654"
   },
   "outputs": [],
   "source": [
    "french_cities.loc['Rennes', \"Sep\"]"
   ]
  },
  {
   "cell_type": "code",
   "execution_count": null,
   "metadata": {
    "cell_id": "00022-86d74db4-f444-456d-b56d-f5210d040bfa",
    "execution_millis": 5,
    "execution_start": 1604929257668,
    "output_cleared": false,
    "slideshow": {
     "slide_type": "fragment"
    },
    "source_hash": "e38bc8ab"
   },
   "outputs": [],
   "source": [
    "french_cities.loc['Rennes', [\"Sep\", \"Dec\"]]"
   ]
  },
  {
   "cell_type": "code",
   "execution_count": null,
   "metadata": {
    "cell_id": "00023-2ae5e898-6451-4058-94a7-4a1991148893",
    "execution_millis": 7,
    "execution_start": 1604929265747,
    "output_cleared": false,
    "slideshow": {
     "slide_type": "fragment"
    },
    "source_hash": "48ff286d"
   },
   "outputs": [],
   "source": [
    "french_cities.loc['Rennes', \"Sep\":\"Dec\"]"
   ]
  },
  {
   "cell_type": "markdown",
   "metadata": {
    "cell_id": "00024-2feb7293-fe02-4f1a-a995-b0261316c99f",
    "slideshow": {
     "slide_type": "slide"
    }
   },
   "source": [
    "## Masking"
   ]
  },
  {
   "cell_type": "code",
   "execution_count": null,
   "metadata": {
    "cell_id": "00025-c366d1f1-e377-4697-9b2f-e8c3aed28b52",
    "execution_millis": 21,
    "execution_start": 1604929267186,
    "output_cleared": false,
    "slideshow": {
     "slide_type": "fragment"
    },
    "source_hash": "6e04c5f8"
   },
   "outputs": [],
   "source": [
    "mask = [True, False] * 6 + 5 * [False]\n",
    "print(french_cities.iloc[:, mask])"
   ]
  },
  {
   "cell_type": "code",
   "execution_count": null,
   "metadata": {
    "cell_id": "00026-676281d6-09aa-4f20-a213-8f24e05676d9",
    "execution_millis": 11,
    "execution_start": 1604929268153,
    "output_cleared": false,
    "slideshow": {
     "slide_type": "fragment"
    },
    "source_hash": "33197cfe"
   },
   "outputs": [],
   "source": [
    "print(french_cities.loc[\"Rennes\", mask])"
   ]
  },
  {
   "cell_type": "markdown",
   "metadata": {
    "cell_id": "00027-c9acb670-8d22-4711-b0f1-ce0d6ce73b75",
    "slideshow": {
     "slide_type": "slide"
    }
   },
   "source": [
    "## New column"
   ]
  },
  {
   "cell_type": "code",
   "execution_count": null,
   "metadata": {
    "cell_id": "00028-7b7c8a44-d1cc-4a89-9942-b5b28f54e48d",
    "execution_millis": 169,
    "execution_start": 1604929269737,
    "output_cleared": false,
    "slideshow": {
     "slide_type": "fragment"
    },
    "source_hash": "33d4611"
   },
   "outputs": [],
   "source": [
    "french_cities[\"std\"] = french_cities.iloc[:,:12].std(axis=1)\n",
    "french_cities"
   ]
  },
  {
   "cell_type": "code",
   "execution_count": null,
   "metadata": {
    "cell_id": "00029-12934356-2631-46cd-ae75-048962cb8a16",
    "execution_millis": 2,
    "execution_start": 1604929270222,
    "output_cleared": false,
    "slideshow": {
     "slide_type": "fragment"
    },
    "source_hash": "e1061317"
   },
   "outputs": [],
   "source": [
    "french_cities = french_cities.drop(\"std\", axis=1) # remove this new column"
   ]
  },
  {
   "cell_type": "code",
   "execution_count": null,
   "metadata": {
    "cell_id": "00030-16672180-0d4d-4c74-9d63-6e6f9f448797",
    "execution_millis": 155,
    "execution_start": 1604929270556,
    "output_cleared": false,
    "slideshow": {
     "slide_type": "skip"
    },
    "source_hash": "fb4a2abe"
   },
   "outputs": [],
   "source": [
    "french_cities"
   ]
  },
  {
   "cell_type": "markdown",
   "metadata": {
    "cell_id": "00031-f0b96700-1a61-4c05-88cd-df07fc2c3359",
    "slideshow": {
     "slide_type": "slide"
    }
   },
   "source": [
    "## Modifying a dataframe with multiple indexing"
   ]
  },
  {
   "cell_type": "code",
   "execution_count": null,
   "metadata": {
    "cell_id": "00032-14658a93-b2f7-46f3-bfe2-50377f95683e",
    "execution_millis": 16,
    "execution_start": 1604929272679,
    "output_cleared": false,
    "slideshow": {
     "slide_type": "fragment"
    },
    "source_hash": "6df209b9"
   },
   "outputs": [],
   "source": [
    "# french_cities['Rennes']['Sep'] = 25 # It does not works and breaks the DataFrame\n",
    "french_cities.loc['Rennes']['Sep'] # = 25 is the right way to do it"
   ]
  },
  {
   "cell_type": "code",
   "execution_count": null,
   "metadata": {
    "cell_id": "00033-5b2ceac7-475d-4f2a-9b5e-e682856691cf",
    "execution_millis": 151,
    "execution_start": 1604929274686,
    "output_cleared": false,
    "slideshow": {
     "slide_type": "skip"
    },
    "source_hash": "fb4a2abe"
   },
   "outputs": [],
   "source": [
    "french_cities"
   ]
  },
  {
   "cell_type": "markdown",
   "metadata": {
    "cell_id": "00034-481d1ac1-b997-4fa7-9ed3-1ec084628cc9",
    "slideshow": {
     "slide_type": "slide"
    }
   },
   "source": [
    "## Transforming datasets"
   ]
  },
  {
   "cell_type": "code",
   "execution_count": null,
   "metadata": {
    "cell_id": "00035-bf089935-a4bd-4fbb-be4a-dad0ec93ab71",
    "execution_millis": 11,
    "execution_start": 1604929277326,
    "output_cleared": false,
    "slideshow": {
     "slide_type": "fragment"
    },
    "source_hash": "3c6e0409"
   },
   "outputs": [],
   "source": [
    "french_cities['Mean'].min(), french_cities['Ampl'].max()"
   ]
  },
  {
   "cell_type": "markdown",
   "metadata": {
    "cell_id": "00036-417ee02f-12b7-44b3-bdf4-fa9df7d51b1c",
    "slideshow": {
     "slide_type": "fragment"
    }
   },
   "source": [
    "## Apply\n",
    "\n",
    "Let's convert the temperature mean from Celsius to Fahrenheit degree."
   ]
  },
  {
   "cell_type": "code",
   "execution_count": null,
   "metadata": {
    "cell_id": "00037-9292c2f7-d414-4c3d-8fd5-05cc784217d5",
    "execution_millis": 7,
    "execution_start": 1604929278399,
    "output_cleared": false,
    "slideshow": {
     "slide_type": "fragment"
    },
    "source_hash": "3a84419b"
   },
   "outputs": [],
   "source": [
    "fahrenheit = lambda T: T*9/5+32\n",
    "french_cities['Mean'].apply(fahrenheit)"
   ]
  },
  {
   "cell_type": "markdown",
   "metadata": {
    "cell_id": "00038-3297ee3d-ed70-4ddc-92a2-c71b7587d9f5",
    "slideshow": {
     "slide_type": "slide"
    }
   },
   "source": [
    "## Sort"
   ]
  },
  {
   "cell_type": "code",
   "execution_count": null,
   "metadata": {
    "cell_id": "00039-0ec6612b-d99a-4d62-ad31-ae12a0728205",
    "execution_millis": 19,
    "execution_start": 1604929281094,
    "output_cleared": false,
    "slideshow": {
     "slide_type": "fragment"
    },
    "source_hash": "26ce0f72"
   },
   "outputs": [],
   "source": [
    "french_cities.sort_values(by='Lati')"
   ]
  },
  {
   "cell_type": "code",
   "execution_count": null,
   "metadata": {
    "cell_id": "00040-fde35918-986d-41b5-a437-0100d64304ba",
    "execution_millis": 130,
    "execution_start": 1604929281429,
    "output_cleared": false,
    "slideshow": {
     "slide_type": "slide"
    },
    "source_hash": "c49a4270"
   },
   "outputs": [],
   "source": [
    "french_cities = french_cities.sort_values(by='Lati',ascending=False)\n",
    "french_cities"
   ]
  },
  {
   "cell_type": "markdown",
   "metadata": {
    "cell_id": "00041-6952c950-1baa-4e6e-8c9f-51fc4ec19182",
    "slideshow": {
     "slide_type": "slide"
    }
   },
   "source": [
    "## Stack and unstack\n",
    "\n",
    "Instead of seeing the months along the axis 1, and the cities along the axis 0, let's try to convert these into an outer and an inner axis along only 1 time dimension."
   ]
  },
  {
   "cell_type": "code",
   "execution_count": null,
   "metadata": {
    "cell_id": "00042-05765873-9d26-460d-819c-ef7d6d474f7b",
    "execution_millis": 25,
    "execution_start": 1604929283164,
    "output_cleared": false,
    "slideshow": {
     "slide_type": "fragment"
    },
    "source_hash": "cae8748d"
   },
   "outputs": [],
   "source": [
    "pd.set_option(\"display.max_rows\", 20)\n",
    "unstacked = french_cities.iloc[:,:12].unstack()\n",
    "unstacked"
   ]
  },
  {
   "cell_type": "code",
   "execution_count": null,
   "metadata": {
    "cell_id": "00043-46a90b9c-0da5-4ea2-a627-46b62706d8e1",
    "execution_millis": 6,
    "execution_start": 1604929284834,
    "output_cleared": false,
    "slideshow": {
     "slide_type": "subslide"
    },
    "source_hash": "5c13ac1d"
   },
   "outputs": [],
   "source": [
    "type(unstacked)"
   ]
  },
  {
   "cell_type": "markdown",
   "metadata": {
    "cell_id": "00044-cac5722f-da00-42c6-bd72-7be5249e597d",
    "slideshow": {
     "slide_type": "slide"
    }
   },
   "source": [
    "## Transpose"
   ]
  },
  {
   "cell_type": "markdown",
   "metadata": {
    "cell_id": "00045-e1ed5654-efdd-4503-be89-0cff38d61551",
    "slideshow": {
     "slide_type": "fragment"
    }
   },
   "source": [
    "The result is grouped in the wrong order since it sorts first the axis that was unstacked. We need to transpose the dataframe."
   ]
  },
  {
   "cell_type": "code",
   "execution_count": null,
   "metadata": {
    "cell_id": "00046-bbf8a9f3-89a6-496a-bc90-421b9fd5593d",
    "execution_millis": 966,
    "execution_start": 1604929285491,
    "output_cleared": false,
    "slideshow": {
     "slide_type": "slide"
    },
    "source_hash": "efb0ae18"
   },
   "outputs": [],
   "source": [
    "city_temp = french_cities.iloc[:,:12].transpose()\n",
    "city_temp.plot()"
   ]
  },
  {
   "cell_type": "code",
   "execution_count": null,
   "metadata": {
    "cell_id": "00047-2098bbe9-19f1-4eb6-92d9-48cc69c7e2f1",
    "execution_millis": 835,
    "execution_start": 1604929289192,
    "output_cleared": false,
    "slideshow": {
     "slide_type": "slide"
    },
    "source_hash": "937b7cd1"
   },
   "outputs": [],
   "source": [
    "city_temp.boxplot(rot=90);"
   ]
  },
  {
   "cell_type": "markdown",
   "metadata": {
    "cell_id": "00048-ff80ee1b-562d-439c-a4c1-6a1023975aa3",
    "slideshow": {
     "slide_type": "slide"
    }
   },
   "source": [
    "## Describing"
   ]
  },
  {
   "cell_type": "code",
   "execution_count": null,
   "metadata": {
    "cell_id": "00049-a5a1e30a-2e23-4752-afc1-72b5704ed14b",
    "execution_millis": 2,
    "execution_start": 1604929290050,
    "output_cleared": false,
    "slideshow": {
     "slide_type": "fragment"
    },
    "source_hash": "b5dc77ef"
   },
   "outputs": [],
   "source": [
    "french_cities['Région'].describe()"
   ]
  },
  {
   "cell_type": "code",
   "execution_count": null,
   "metadata": {
    "cell_id": "00050-4f2da8ac-1b8b-4330-89fb-1465dda137bf",
    "execution_millis": 1,
    "execution_start": 1604929291231,
    "output_cleared": false,
    "slideshow": {
     "slide_type": "fragment"
    },
    "source_hash": "fabe831"
   },
   "outputs": [],
   "source": [
    "french_cities['Région'].unique()"
   ]
  },
  {
   "cell_type": "code",
   "execution_count": null,
   "metadata": {
    "cell_id": "00051-e49dd603-cd1c-4476-910a-ec0d50d96265",
    "execution_millis": 15,
    "execution_start": 1604929293473,
    "output_cleared": false,
    "slideshow": {
     "slide_type": "fragment"
    },
    "source_hash": "24228889"
   },
   "outputs": [],
   "source": [
    "french_cities['Région'].value_counts()"
   ]
  },
  {
   "cell_type": "code",
   "execution_count": null,
   "metadata": {
    "cell_id": "00052-501d65e1-a478-4f60-9718-6660c0b06597",
    "execution_millis": 12,
    "execution_start": 1604929294893,
    "output_cleared": false,
    "slideshow": {
     "slide_type": "fragment"
    },
    "source_hash": "bc954d26"
   },
   "outputs": [],
   "source": [
    "# To save memory, we can convert it to a categorical column:\n",
    "french_cities[\"Région\"] = french_cities[\"Région\"].astype(\"category\")"
   ]
  },
  {
   "cell_type": "code",
   "execution_count": null,
   "metadata": {
    "cell_id": "00053-a326bf61-d92b-44bd-b9bb-5971b3ff1cb2",
    "execution_millis": 17,
    "execution_start": 1604929296449,
    "output_cleared": false,
    "slideshow": {
     "slide_type": "skip"
    },
    "source_hash": "aac71f04"
   },
   "outputs": [],
   "source": [
    "french_cities.memory_usage()"
   ]
  },
  {
   "cell_type": "markdown",
   "metadata": {
    "cell_id": "00054-5d56daaa-5028-4ada-ad37-df5cdb012c9a",
    "slideshow": {
     "slide_type": "slide"
    }
   },
   "source": [
    "## Data Aggregation/summarization\n",
    "\n",
    "## groupby"
   ]
  },
  {
   "cell_type": "code",
   "execution_count": null,
   "metadata": {
    "cell_id": "00055-83791040-c079-42e6-861b-43783e94be77",
    "execution_millis": 9,
    "execution_start": 1604929298683,
    "output_cleared": false,
    "slideshow": {
     "slide_type": "fragment"
    },
    "source_hash": "2c7ff5cf"
   },
   "outputs": [],
   "source": [
    "fc_grouped_region = french_cities.groupby(\"Région\")\n",
    "type(fc_grouped_region)"
   ]
  },
  {
   "cell_type": "code",
   "execution_count": null,
   "metadata": {
    "cell_id": "00056-d2c21f4d-c8df-422f-966b-18e6c204d0b1",
    "execution_millis": 7,
    "execution_start": 1604929300011,
    "output_cleared": false,
    "slideshow": {
     "slide_type": "fragment"
    },
    "source_hash": "8f3dff8a"
   },
   "outputs": [],
   "source": [
    "for group_name, subdf in fc_grouped_region:\n",
    "    print(group_name)\n",
    "    print(subdf)\n",
    "    print(\"\")"
   ]
  },
  {
   "cell_type": "markdown",
   "metadata": {
    "cell_id": "00057-c4990820-12fd-423d-9118-dab17ba80b3a",
    "slideshow": {
     "slide_type": "slide"
    }
   },
   "source": [
    "### Exercise\n",
    "\n",
    "Consider the following dataset [UCI Machine Learning Repository Combined Cycle Power Plant Data Set](https://archive.ics.uci.edu/ml/datasets/Combined+Cycle+Power+Plant).\n",
    "This dataset consists of records of measurements relating to peaker power plants of 10000 points over 6 years (2006-2011).\n",
    "\n",
    "**Variables**\n",
    "- AT = Atmospheric Temperature in C\n",
    "- V = Exhaust Vaccum Speed\n",
    "- AP = Atmospheric Pressure\n",
    "- RH = Relative Humidity\n",
    "- PE = Power Output\n",
    "\n",
    "We want to model the power output as a function of the other parameters.\n",
    "\n",
    "Observations are in 5 excel sheets of about 10000 records in \"Folds5x2_pp.xlsx\". These 5 sheets are same data shuffled.\n",
    "- Read this file with the pandas function [read_excel](https://pandas.pydata.org/pandas-docs/stable/reference/api/pandas.read_excel.html). What is the type returned by this function?\n",
    "- Implement a `select` function to regroup all observations in a pandas serie.\n",
    "- Use `select` function and `corr` to compute the maximum correlation.\n",
    "- Parallelize this loop with `concurrent.futures`."
   ]
  },
  {
   "cell_type": "code",
   "execution_count": null,
   "metadata": {
    "cell_id": "00059-e1cdbb6e-d8cb-41d6-a0ce-c79fd1987f6d",
    "execution_millis": 6788,
    "execution_start": 1604930104289,
    "output_cleared": false,
    "source_hash": "84c274bc",
    "tags": []
   },
   "outputs": [],
   "source": [
    "import numpy as np\n",
    " \n",
    "df = pd.read_excel('data/Folds5x2_pp.xlsx')\n",
    "df.columns"
   ]
  },
  {
   "cell_type": "code",
   "execution_count": null,
   "metadata": {
    "cell_id": "00060-7c284e28-e7ae-40ee-b284-8cc2da2b87af",
    "execution_millis": 7,
    "execution_start": 1604930229279,
    "output_cleared": false,
    "source_hash": "d7b6d2d7",
    "tags": []
   },
   "outputs": [],
   "source": [
    "df['AT']"
   ]
  },
  {
   "cell_type": "code",
   "execution_count": null,
   "metadata": {
    "cell_id": "00059-d45ac30b-e272-4ffe-99ef-367beb289be1",
    "execution_millis": 5,
    "execution_start": 1604930252774,
    "output_cleared": false,
    "source_hash": "e1fc145f",
    "tags": []
   },
   "outputs": [],
   "source": [
    "results = {}\n",
    " \n",
    "for a in df.columns:\n",
    "    for b in df.columns:\n",
    "        if a != b:\n",
    "            results[a, b] = abs(df[a].corr(df[b]))\n",
    " \n",
    "((a, b), corr) = max(results.items(), key=lambda kv: kv[1])\n",
    "print(f\"{a} matches with {b} with correlation {corr}\")\n"
   ]
  },
  {
   "cell_type": "code",
   "execution_count": null,
   "metadata": {
    "cell_id": "00058-6d92b56d-393c-4d2b-8f6c-324e9dab664f",
    "execution_millis": 43,
    "execution_start": 1604930297846,
    "output_cleared": false,
    "source_hash": "812c30ae"
   },
   "outputs": [],
   "source": [
    "\n",
    "from concurrent.futures import ThreadPoolExecutor\n",
    " \n",
    "e = ThreadPoolExecutor(2)\n",
    " \n",
    "futures = {}\n",
    " \n",
    "def corr( serie_a, serie_b):\n",
    " \n",
    "    return abs(serie_a.corr(serie_b))\n",
    " \n",
    "for a in df.columns:\n",
    "    for b in df.columns:\n",
    "        if a != b:\n",
    "            futures[a, b] = e.submit( corr, df[a], df[b])\n",
    " \n",
    "results = {k : f.result() for k, f in futures.items()}\n",
    " \n",
    " \n",
    "((a, b), corr) = max(results.items(), key=lambda kv: kv[1])"
   ]
  },
  {
   "cell_type": "code",
   "execution_count": null,
   "metadata": {
    "cell_id": "00060-f9e70625-45bc-4593-8e8e-652d2bff59f3",
    "execution_millis": 3,
    "execution_start": 1604930307501,
    "output_cleared": false,
    "source_hash": "dad58854",
    "tags": []
   },
   "outputs": [],
   "source": [
    "a, b, corr"
   ]
  },
  {
   "cell_type": "code",
   "execution_count": null,
   "metadata": {
    "cell_id": "00064-966aa2a9-7633-446e-a52f-5cac8953e504",
    "tags": []
   },
   "outputs": [],
   "source": []
  }
 ],
 "metadata": {
  "deepnote_execution_queue": [],
  "deepnote_notebook_id": "78b9b317-f922-4ea9-8385-723c97e70640",
  "kernelspec": {
   "display_name": "big-data",
   "language": "python",
   "name": "big-data"
  }
 },
 "nbformat": 4,
 "nbformat_minor": 4
}
