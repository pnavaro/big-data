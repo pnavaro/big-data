{
 "cells": [
  {
   "cell_type": "markdown",
   "metadata": {
    "cell_id": "00000-52ebd828-d2aa-4150-94c4-457471b6a3cd",
    "deepnote_cell_type": "markdown",
    "output_cleared": false,
    "slideshow": {
     "slide_type": "slide"
    }
   },
   "source": [
    "# Dask\n",
    "\n",
    "<img src=\"images/dask_logo.jpg\">"
   ]
  },
  {
   "cell_type": "markdown",
   "metadata": {
    "cell_id": "00001-79be7837-20f4-4102-85cd-a731ae9f3626",
    "deepnote_cell_type": "markdown",
    "output_cleared": false,
    "slideshow": {
     "slide_type": "slide"
    }
   },
   "source": [
    "- process data that doesn't fit into memory by breaking it into blocks and specifying task chains\n",
    "- parallelize execution of tasks across cores and even nodes of a cluster\n",
    "- move computation to the data rather than the other way around, to minimize communication overheads\n",
    "\n",
    "http://dask.pydata.org/en/latest/"
   ]
  },
  {
   "cell_type": "code",
   "execution_count": null,
   "metadata": {
    "cell_id": "00002-4d25f43d-8a30-42d0-b4a8-406689ce13cf",
    "deepnote_cell_type": "code",
    "execution_millis": 261,
    "execution_start": 1604928157843,
    "output_cleared": false,
    "slideshow": {
     "slide_type": "fragment"
    },
    "source_hash": "145bccde"
   },
   "outputs": [],
   "source": [
    "import dask"
   ]
  },
  {
   "cell_type": "markdown",
   "metadata": {
    "cell_id": "00003-b50ba8be-ea79-4407-a128-e8737321f008",
    "deepnote_cell_type": "markdown",
    "output_cleared": false,
    "slideshow": {
     "slide_type": "slide"
    }
   },
   "source": [
    "## Define two slow functions"
   ]
  },
  {
   "cell_type": "code",
   "execution_count": null,
   "metadata": {
    "cell_id": "00004-bdaf2b7c-2b02-488d-9dca-89cf289d6636",
    "deepnote_cell_type": "code",
    "execution_millis": 1,
    "execution_start": 1604928159401,
    "output_cleared": false,
    "slideshow": {
     "slide_type": "fragment"
    },
    "source_hash": "4246c45a"
   },
   "outputs": [],
   "source": [
    "from time import sleep\n",
    "\n",
    "def slowinc(x, delay=1):\n",
    "    sleep(delay)\n",
    "    return x + 1\n",
    "\n",
    "def slowadd(x, y, delay=1):\n",
    "    sleep(delay)\n",
    "    return x + y"
   ]
  },
  {
   "cell_type": "code",
   "execution_count": null,
   "metadata": {
    "cell_id": "00005-709c6ad2-c285-41cc-9242-2731f719b06c",
    "deepnote_cell_type": "code",
    "execution_millis": 3004,
    "execution_start": 1604928160391,
    "output_cleared": false,
    "slideshow": {
     "slide_type": "fragment"
    },
    "source_hash": "5a5a4ebf"
   },
   "outputs": [],
   "source": [
    "%%time\n",
    "x = slowinc(1)\n",
    "y = slowinc(2)\n",
    "z = slowadd(x, y)"
   ]
  },
  {
   "cell_type": "markdown",
   "metadata": {
    "cell_id": "00006-202d629c-5b8f-454f-9bbc-d20eae140d8d",
    "deepnote_cell_type": "markdown",
    "output_cleared": false,
    "slideshow": {
     "slide_type": "slide"
    }
   },
   "source": [
    "## Parallelize with dask.delayed\n",
    "\n",
    "- Functions wrapped by `dask.delayed` don't run immediately, but instead put those functions and arguments into a task graph. \n",
    "- The result is computed separately by calling the `.compute()` method."
   ]
  },
  {
   "cell_type": "code",
   "execution_count": null,
   "metadata": {
    "cell_id": "00007-b872f4aa-b348-44cd-9add-a6947c947632",
    "deepnote_cell_type": "code",
    "execution_millis": 2,
    "execution_start": 1604928168699,
    "output_cleared": false,
    "slideshow": {
     "slide_type": "fragment"
    },
    "source_hash": "6ebfca2f"
   },
   "outputs": [],
   "source": [
    "from dask import delayed"
   ]
  },
  {
   "cell_type": "code",
   "execution_count": null,
   "metadata": {
    "cell_id": "00008-50c7cc67-ef95-4abc-a436-5d2383a61263",
    "deepnote_cell_type": "code",
    "execution_millis": 4,
    "execution_start": 1604928169627,
    "output_cleared": false,
    "slideshow": {
     "slide_type": "fragment"
    },
    "source_hash": "bd3eeed4"
   },
   "outputs": [],
   "source": [
    "x = dask.delayed(slowinc)(1)\n",
    "y = dask.delayed(slowinc)(2)\n",
    "z = dask.delayed(slowadd)(x, y)"
   ]
  },
  {
   "cell_type": "code",
   "execution_count": null,
   "metadata": {
    "cell_id": "00009-23d17b22-0a3d-4e32-8aae-08426be7c50b",
    "deepnote_cell_type": "code",
    "execution_millis": 2047,
    "execution_start": 1604928170971,
    "output_cleared": false,
    "slideshow": {
     "slide_type": "fragment"
    },
    "source_hash": "8d6c6701"
   },
   "outputs": [],
   "source": [
    "%%time\n",
    "z.compute()"
   ]
  },
  {
   "cell_type": "markdown",
   "metadata": {
    "cell_id": "00056-29f2316c-6e07-42ba-a052-0e64beb83831",
    "deepnote_cell_type": "markdown",
    "output_cleared": false
   },
   "source": [
    "### Some questions to consider:\n",
    "\n",
    "-  Why did we go from 3s to 2s?  Why weren't we able to parallelize down to 1s?\n",
    "-  What would have happened if the inc and add functions didn't include the `sleep(1)`?  Would Dask still be able to speed up this code?\n",
    "-  What if we have multiple outputs or also want to get access to x or y?"
   ]
  },
  {
   "cell_type": "markdown",
   "metadata": {
    "cell_id": "00010-3be0ba87-44a8-4869-b685-8098d9c02b96",
    "deepnote_cell_type": "markdown",
    "output_cleared": false,
    "slideshow": {
     "slide_type": "slide"
    }
   },
   "source": [
    "## Dask graph\n",
    "\n",
    "- Contains description of the calculations necessary to produce the result. \n",
    "- The z object is a lazy Delayed object. This object holds everything we need to compute the final result. We can compute the result with .compute() as above or we can visualize the task graph for this value with .visualize()."
   ]
  },
  {
   "cell_type": "code",
   "execution_count": null,
   "metadata": {
    "cell_id": "00011-5f32f2e0-51f9-4e56-9ea1-6a58c815c6c5",
    "deepnote_cell_type": "code",
    "execution_millis": 114,
    "execution_start": 1604928174844,
    "output_cleared": false,
    "slideshow": {
     "slide_type": "fragment"
    },
    "source_hash": "3d8a266a"
   },
   "outputs": [],
   "source": [
    "z.visualize()"
   ]
  },
  {
   "cell_type": "markdown",
   "metadata": {
    "cell_id": "00012-a85c61c5-ba60-412b-88ed-c2ced106d49b",
    "deepnote_cell_type": "markdown",
    "output_cleared": false,
    "slideshow": {
     "slide_type": "slide"
    }
   },
   "source": [
    "## Parallelize a loop"
   ]
  },
  {
   "cell_type": "code",
   "execution_count": null,
   "metadata": {
    "cell_id": "00013-c881baab-40c3-47d6-b513-321ffe5a8588",
    "deepnote_cell_type": "code",
    "execution_millis": 15,
    "execution_start": 1604928177369,
    "output_cleared": false,
    "slideshow": {
     "slide_type": "fragment"
    },
    "source_hash": "ca27d9b6"
   },
   "outputs": [],
   "source": [
    "%%time\n",
    "data = list(range(8))\n",
    "\n",
    "tasks = []\n",
    "\n",
    "for x in data:\n",
    "    y = slowinc(x)\n",
    "    tasks.append(y)\n",
    "\n",
    "total = sum(tasks)\n",
    "total"
   ]
  },
  {
   "cell_type": "markdown",
   "metadata": {
    "cell_id": "00014-4ee97017-a512-490a-9dab-3930e7ac5d72",
    "deepnote_cell_type": "markdown",
    "output_cleared": false,
    "slideshow": {
     "slide_type": "slide"
    }
   },
   "source": [
    "### Exercise 8.1\n",
    "\n",
    "- Parallelize this by appending the delayed `slowinc` calls to the list `results`.\n",
    "- Display the graph of `total` computation\n",
    "- Compute time elapsed for the computation."
   ]
  },
  {
   "cell_type": "markdown",
   "metadata": {
    "cell_id": "00015-1437e432-172c-4d08-86c1-b299ba80a3cf",
    "deepnote_cell_type": "markdown",
    "output_cleared": false,
    "slideshow": {
     "slide_type": "slide"
    }
   },
   "source": [
    "## Decorator\n",
    "\n",
    "It is also common to see the delayed function used as a decorator. Same example:"
   ]
  },
  {
   "cell_type": "code",
   "execution_count": null,
   "metadata": {
    "cell_id": "00016-45f52943-f239-4265-b026-8110f2c9c1a7",
    "deepnote_cell_type": "code",
    "execution_millis": 2017,
    "execution_start": 1604928185931,
    "output_cleared": false,
    "slideshow": {
     "slide_type": "fragment"
    },
    "source_hash": "52b83e58"
   },
   "outputs": [],
   "source": [
    "%%time\n",
    "\n",
    "@dask.delayed\n",
    "def slowinc(x, delay=1):\n",
    "    sleep(delay)\n",
    "    return x + 1\n",
    "\n",
    "@dask.delayed\n",
    "def slowadd(x, y, delay=1):\n",
    "    sleep(delay)\n",
    "    return x + y\n",
    "\n",
    "x = slowinc(1)\n",
    "y = slowinc(2)\n",
    "z = slowadd(x, y)\n",
    "z.compute()"
   ]
  },
  {
   "cell_type": "code",
   "execution_count": null,
   "metadata": {
    "cell_id": "00019-e4fb6083-ef12-4369-a226-334da8875343",
    "deepnote_cell_type": "code",
    "execution_millis": 83,
    "execution_start": 1604928187955,
    "output_cleared": false,
    "source_hash": "3d8a266a",
    "tags": []
   },
   "outputs": [],
   "source": [
    "z.visualize()"
   ]
  },
  {
   "cell_type": "markdown",
   "metadata": {
    "cell_id": "00017-0d2d6be9-893a-43d2-9369-cb6ef8c9e8ae",
    "deepnote_cell_type": "markdown",
    "output_cleared": false,
    "slideshow": {
     "slide_type": "slide"
    }
   },
   "source": [
    "## Control flow\n",
    "-  Delay only some functions, running a few of them immediately. This is helpful when those functions are fast and help us to determine what other slower functions we should call. \n",
    "- In the example below we iterate through a list of inputs. If that input is even then we want to call `half`. If the input is odd then we want to call `odd_process`. This iseven decision to call `half` or `odd_process` has to be made immediately (not lazily) in order for our graph-building Python code to proceed."
   ]
  },
  {
   "cell_type": "code",
   "execution_count": null,
   "metadata": {
    "cell_id": "00018-7a4c86ba-18df-432a-bd2a-1b767dc6b10f",
    "deepnote_cell_type": "code",
    "execution_millis": 1,
    "execution_start": 1604928190542,
    "output_cleared": false,
    "slideshow": {
     "slide_type": "fragment"
    },
    "source_hash": "c1388939"
   },
   "outputs": [],
   "source": [
    "from random import randint\n",
    "import dask.delayed\n",
    "\n",
    "def half(x):\n",
    "    sleep(1)\n",
    "    return x // 2\n",
    "\n",
    "def odd_process(x):\n",
    "    sleep(1)\n",
    "    return 3*x+1\n",
    "\n",
    "def is_even(x):\n",
    "    return not x % 2\n",
    "\n",
    "data = [randint(0,100) for i in range(8)]\n",
    "\n",
    "result = []\n",
    "for x in data:\n",
    "    if is_even(x):\n",
    "        result.append(half(x))\n",
    "    else:\n",
    "        result.append(odd_process(x))\n",
    "\n",
    "total = sum(result)"
   ]
  },
  {
   "cell_type": "markdown",
   "metadata": {
    "cell_id": "00019-54a20f04-7b92-4998-a411-029fe228b7d8",
    "deepnote_cell_type": "markdown",
    "output_cleared": false,
    "slideshow": {
     "slide_type": "slide"
    }
   },
   "source": [
    "### Exercise 8.2\n",
    "- Parallelize the sequential code above using dask.delayed\n",
    "- You will need to delay some functions, but not all\n",
    "- Visualize and check the computed result"
   ]
  },
  {
   "cell_type": "markdown",
   "metadata": {
    "cell_id": "00020-46e8c1d4-c7ca-4f16-b6ed-76d60e6b2a7d",
    "deepnote_cell_type": "markdown",
    "output_cleared": false,
    "slideshow": {
     "slide_type": "slide"
    }
   },
   "source": [
    "### Exercise 8.3\n",
    "- Parallelize the hdf5 conversion from json files\n",
    "- Create a function `convert_to_hdf`\n",
    "- Use dask.compute function on delayed calls of the funtion created list\n",
    "- Is it really  faster as expected ?\n",
    "\n",
    "Hint: Read [Delayed Best Practices](http://dask.pydata.org/en/latest/delayed-best-practices.html)"
   ]
  },
  {
   "cell_type": "code",
   "execution_count": null,
   "metadata": {
    "cell_id": "00021-2eebfde2-13e4-4f69-bb93-d11e0216112e",
    "deepnote_cell_type": "code",
    "execution_millis": 7,
    "execution_start": 1604928202619,
    "output_cleared": false,
    "source_hash": "cae726ac"
   },
   "outputs": [],
   "source": [
    "import os  # library to get directory and file paths\n",
    "import tarfile # this module makes possible to read and write tar archives\n",
    "\n",
    "def extract_data(name, where):\n",
    "    datadir = os.path.join(where) # directory where extract all datafile\n",
    "    if os.path.exists(datadir): # check if this directory exists\n",
    "       print(\"Extracting data...\")\n",
    "       tar_path = os.path.join(name)  # path to the tgz file\n",
    "       with tarfile.open(tar_path, mode='r:gz') as data: # open the tgz file\n",
    "          data.extractall(datadir)  # extract all data file in datadir\n",
    "            \n",
    "extract_data('data/daily-stock.tgz','data') # this function call will extract json files"
   ]
  },
  {
   "cell_type": "code",
   "execution_count": null,
   "metadata": {
    "cell_id": "00022-0c5ae210-e929-4dc9-80a4-65d82633f166",
    "deepnote_cell_type": "code",
    "execution_millis": 1,
    "execution_start": 1604928207401,
    "output_cleared": false,
    "slideshow": {
     "slide_type": "fragment"
    },
    "source_hash": "c6c7aed9"
   },
   "outputs": [],
   "source": [
    "import dask\n",
    "import os, sys\n",
    "from glob import glob\n",
    "import pandas as pd\n",
    "import json\n",
    "\n",
    "here = os.getcwd() # get the current directory\n",
    "filenames = sorted(glob(os.path.join(here,'data', 'daily-stock', '*.json')))"
   ]
  },
  {
   "cell_type": "code",
   "execution_count": null,
   "metadata": {
    "cell_id": "00030-8e4a6346-7542-46f8-908c-656950c3e738",
    "deepnote_cell_type": "code",
    "execution_millis": 1,
    "execution_start": 1604928209989,
    "output_cleared": false,
    "source_hash": "72b32632",
    "tags": []
   },
   "outputs": [],
   "source": [
    "filenames[:5]"
   ]
  },
  {
   "cell_type": "code",
   "execution_count": null,
   "metadata": {
    "cell_id": "00032-468f2ab1-6937-4414-bc93-3e503beff036",
    "deepnote_cell_type": "code",
    "execution_millis": 1272,
    "execution_start": 1604928213763,
    "output_cleared": false,
    "source_hash": "16bc38b6",
    "tags": []
   },
   "outputs": [],
   "source": [
    "%rm data/daily-stock/*.h5"
   ]
  },
  {
   "cell_type": "markdown",
   "metadata": {
    "cell_id": "00057-db7bc273-1a6b-48c5-bf47-9b0817c22b62",
    "deepnote_cell_type": "markdown",
    "output_cleared": false
   },
   "source": [
    "## Exercise: Parallelizing a Pandas Groupby Reduction\n",
    "\n",
    "In this exercise we read several CSV files and perform a groupby operation in parallel.  We are given sequential code to do this and parallelize it with `dask.delayed`.\n",
    "\n",
    "The computation we will parallelize is to compute the mean departure delay per airport from some historical flight data.  We will do this by using `dask.delayed` together with `pandas`.  In a future section we will do this same exercise with `dask.dataframe`."
   ]
  },
  {
   "cell_type": "markdown",
   "metadata": {
    "cell_id": "00058-130d2bda-07f2-4e27-93b4-58f8b850345f",
    "deepnote_cell_type": "markdown",
    "output_cleared": false
   },
   "source": [
    "### Prep data\n",
    "\n",
    "First, run this code to prep some data.  You don't need to understand this code.\n",
    "\n",
    "This extracts some historical flight data for flights out of NYC between 1990 and 2000. The data is taken from [here](http://stat-computing.org/dataexpo/2009/the-data.html). This should only take a few seconds to run."
   ]
  },
  {
   "cell_type": "markdown",
   "metadata": {
    "cell_id": "00059-4f7a8292-507b-4690-8e34-de2b8a5aac60",
    "deepnote_cell_type": "markdown",
    "output_cleared": false
   },
   "source": [
    "### Inspect data\n",
    "\n",
    "Data are in the file `data/nycflights.tar.gz`. You can extract them with the command\n",
    "```bash\n",
    "tar zxvf nycflights.tar.gz\n",
    "```\n",
    "According to your operating system, double click on the file could do the job."
   ]
  },
  {
   "cell_type": "code",
   "execution_count": null,
   "metadata": {
    "cell_id": "00060-3ed75ae6-57a0-4eed-9e09-30012046e27d",
    "deepnote_cell_type": "code",
    "execution_millis": 3,
    "execution_start": 1604928324013,
    "output_cleared": false,
    "source_hash": "dac8590"
   },
   "outputs": [],
   "source": [
    "extract_data('data/nycflights.tar.gz','data')"
   ]
  },
  {
   "cell_type": "markdown",
   "metadata": {
    "cell_id": "00062-b0b0067f-5f65-42ab-9c3d-eec373377211",
    "deepnote_cell_type": "markdown",
    "output_cleared": false
   },
   "source": [
    "### Read one file with `pandas.read_csv` and compute mean departure delay"
   ]
  },
  {
   "cell_type": "code",
   "execution_count": null,
   "metadata": {
    "cell_id": "00063-571dc5fc-adc1-4c78-8327-8789e66df803",
    "deepnote_cell_type": "code",
    "execution_millis": 1287,
    "execution_start": 1604928326000,
    "output_cleared": false,
    "source_hash": "1e7ce2bd"
   },
   "outputs": [],
   "source": [
    "import pandas as pd\n",
    "df = pd.read_csv(os.path.join(\"data\", \"nycflights\",'1990.csv'))\n",
    "df.head()"
   ]
  },
  {
   "cell_type": "code",
   "execution_count": null,
   "metadata": {
    "cell_id": "00064-89e8646e-fc15-431f-a829-4f996610ba3e",
    "deepnote_cell_type": "code",
    "execution_millis": 11,
    "execution_start": 1604928328770,
    "output_cleared": false,
    "source_hash": "5c6e1e22"
   },
   "outputs": [],
   "source": [
    "# What is the schema?\n",
    "df.dtypes"
   ]
  },
  {
   "cell_type": "code",
   "execution_count": null,
   "metadata": {
    "cell_id": "00065-e7b82501-4d4b-4897-8c54-60be7eb78e78",
    "deepnote_cell_type": "code",
    "execution_millis": 19,
    "execution_start": 1604928330437,
    "output_cleared": false,
    "source_hash": "8b27f206"
   },
   "outputs": [],
   "source": [
    "# What originating airports are in the data?\n",
    "df.Origin.unique()"
   ]
  },
  {
   "cell_type": "code",
   "execution_count": null,
   "metadata": {
    "cell_id": "00066-c5b73f9f-634e-4292-aa87-a037ad381e1b",
    "deepnote_cell_type": "code",
    "execution_millis": 15,
    "execution_start": 1604928331514,
    "output_cleared": false,
    "source_hash": "c59d6c33"
   },
   "outputs": [],
   "source": [
    "# Mean departure delay per-airport for one year\n",
    "df.groupby('Origin').DepDelay.mean()"
   ]
  },
  {
   "cell_type": "markdown",
   "metadata": {
    "cell_id": "00067-6f8e0f0d-ad3d-40e2-890d-7adaf5d875e1",
    "deepnote_cell_type": "markdown",
    "output_cleared": false
   },
   "source": [
    "### Sequential code: Mean Departure Delay Per Airport\n",
    "\n",
    "The above cell computes the mean departure delay per-airport for one year. Here we expand that to all years using a sequential for loop."
   ]
  },
  {
   "cell_type": "code",
   "execution_count": null,
   "metadata": {
    "cell_id": "00068-55d4865b-71d5-43e5-9d57-bd68e47f7bd6",
    "deepnote_cell_type": "code",
    "execution_millis": 5,
    "execution_start": 1604928333654,
    "output_cleared": false,
    "source_hash": "3418c48a"
   },
   "outputs": [],
   "source": [
    "from glob import glob\n",
    "filenames = sorted(glob(os.path.join('data', \"nycflights\", '*.csv')))\n",
    "filenames"
   ]
  },
  {
   "cell_type": "code",
   "execution_count": null,
   "metadata": {
    "cell_id": "00069-57244563-895c-4b4e-babf-722e96a45882",
    "deepnote_cell_type": "code",
    "execution_millis": 9916,
    "execution_start": 1604928335284,
    "output_cleared": false,
    "source_hash": "d67fb36f"
   },
   "outputs": [],
   "source": [
    "%%time\n",
    "\n",
    "sums = []\n",
    "counts = []\n",
    "for fn in filenames:\n",
    "    # Read in file\n",
    "    df = pd.read_csv(fn)\n",
    "    \n",
    "    # Groupby origin airport\n",
    "    by_origin = df.groupby('Origin')\n",
    "    \n",
    "    # Sum of all departure delays by origin\n",
    "    total = by_origin.DepDelay.sum()\n",
    "    \n",
    "    # Number of flights by origin\n",
    "    count = by_origin.DepDelay.count()\n",
    "    \n",
    "    # Save the intermediates\n",
    "    sums.append(total)\n",
    "    counts.append(count)\n",
    "\n",
    "# Combine intermediates to get total mean-delay-per-origin\n",
    "total_delays = sum(sums)\n",
    "n_flights = sum(counts)\n",
    "mean = total_delays / n_flights"
   ]
  },
  {
   "cell_type": "code",
   "execution_count": null,
   "metadata": {
    "cell_id": "00070-7408a639-3dfc-4e36-8f9d-1aad78f8be32",
    "deepnote_cell_type": "code",
    "execution_millis": 1,
    "execution_start": 1604928345215,
    "output_cleared": false,
    "source_hash": "2f430a9c"
   },
   "outputs": [],
   "source": [
    "mean"
   ]
  },
  {
   "cell_type": "markdown",
   "metadata": {
    "cell_id": "00071-642685f8-bb57-4d34-8a9a-c1befd4aeadd",
    "deepnote_cell_type": "markdown",
    "output_cleared": false
   },
   "source": [
    "### Exercise : Parallelize the code above\n",
    "\n",
    "Use `dask.delayed` to parallelize the code above.  Some extra things you will need to know.\n",
    "\n",
    "1.  Methods and attribute access on delayed objects work automatically, so if you have a delayed object you can perform normal arithmetic, slicing, and method calls on it and it will produce the correct delayed calls.\n",
    "\n",
    "    ```python\n",
    "    x = delayed(np.arange)(10)\n",
    "    y = (x + 1)[::2].sum()  # everything here was delayed\n",
    "    ```\n",
    "2.  Calling the `.compute()` method works well when you have a single output.  When you have multiple outputs you might want to use the `dask.compute` function:\n",
    "\n",
    "    ```python\n",
    "    >>> x = delayed(np.arange)(10)\n",
    "    >>> y = x ** 2\n",
    "    >>> min, max = compute(y.min(), y.max())\n",
    "    (0, 81)\n",
    "    ```\n",
    "    \n",
    "    This way Dask can share the intermediate values (like `y = x**2`)\n",
    "    \n",
    "So your goal is to parallelize the code above (which has been copied below) using `dask.delayed`.  You may also want to visualize a bit of the computation to see if you're doing it correctly."
   ]
  }
 ],
 "metadata": {
  "@webio": {
   "lastCommId": null,
   "lastKernelId": null
  },
  "deepnote_execution_queue": [],
  "deepnote_notebook_id": "27ef8efc-ce41-465b-b4ba-e71328ecfc53",
  "kernelspec": {
   "display_name": "big-data",
   "language": "python",
   "name": "big-data"
  },
  "language_info": {
   "codemirror_mode": {
    "name": "ipython",
    "version": 3
   },
   "file_extension": ".py",
   "mimetype": "text/x-python",
   "name": "python",
   "nbconvert_exporter": "python",
   "pygments_lexer": "ipython3",
   "version": "3.8.12"
  }
 },
 "nbformat": 4,
 "nbformat_minor": 4
}
