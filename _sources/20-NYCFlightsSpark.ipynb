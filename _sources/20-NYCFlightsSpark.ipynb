{
 "cells": [
  {
   "cell_type": "markdown",
   "metadata": {
    "cell_id": "8d0a5548941a4559861f9fdb95fa37b3",
    "deepnote_cell_height": 494.59375,
    "deepnote_cell_type": "markdown",
    "slideshow": {
     "slide_type": "slide"
    }
   },
   "source": [
    "# NYC Flights data analysis with Spark\n",
    "\n",
    "Reference : [so many pyspark examples](https://github.com/rich-iannone/so-many-pyspark-examples)\n",
    "\n",
    "In this notebook, we will extracts some historical flight data for flights out of NYC between 1990 and 2000. The data is taken from [here](http://stat-computing.org/dataexpo/2009/the-data.html). "
   ]
  },
  {
   "cell_type": "markdown",
   "metadata": {},
   "source": [
    "**Variable descriptions**\n",
    "\n",
    " Name\tDescription\n",
    " \n",
    " 1.\t`Year` 1987-2008\n",
    " 2.\t`Month` 1-12\n",
    " 3. `DayofMonth` 1-31\n",
    " 4.\t`DayOfWeek` 1 (Monday) - 7 (Sunday)\n",
    " 5.\t`DepTime` actual departure time (local, hhmm)\n",
    " 6.\t`CRSDepTime` scheduled departure time (local, hhmm)\n",
    " 7.\t`ArrTime` actual arrival time (local, hhmm)\n",
    " 8.\t`CRSArrTime` scheduled arrival time (local, hhmm)\n",
    " 9.\t`UniqueCarrier` unique carrier code\n",
    " 10. `FlightNum` flight number\n",
    " 11. `TailNu` plane tail number\n",
    " 12. `ActualElapsedTime` in minutes\n",
    " 13. `CRSElapsedTime` in minutes\n",
    " 14. `AirTime` in minutes\n",
    " 15. `ArrDelay` arrival delay, in minutes\n",
    " 16. `DepDelay` departure delay, in minutes\n",
    " 17. `Origin` origin IATA airport code\n",
    " 18. `Dest` destination IATA airport code\n",
    " 19. `Distance` in miles\n",
    " 20. `TaxiIn` taxi in time, in minutes\n",
    " 21. `TaxiOut` taxi out time in minutes\n",
    " 22. `Cancelled` was the flight cancelled?\n",
    " 23. `CancellationCode` reason for cancellation (A = carrier, B = weather, C = NAS, D = security)\n",
    " 24. `Diverted` 1 = yes, 0 = no\n",
    " 25. `CarrierDelay` in minutes\n",
    " 26. `WeatherDelay` in minutes\n",
    " 27. `NASDelay` in minutes\n",
    " 28. `SecurityDelay` in minutes\n",
    " 29. `LateAircraftDelay` in minutes"
   ]
  },
  {
   "cell_type": "code",
   "execution_count": null,
   "metadata": {
    "cell_id": "e04e8f8a418840098b98037121ea5da7",
    "deepnote_cell_type": "code",
    "deepnote_to_be_reexecuted": false,
    "execution_millis": 5,
    "execution_start": 1664193365062,
    "output_cleared": false,
    "slideshow": {
     "slide_type": "fragment"
    },
    "source_hash": "88a3037b"
   },
   "outputs": [],
   "source": [
    "from pyspark.sql import SparkSession\n",
    "\n",
    "spark = SparkSession.builder \\\n",
    "        .config(\"spark.cores.max\", \"4\") \\\n",
    "        .appName(\"NYCFlights\") \\\n",
    "        .master(\"spark://b2-120-gra11:7077\") \\\n",
    "        .getOrCreate()\n",
    "\n",
    "\n",
    "nycflights = spark.read.parquet(\"hdfs://localhost:54310/data/nycflights.parquet\")\n",
    "nycflights.show()"
   ]
  },
  {
   "cell_type": "markdown",
   "metadata": {
    "cell_id": "46babeca221b4127a99f409b0060bf58",
    "deepnote_cell_height": 52,
    "deepnote_cell_type": "markdown",
    "slideshow": {
     "slide_type": "slide"
    }
   },
   "source": [
    "Let's take a look to the dataframe scheme"
   ]
  },
  {
   "cell_type": "code",
   "execution_count": null,
   "metadata": {
    "cell_id": "20afface4f594790a03eec65a1c9bfe7",
    "deepnote_cell_type": "code",
    "deepnote_to_be_reexecuted": false,
    "execution_millis": 12,
    "execution_start": 1664193395038,
    "output_cleared": false,
    "slideshow": {
     "slide_type": "fragment"
    },
    "source_hash": "f804c160"
   },
   "outputs": [],
   "source": [
    "nycflights.printSchema()"
   ]
  },
  {
   "cell_type": "markdown",
   "metadata": {
    "cell_id": "9316b884ebbf474a9ac6968f7d56ae4c",
    "deepnote_cell_type": "code",
    "deepnote_to_be_reexecuted": false,
    "execution_millis": 706,
    "execution_start": 1664193427066,
    "output_cleared": false,
    "source_hash": "693ab60a"
   },
   "source": [
    "Let's group and aggregate `groupBy()` will group one or more DF columns and prep them for aggregration functions"
   ]
  },
  {
   "cell_type": "code",
   "execution_count": null,
   "metadata": {
    "cell_id": "9316b884ebbf474a9ac6968f7d56ae4c",
    "deepnote_cell_type": "code",
    "deepnote_to_be_reexecuted": false,
    "execution_millis": 706,
    "execution_start": 1664193427066,
    "output_cleared": false,
    "source_hash": "693ab60a"
   },
   "outputs": [],
   "source": [
    "(nycflights\n",
    " .groupby('Origin') # creates 'GroupedData'\n",
    " .count() # creates a new column with aggregate `count` values\n",
    " .show())"
   ]
  },
  {
   "cell_type": "markdown",
   "metadata": {},
   "source": [
    "Use the `agg()` function to perform multiple aggregations"
   ]
  },
  {
   "cell_type": "code",
   "execution_count": null,
   "metadata": {},
   "outputs": [],
   "source": [
    "(nycflights\n",
    " .groupby('Origin')\n",
    " .agg({'DepDelay': 'avg', 'ArrDelay': 'avg'}) # note the new column names\n",
    " .show())"
   ]
  },
  {
   "cell_type": "markdown",
   "metadata": {},
   "source": [
    "You can't perform multiple aggregrations on the same column (only the last is performed)"
   ]
  },
  {
   "cell_type": "code",
   "execution_count": null,
   "metadata": {},
   "outputs": [],
   "source": [
    "(nycflights\n",
    " .groupby('DayOfWeek')\n",
    " .agg({'DepDelay': 'min', 'DepDelay': 'max'})\n",
    " .show())"
   ]
  },
  {
   "cell_type": "markdown",
   "metadata": {},
   "source": [
    "Use `groupBy()` with a few columns, then aggregate"
   ]
  },
  {
   "cell_type": "code",
   "execution_count": null,
   "metadata": {},
   "outputs": [],
   "source": [
    "(\n",
    "  nycflights\n",
    "  .groupby(['DayOfWeek', 'Origin', 'Dest']) # group by these unique combinations\n",
    "  .count()                              # perform a 'count' aggregation on the groups\n",
    "  .orderBy(['DayOfWeek', 'count'],\n",
    "           ascending = [1, 0])          # order by `DayOfWeek` ascending, `count` descending\n",
    "  .show(40)\n",
    ") \n",
    "     "
   ]
  },
  {
   "cell_type": "markdown",
   "metadata": {},
   "source": [
    "Use `groupBy()` + `pivot()` + an aggregation function to make a pivot table!\n",
    "Get a table of flights by month for each carrier"
   ]
  },
  {
   "cell_type": "code",
   "execution_count": null,
   "metadata": {},
   "outputs": [],
   "source": [
    "(\n",
    "  nycflights\n",
    "  .groupBy('DayOfWeek') # group the data for aggregation by `month` number\n",
    "  .pivot('UniqueCarrier') # provide columns of data by `carrier` abbreviation\n",
    "  .count()          # create aggregations as a count of rows\n",
    "  .show()\n",
    ")\n",
    "     "
   ]
  },
  {
   "cell_type": "markdown",
   "metadata": {},
   "source": [
    "## Column Operations\n",
    "\n",
    "\n",
    "`Column` instances can be created by:\n",
    "\n",
    "(1) Selecting a column from a DataFrame\n",
    "- `df.colName`\n",
    "- `df[\"colName\"]`\n",
    "- `df.select(df.colName)`\n",
    "- `df.withColumn(df.colName)`\n",
    "\n",
    "(2) Creating one from an expression\n",
    "- `df.colName + 1`\n",
    "- `1 / df.colName`\n",
    "\n",
    "Once you have a `Column` instance, you can apply a wide range of functions. Some of the functions covered here are:\n",
    "- `format_number()`: apply formatting to a number, rounded to `d` decimal places, and return the result as a string\n",
    "- `when()` & `otherwise()`: `when()` evaluates a list of conditions and returns one of multiple possible result expressions; if `otherwise()` is not invoked, `None` is returned for unmatched conditions\n",
    "- `concat_ws()`: concatenates multiple input string columns together into a single string column, using the given separator\n",
    "- `to_utc_timestamp()`: assumes the given timestamp is in given timezone and converts to UTC\n",
    "- `year()`: extracts the year of a given date as integer\n",
    "- `month()`: extracts the month of a given date as integer\n",
    "- `dayofmonth()`: extracts the day of the month of a given date as integer\n",
    "- `hour()`: extract the hour of a given date as integer\n",
    "- `minute()`: extract the minute of a given date as integer"
   ]
  },
  {
   "cell_type": "markdown",
   "metadata": {},
   "source": [
    "Perform 2 different aggregations, rename those new columns, then do some rounding of the aggregrate values\n"
   ]
  },
  {
   "cell_type": "code",
   "execution_count": null,
   "metadata": {},
   "outputs": [],
   "source": [
    "from pyspark.sql.functions import *\n",
    "\n",
    "(\n",
    "  nycflights\n",
    "  .groupby('DayOfWeek')\n",
    "  .agg({'DepDelay': 'avg', 'ArrDelay': 'avg'})\n",
    "  .withColumnRenamed('avg(DepDelay)', 'mean_arr_delay')\n",
    "  .withColumnRenamed('avg(ArrDelay)', 'mean_dep_delay')\n",
    "  .withColumn('mean_arr_delay', format_number('mean_arr_delay', 1))\n",
    "  .withColumn('mean_dep_delay', format_number('mean_dep_delay', 1))\n",
    "  .show()\n",
    ")"
   ]
  },
  {
   "cell_type": "markdown",
   "metadata": {},
   "source": [
    "Add a new column (`far_or_near`) with a string based on a comparison\n",
    "on a numeric column; uses: `withColumn()`, `when()`, and `otherwise()`"
   ]
  },
  {
   "cell_type": "code",
   "execution_count": null,
   "metadata": {},
   "outputs": [],
   "source": [
    "from pyspark.sql.types import *  # Necessary for creating schemas\n",
    "from pyspark.sql.functions import * # Importing PySpark functions\n",
    "\n",
    "(\n",
    "  nycflights\n",
    "  .withColumn('far_or_near',\n",
    "              when(nycflights.Distance > 1000, 'far') # the `if-then` statement\n",
    "              .otherwise('near'))                     # the `else` statement\n",
    "  .select([\"Origin\", \"Dest\", \"far_or_near\"])\n",
    "  .distinct()\n",
    "  .show()\n",
    ")"
   ]
  },
  {
   "cell_type": "markdown",
   "metadata": {},
   "source": [
    "Perform a few numerical computations across columns"
   ]
  },
  {
   "cell_type": "code",
   "execution_count": null,
   "metadata": {},
   "outputs": [],
   "source": [
    "(\n",
    "  nycflights\n",
    "  .withColumn('dist_per_minute',\n",
    "              nycflights.Distance / nycflights.AirTime) # create new column with division of values\n",
    "  .withColumn('dist_per_minute',\n",
    "              format_number('dist_per_minute', 2))       # round that new column's float value to 2 decimal places\n",
    "  .select([\"Origin\", \"Dest\", \"dist_per_minute\"])\n",
    "  .distinct()\n",
    "  .show()\n",
    ")"
   ]
  },
  {
   "cell_type": "markdown",
   "metadata": {},
   "source": [
    "You can split the date if you need. Use the `year()`, `month()`, `dayofmonth()`,`hour()`, and `minute()` functions with `withColumn()`"
   ]
  },
  {
   "cell_type": "code",
   "execution_count": null,
   "metadata": {},
   "outputs": [],
   "source": [
    "(\n",
    "  nycflights\n",
    "  .withColumn('Year', year(nycflights.Date))\n",
    "  .withColumn('Month', month(nycflights.Date))\n",
    "  .withColumn('Day', dayofmonth(nycflights.Date))\n",
    "  .select([\"Day\", \"Month\", \"Year\"])\n",
    "  .distinct()\n",
    "  .show()\n",
    ")"
   ]
  },
  {
   "cell_type": "markdown",
   "metadata": {},
   "source": [
    "There are more time-based functions:\n",
    "- `date_sub()`: subtract an integer number of days from a *Date* or *Timestamp*\n",
    "- `date_add()`: add an integer number of days from a *Date* or *Timestamp*\n",
    "- `datediff()`: get the difference between two dates\n",
    "- `add_months()`: add an integer number of months\n",
    "- `months_between()`: get the number of months between two dates\n",
    "- `next_day()`: returns the first date which is later than the value of the date column\n",
    "- `last_day()`: returns the last day of the month which the given date belongs to\n",
    "- `dayofmonth()`: extract the day of the month of a given date as integer\n",
    "- `dayofyear()`: extract the day of the year of a given date as integer\n",
    "- `weekofyear()`: extract the week number of a given date as integer\n",
    "- `quarter()`: extract the quarter of a given date"
   ]
  },
  {
   "cell_type": "markdown",
   "metadata": {},
   "source": [
    "Let's transform the timestamp in the first record of `nycflights` with each of these functions"
   ]
  },
  {
   "cell_type": "code",
   "execution_count": null,
   "metadata": {},
   "outputs": [],
   "source": [
    "(\n",
    "  nycflights\n",
    "   .limit(10)\n",
    "   .select('Date')\n",
    "   .withColumn('dayofyear', dayofyear(nycflights.Date))\n",
    "   .withColumn('weekofyear', weekofyear(nycflights.Date))\n",
    "   .show()\n",
    "   )"
   ]
  },
  {
   "cell_type": "code",
   "execution_count": null,
   "metadata": {},
   "outputs": [],
   "source": [
    "spark.stop()"
   ]
  }
 ],
 "metadata": {
  "deepnote": {},
  "deepnote_execution_queue": [],
  "deepnote_notebook_id": "aea00890933e4d91be101c2c40bd0c29",
  "jupytext": {
   "cell_metadata_json": true,
   "encoding": "# -*- coding: utf-8 -*-"
  },
  "kernelspec": {
   "display_name": "Python 3 (ipykernel)",
   "language": "python",
   "name": "python3"
  },
  "language_info": {
   "codemirror_mode": {
    "name": "ipython",
    "version": 3
   },
   "file_extension": ".py",
   "mimetype": "text/x-python",
   "name": "python",
   "nbconvert_exporter": "python",
   "pygments_lexer": "ipython3",
   "version": "3.9.13"
  }
 },
 "nbformat": 4,
 "nbformat_minor": 4
}
