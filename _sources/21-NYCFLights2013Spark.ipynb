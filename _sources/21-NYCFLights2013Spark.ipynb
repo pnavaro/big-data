{
 "cells": [
  {
   "cell_type": "markdown",
   "metadata": {
    "cell_id": "8d0a5548941a4559861f9fdb95fa37b3",
    "deepnote_cell_height": 494.59375,
    "deepnote_cell_type": "markdown",
    "slideshow": {
     "slide_type": "slide"
    }
   },
   "source": [
    "# NYC Flights data 2013 with Weather data\n",
    "\n",
    "Reference : https://github.com/rich-iannone/so-many-pyspark-examples/blob/main/spark-dataframes.ipynb\n",
    "\n"
   ]
  },
  {
   "cell_type": "code",
   "execution_count": 1,
   "metadata": {
    "cell_id": "e04e8f8a418840098b98037121ea5da7",
    "deepnote_cell_type": "code",
    "deepnote_to_be_reexecuted": false,
    "execution_millis": 5,
    "execution_start": 1664193365062,
    "output_cleared": false,
    "slideshow": {
     "slide_type": "fragment"
    },
    "source_hash": "88a3037b"
   },
   "outputs": [
    {
     "name": "stdout",
     "output_type": "stream",
     "text": [
      "22/12/05 17:02:44 WARN Utils: Your hostname, b2-120-gra11 resolves to a loopback address: 127.0.1.1; using 141.94.168.194 instead (on interface ens3)\n",
      "22/12/05 17:02:44 WARN Utils: Set SPARK_LOCAL_IP if you need to bind to another address\n"
     ]
    },
    {
     "name": "stderr",
     "output_type": "stream",
     "text": [
      "Setting default log level to \"WARN\".\n",
      "To adjust logging level use sc.setLogLevel(newLevel). For SparkR, use setLogLevel(newLevel).\n"
     ]
    },
    {
     "name": "stdout",
     "output_type": "stream",
     "text": [
      "22/12/05 17:02:46 WARN NativeCodeLoader: Unable to load native-hadoop library for your platform... using builtin-java classes where applicable\n"
     ]
    }
   ],
   "source": [
    "from pyspark.sql import SparkSession\n",
    "\n",
    "spark = SparkSession.builder \\\n",
    "        .config(\"spark.executor.memory\", \"8g\") \\\n",
    "        .appName(\"Convert CSV to parquet\") \\\n",
    "        .master(\"spark://b2-120-gra11:7077\") \\\n",
    "        .getOrCreate()\n"
   ]
  },
  {
   "cell_type": "markdown",
   "metadata": {},
   "source": [
    "## Joins\n",
    "\n",
    "Joins are easily performed with Spark DataFrames. The expression is:\n",
    "\n",
    "`join(other, on = None, how = None)`\n",
    "\n",
    "where:\n",
    "- other: a DataFrame that serves as the right side of the join\n",
    "- on: typically a join expression\n",
    "- how: the default is `inner` but there are also `inner`, `outer`, `left_outer`, `right_outer`, and `leftsemi` joins available"
   ]
  },
  {
   "cell_type": "markdown",
   "metadata": {},
   "source": [
    "Let's load in some more data so that we can have two DataFrames to join. The **CSV** file `weather.csv` contains hourly meteorological data from EWR during 2013. `nycflights2013.csv` contains flights data duringthe same period.\n",
    "Lets create nycflights2013 using a schema object made with `pyspark.sql.type``"
   ]
  },
  {
   "cell_type": "code",
   "execution_count": 2,
   "metadata": {},
   "outputs": [
    {
     "name": "stderr",
     "output_type": "stream",
     "text": [
      "                                                                                \r"
     ]
    },
    {
     "name": "stdout",
     "output_type": "stream",
     "text": [
      "+----+-----+----+--------+---------+--------+---------+-------+-------+------+------+----+--------+--------+----+------+\n",
      "|year|month| day|dep_time|dep_delay|arr_time|arr_delay|carrier|tailnum|flight|origin|dest|air_time|distance|hour|minute|\n",
      "+----+-----+----+--------+---------+--------+---------+-------+-------+------+------+----+--------+--------+----+------+\n",
      "|null| null|null|dep_time|     null|arr_time|     null|carrier|tailnum|flight|origin|dest|    null|    null|null|  null|\n",
      "|2013|    1|   1|     517|        2|     830|       11|     UA| N14228|  1545|   EWR| IAH|     227|    1400|   5|    17|\n",
      "|2013|    1|   1|     533|        4|     850|       20|     UA| N24211|  1714|   LGA| IAH|     227|    1416|   5|    33|\n",
      "|2013|    1|   1|     542|        2|     923|       33|     AA| N619AA|  1141|   JFK| MIA|     160|    1089|   5|    42|\n",
      "|2013|    1|   1|     544|       -1|    1004|      -18|     B6| N804JB|   725|   JFK| BQN|     183|    1576|   5|    44|\n",
      "|2013|    1|   1|     554|       -6|     812|      -25|     DL| N668DN|   461|   LGA| ATL|     116|     762|   5|    54|\n",
      "|2013|    1|   1|     554|       -4|     740|       12|     UA| N39463|  1696|   EWR| ORD|     150|     719|   5|    54|\n",
      "|2013|    1|   1|     555|       -5|     913|       19|     B6| N516JB|   507|   EWR| FLL|     158|    1065|   5|    55|\n",
      "|2013|    1|   1|     557|       -3|     709|      -14|     EV| N829AS|  5708|   LGA| IAD|      53|     229|   5|    57|\n",
      "|2013|    1|   1|     557|       -3|     838|       -8|     B6| N593JB|    79|   JFK| MCO|     140|     944|   5|    57|\n",
      "|2013|    1|   1|     558|       -2|     753|        8|     AA| N3ALAA|   301|   LGA| ORD|     138|     733|   5|    58|\n",
      "|2013|    1|   1|     558|       -2|     849|       -2|     B6| N793JB|    49|   JFK| PBI|     149|    1028|   5|    58|\n",
      "|2013|    1|   1|     558|       -2|     853|       -3|     B6| N657JB|    71|   JFK| TPA|     158|    1005|   5|    58|\n",
      "|2013|    1|   1|     558|       -2|     924|        7|     UA| N29129|   194|   JFK| LAX|     345|    2475|   5|    58|\n",
      "|2013|    1|   1|     558|       -2|     923|      -14|     UA| N53441|  1124|   EWR| SFO|     361|    2565|   5|    58|\n",
      "|2013|    1|   1|     559|       -1|     941|       31|     AA| N3DUAA|   707|   LGA| DFW|     257|    1389|   5|    59|\n",
      "|2013|    1|   1|     559|        0|     702|       -4|     B6| N708JB|  1806|   JFK| BOS|      44|     187|   5|    59|\n",
      "|2013|    1|   1|     559|       -1|     854|       -8|     UA| N76515|  1187|   EWR| LAS|     337|    2227|   5|    59|\n",
      "|2013|    1|   1|     600|        0|     851|       -7|     B6| N595JB|   371|   LGA| FLL|     152|    1076|   6|     0|\n",
      "|2013|    1|   1|     600|        0|     837|       12|     MQ| N542MQ|  4650|   LGA| ATL|     134|     762|   6|     0|\n",
      "+----+-----+----+--------+---------+--------+---------+-------+-------+------+------+----+--------+--------+----+------+\n",
      "only showing top 20 rows\n",
      "\n"
     ]
    }
   ],
   "source": [
    "from pyspark.sql.types import *  # Necessary for creating schemas\n",
    "from pyspark.sql.functions import * # Importing PySpark functions\n",
    "\n",
    "nycflights_schema = StructType([\n",
    "  StructField('year', IntegerType(), True),\n",
    "  StructField('month', IntegerType(), True),\n",
    "  StructField('day', IntegerType(), True),\n",
    "  StructField('dep_time', StringType(), True),\n",
    "  StructField('dep_delay', IntegerType(), True),\n",
    "  StructField('arr_time', StringType(), True),\n",
    "  StructField('arr_delay', IntegerType(), True),\n",
    "  StructField('carrier', StringType(), True),\n",
    "  StructField('tailnum', StringType(), True),\n",
    "  StructField('flight', StringType(), True),  \n",
    "  StructField('origin', StringType(), True),\n",
    "  StructField('dest', StringType(), True),\n",
    "  StructField('air_time', IntegerType(), True),\n",
    "  StructField('distance', IntegerType(), True),\n",
    "  StructField('hour', IntegerType(), True),\n",
    "  StructField('minute', IntegerType(), True)\n",
    "  ])\n",
    "\n",
    "# ...and then read the CSV with the schema\n",
    "nycflights13_csv = spark.read.csv(\"file:///srv/data/nycflights/nycflights13.csv\", schema = nycflights_schema )\n",
    "nycflights13_csv.show()"
   ]
  },
  {
   "cell_type": "markdown",
   "metadata": {},
   "source": [
    "### Create a proper timestamp.\n",
    "\n",
    "We have all the components: `year`, `month`, `day`, `hour`, and `minute`.\n",
    "\n",
    "Use `concat_ws()` (concatentate with separator) to combine column data into StringType columns such that dates (`-` separator, YYYY-MM-DD) and times (`:` separator, 24-hour time) are formed"
   ]
  },
  {
   "cell_type": "code",
   "execution_count": 3,
   "metadata": {},
   "outputs": [],
   "source": [
    "nycflights13 = \\\n",
    "(nycflights13_csv\n",
    " .withColumn('date',\n",
    "             concat_ws('-',\n",
    "                       nycflights13_csv.year,\n",
    "                       nycflights13_csv.month,\n",
    "                       nycflights13_csv.day))\n",
    " .withColumn('time',\n",
    "             concat_ws(':',\n",
    "                       nycflights13_csv.hour,\n",
    "                       nycflights13_csv.minute)))"
   ]
  },
  {
   "cell_type": "markdown",
   "metadata": {},
   "source": [
    "In a second step, concatenate with `concat_ws()` the `date` and `time` strings (separator is a space); then drop several columns"
   ]
  },
  {
   "cell_type": "code",
   "execution_count": 4,
   "metadata": {},
   "outputs": [],
   "source": [
    "nycflights13 = \\\n",
    "(nycflights13\n",
    " .withColumn('timestamp',\n",
    "             concat_ws(' ',\n",
    "                       nycflights13.date,\n",
    "                       nycflights13.time))\n",
    " .drop('date')     # `drop()` doesn't accept a list of column names, therefore, for every column, \n",
    " .drop('minute')   # we would like to remove from the DataFrame, we must create a new `drop()`\n",
    " .drop('time'))    # statement\n",
    "\n",
    "# In the final step, convert the `timestamp` from\n",
    "# a StringType into a TimestampType\n",
    "nycflights13 = \\\n",
    "(nycflights13\n",
    " .withColumn('timestamp',\n",
    "             to_utc_timestamp(nycflights13.timestamp, 'GMT')))"
   ]
  },
  {
   "cell_type": "markdown",
   "metadata": {},
   "source": [
    "Create a schema object and then read the CSV with the schema"
   ]
  },
  {
   "cell_type": "code",
   "execution_count": 5,
   "metadata": {},
   "outputs": [],
   "source": [
    "weather_schema = StructType([  \n",
    "  StructField('year', IntegerType(), True),\n",
    "  StructField('month', IntegerType(), True),\n",
    "  StructField('day', IntegerType(), True),\n",
    "  StructField('hour', IntegerType(), True),\n",
    "  StructField('temp', FloatType(), True),\n",
    "  StructField('dewp', FloatType(), True),\n",
    "  StructField('humid', FloatType(), True),\n",
    "  StructField('wind_dir', IntegerType(), True),\n",
    "  StructField('wind_speed', FloatType(), True),\n",
    "  StructField('wind_gust', FloatType(), True),\n",
    "  StructField('precip', FloatType(), True),\n",
    "  StructField('pressure', FloatType(), True),\n",
    "  StructField('visib', FloatType(), True)\n",
    "  ])\n",
    "\n",
    "\n",
    "weather = spark.read.csv(\"file:///srv/data/nycflights/weather.csv\", schema = weather_schema)"
   ]
  },
  {
   "cell_type": "code",
   "execution_count": 6,
   "metadata": {},
   "outputs": [
    {
     "name": "stdout",
     "output_type": "stream",
     "text": [
      "+----+-----+----+----+-----+-----+-----+--------+----------+---------+------+--------+-----+\n",
      "|year|month| day|hour| temp| dewp|humid|wind_dir|wind_speed|wind_gust|precip|pressure|visib|\n",
      "+----+-----+----+----+-----+-----+-----+--------+----------+---------+------+--------+-----+\n",
      "|null| null|null|null| null| null| null|    null|      null|     null|  null|    null| null|\n",
      "|2013|    1|   1|   0|37.04|21.92|53.97|     230|  10.35702|11.918652|   0.0|  1013.9| 10.0|\n",
      "|2013|    1|   1|   1|37.04|21.92|53.97|     230|  13.80936|15.891536|   0.0|  1013.0| 10.0|\n",
      "|2013|    1|   1|   2|37.94|21.92|52.09|     230|  12.65858|14.567241|   0.0|  1012.6| 10.0|\n",
      "|2013|    1|   1|   3|37.94| 23.0|54.51|     230|  13.80936|15.891536|   0.0|  1012.7| 10.0|\n",
      "|2013|    1|   1|   4|37.94|24.08|57.04|     240|  14.96014| 17.21583|   0.0|  1012.8| 10.0|\n",
      "|2013|    1|   1|   6|39.02|26.06|59.37|     270|  10.35702|11.918652|   0.0|  1012.0| 10.0|\n",
      "|2013|    1|   1|   7|39.02|26.96|61.63|     250|   8.05546| 9.270062|   0.0|  1012.3| 10.0|\n",
      "|2013|    1|   1|   8|39.02|28.04|64.43|     240|   11.5078|13.242946|   0.0|  1012.5| 10.0|\n",
      "|2013|    1|   1|   9|39.92|28.04|62.21|     250|  12.65858|14.567241|   0.0|  1012.2| 10.0|\n",
      "|2013|    1|   1|  10|39.02|28.04|64.43|     260|  12.65858|14.567241|   0.0|  1011.9| 10.0|\n",
      "|2013|    1|   1|  11|37.94|28.04|67.21|     240|   11.5078|13.242946|   0.0|  1012.4| 10.0|\n",
      "|2013|    1|   1|  12|39.02|28.04|64.43|     240|  14.96014| 17.21583|   0.0|  1012.2| 10.0|\n",
      "|2013|    1|   1|  13|39.92|28.04|62.21|     250|  10.35702|11.918652|   0.0|  1012.2| 10.0|\n",
      "|2013|    1|   1|  14|39.92|28.04|62.21|     260|  14.96014| 17.21583|   0.0|  1012.7| 10.0|\n",
      "|2013|    1|   1|  15| 41.0|28.04|59.65|     260|  13.80936|15.891536|   0.0|  1012.4| 10.0|\n",
      "|2013|    1|   1|  16| 41.0|26.96|57.06|     260|  14.96014| 17.21583|   0.0|  1011.4| 10.0|\n",
      "|2013|    1|   1|  17| 39.2| 28.4|64.93|     270|  16.11092|18.540125|   0.0|    null| 10.0|\n",
      "|2013|    1|   1|  18| 39.2| 28.4|64.93|     330|  14.96014| 17.21583|   0.0|    null| 10.0|\n",
      "|2013|    1|   1|  19|39.02|24.08|54.68|     280|  13.80936|15.891536|   0.0|  1010.8| 10.0|\n",
      "+----+-----+----+----+-----+-----+-----+--------+----------+---------+------+--------+-----+\n",
      "only showing top 20 rows\n",
      "\n"
     ]
    },
    {
     "name": "stderr",
     "output_type": "stream",
     "text": [
      "                                                                                \r"
     ]
    }
   ],
   "source": [
    "weather.show()"
   ]
  },
  {
   "cell_type": "markdown",
   "metadata": {},
   "source": [
    "Join the `nycflights` DF with the `weather` DF "
   ]
  },
  {
   "cell_type": "code",
   "execution_count": 7,
   "metadata": {},
   "outputs": [],
   "source": [
    "nycflights_all_columns = \\\n",
    "(nycflights13\n",
    " .join(weather,\n",
    "       [nycflights13.month == weather.month, # three join conditions: month,\n",
    "        nycflights13.day == weather.day,     #                        day,\n",
    "        nycflights13.hour == weather.hour],  #                        hour\n",
    "       'left_outer')) # left outer join: keep all rows from the left DF (flights), with the matching rows in the right DF (weather)\n",
    "                      # NULLs created if there is no match to the right DF"
   ]
  },
  {
   "cell_type": "code",
   "execution_count": 8,
   "metadata": {},
   "outputs": [
    {
     "name": "stdout",
     "output_type": "stream",
     "text": [
      "root\n",
      " |-- year: integer (nullable = true)\n",
      " |-- month: integer (nullable = true)\n",
      " |-- day: integer (nullable = true)\n",
      " |-- dep_time: string (nullable = true)\n",
      " |-- dep_delay: integer (nullable = true)\n",
      " |-- arr_time: string (nullable = true)\n",
      " |-- arr_delay: integer (nullable = true)\n",
      " |-- carrier: string (nullable = true)\n",
      " |-- tailnum: string (nullable = true)\n",
      " |-- flight: string (nullable = true)\n",
      " |-- origin: string (nullable = true)\n",
      " |-- dest: string (nullable = true)\n",
      " |-- air_time: integer (nullable = true)\n",
      " |-- distance: integer (nullable = true)\n",
      " |-- hour: integer (nullable = true)\n",
      " |-- timestamp: timestamp (nullable = true)\n",
      " |-- year: integer (nullable = true)\n",
      " |-- month: integer (nullable = true)\n",
      " |-- day: integer (nullable = true)\n",
      " |-- hour: integer (nullable = true)\n",
      " |-- temp: float (nullable = true)\n",
      " |-- dewp: float (nullable = true)\n",
      " |-- humid: float (nullable = true)\n",
      " |-- wind_dir: integer (nullable = true)\n",
      " |-- wind_speed: float (nullable = true)\n",
      " |-- wind_gust: float (nullable = true)\n",
      " |-- precip: float (nullable = true)\n",
      " |-- pressure: float (nullable = true)\n",
      " |-- visib: float (nullable = true)\n",
      "\n"
     ]
    }
   ],
   "source": [
    "nycflights_all_columns.printSchema()"
   ]
  },
  {
   "cell_type": "markdown",
   "metadata": {},
   "source": [
    "One way to reduce the number of extraneous columns is to use a `select()` statement"
   ]
  },
  {
   "cell_type": "code",
   "execution_count": 9,
   "metadata": {},
   "outputs": [],
   "source": [
    "nycflights_wind_visib = \\\n",
    "(nycflights_all_columns\n",
    " .select(['timestamp', 'carrier', 'flight',\n",
    "          'origin', 'dest', 'wind_dir',\n",
    "          'wind_speed', 'wind_gust', 'visib']))"
   ]
  },
  {
   "cell_type": "code",
   "execution_count": 10,
   "metadata": {},
   "outputs": [
    {
     "data": {
      "text/plain": [
       "[StructField('timestamp', TimestampType(), True),\n",
       " StructField('carrier', StringType(), True),\n",
       " StructField('flight', StringType(), True),\n",
       " StructField('origin', StringType(), True),\n",
       " StructField('dest', StringType(), True),\n",
       " StructField('wind_dir', IntegerType(), True),\n",
       " StructField('wind_speed', FloatType(), True),\n",
       " StructField('wind_gust', FloatType(), True),\n",
       " StructField('visib', FloatType(), True)]"
      ]
     },
     "execution_count": 10,
     "metadata": {},
     "output_type": "execute_result"
    }
   ],
   "source": [
    "nycflights_wind_visib.schema.fields"
   ]
  },
  {
   "cell_type": "markdown",
   "metadata": {},
   "source": [
    "Let's load in even more data so we can determine if any takeoffs occurred in very windy weather.\n",
    "\n",
    "The **CSV** `beaufort_land.csv` contains Beaufort scale values (the `force` column), wind speed ranges in *mph*, and the name for each wind force."
   ]
  },
  {
   "cell_type": "code",
   "execution_count": 11,
   "metadata": {},
   "outputs": [],
   "source": [
    "# Create a schema object... \n",
    "beaufort_land_schema = StructType([  \n",
    "  StructField('force', IntegerType(), True),\n",
    "  StructField('speed_mi_h_lb', IntegerType(), True),\n",
    "  StructField('speed_mi_h_ub', IntegerType(), True),\n",
    "  StructField('name', StringType(), True)\n",
    "  ])\n",
    "\n",
    "# ...and then read the CSV with the schema\n",
    "beaufort_land = spark.read.csv('/srv/data/nycflights/beaufort_land.csv', \n",
    "                               header = True, schema = beaufort_land_schema)"
   ]
  },
  {
   "cell_type": "code",
   "execution_count": 12,
   "metadata": {},
   "outputs": [
    {
     "name": "stdout",
     "output_type": "stream",
     "text": [
      "+-----+-------------+-------------+---------------+\n",
      "|force|speed_mi_h_lb|speed_mi_h_ub|           name|\n",
      "+-----+-------------+-------------+---------------+\n",
      "|    0|            0|            1|           calm|\n",
      "|    1|            1|            4|      light air|\n",
      "|    2|            5|            7|   light breeze|\n",
      "|    3|            8|           11|  gentle breeze|\n",
      "|    4|           12|           18|moderate breeze|\n",
      "|    5|           19|           24|   fresh breeze|\n",
      "|    6|           25|           31|  strong breeze|\n",
      "|    7|           32|           38|      near gale|\n",
      "|    8|           39|           46|           gale|\n",
      "|    9|           47|           54|    strong gale|\n",
      "|   10|           55|           63|          storm|\n",
      "|   11|           64|           73|  violent storm|\n",
      "|   12|           74|         null|      hurricane|\n",
      "+-----+-------------+-------------+---------------+\n",
      "\n"
     ]
    }
   ],
   "source": [
    "beaufort_land.show()"
   ]
  },
  {
   "cell_type": "markdown",
   "metadata": {},
   "source": [
    "Join the current working DF with the `beaufort_land` DF and use join expressions that use the WS ranges"
   ]
  },
  {
   "cell_type": "code",
   "execution_count": 13,
   "metadata": {},
   "outputs": [],
   "source": [
    "nycflights_wind_visib_beaufort = \\\n",
    "(nycflights_wind_visib\n",
    " .join(beaufort_land,\n",
    "      [nycflights_wind_visib.wind_speed >= beaufort_land.speed_mi_h_lb,\n",
    "       nycflights_wind_visib.wind_speed < beaufort_land.speed_mi_h_ub],\n",
    "       'left_outer')\n",
    " .withColumn('month', month(nycflights_wind_visib.timestamp)) # Create a month column from `timestamp` values\n",
    " .drop('speed_mi_h_lb')\n",
    " .drop('speed_mi_h_ub')\n",
    ")"
   ]
  },
  {
   "cell_type": "code",
   "execution_count": 14,
   "metadata": {},
   "outputs": [
    {
     "name": "stdout",
     "output_type": "stream",
     "text": [
      "root\n",
      " |-- timestamp: timestamp (nullable = true)\n",
      " |-- carrier: string (nullable = true)\n",
      " |-- flight: string (nullable = true)\n",
      " |-- origin: string (nullable = true)\n",
      " |-- dest: string (nullable = true)\n",
      " |-- wind_dir: integer (nullable = true)\n",
      " |-- wind_speed: float (nullable = true)\n",
      " |-- wind_gust: float (nullable = true)\n",
      " |-- visib: float (nullable = true)\n",
      " |-- force: integer (nullable = true)\n",
      " |-- name: string (nullable = true)\n",
      " |-- month: integer (nullable = true)\n",
      "\n"
     ]
    }
   ],
   "source": [
    "nycflights_wind_visib_beaufort.printSchema()"
   ]
  },
  {
   "cell_type": "code",
   "execution_count": 15,
   "metadata": {},
   "outputs": [
    {
     "name": "stderr",
     "output_type": "stream",
     "text": [
      "[Stage 5:>                                                          (0 + 1) / 1]\r"
     ]
    },
    {
     "name": "stdout",
     "output_type": "stream",
     "text": [
      "+-------------------+-------+------+------+----+--------+----------+---------+-----+-----+-------------+-----+\n",
      "|          timestamp|carrier|flight|origin|dest|wind_dir|wind_speed|wind_gust|visib|force|         name|month|\n",
      "+-------------------+-------+------+------+----+--------+----------+---------+-----+-----+-------------+-----+\n",
      "|2013-01-01 06:00:00|     B6|   371|   LGA| FLL|     270|  10.35702|11.918652| 10.0|    3|gentle breeze|    1|\n",
      "|2013-01-01 06:00:00|     MQ|  4650|   LGA| ATL|     270|  10.35702|11.918652| 10.0|    3|gentle breeze|    1|\n",
      "|2013-01-01 06:01:00|     B6|   343|   EWR| PBI|     270|  10.35702|11.918652| 10.0|    3|gentle breeze|    1|\n",
      "|2013-01-01 06:02:00|     DL|  1919|   LGA| MSP|     270|  10.35702|11.918652| 10.0|    3|gentle breeze|    1|\n",
      "|2013-01-01 06:02:00|     MQ|  4401|   LGA| DTW|     270|  10.35702|11.918652| 10.0|    3|gentle breeze|    1|\n",
      "|2013-01-01 06:06:00|     AA|  1895|   EWR| MIA|     270|  10.35702|11.918652| 10.0|    3|gentle breeze|    1|\n",
      "|2013-01-01 06:06:00|     DL|  1743|   JFK| ATL|     270|  10.35702|11.918652| 10.0|    3|gentle breeze|    1|\n",
      "|2013-01-01 06:07:00|     UA|  1077|   EWR| MIA|     270|  10.35702|11.918652| 10.0|    3|gentle breeze|    1|\n",
      "|2013-01-01 06:08:00|     MQ|  3768|   EWR| ORD|     270|  10.35702|11.918652| 10.0|    3|gentle breeze|    1|\n",
      "|2013-01-01 06:11:00|     UA|   303|   JFK| SFO|     270|  10.35702|11.918652| 10.0|    3|gentle breeze|    1|\n",
      "|2013-01-01 06:13:00|     B6|   135|   JFK| RSW|     270|  10.35702|11.918652| 10.0|    3|gentle breeze|    1|\n",
      "|2013-01-01 06:15:00|     B6|   709|   JFK| SJU|     270|  10.35702|11.918652| 10.0|    3|gentle breeze|    1|\n",
      "|2013-01-01 06:15:00|     DL|   575|   EWR| ATL|     270|  10.35702|11.918652| 10.0|    3|gentle breeze|    1|\n",
      "|2013-01-01 06:22:00|     US|   245|   EWR| PHX|     270|  10.35702|11.918652| 10.0|    3|gentle breeze|    1|\n",
      "|2013-01-01 06:23:00|     AA|  1837|   LGA| MIA|     270|  10.35702|11.918652| 10.0|    3|gentle breeze|    1|\n",
      "|2013-01-01 06:23:00|     UA|   496|   LGA| IAH|     270|  10.35702|11.918652| 10.0|    3|gentle breeze|    1|\n",
      "|2013-01-01 06:24:00|     EV|  4626|   EWR| MSP|     270|  10.35702|11.918652| 10.0|    3|gentle breeze|    1|\n",
      "|2013-01-01 06:24:00|     MQ|  4599|   LGA| MSP|     270|  10.35702|11.918652| 10.0|    3|gentle breeze|    1|\n",
      "|2013-01-01 06:27:00|     US|    27|   JFK| PHX|     270|  10.35702|11.918652| 10.0|    3|gentle breeze|    1|\n",
      "|2013-01-01 06:28:00|     AA|   413|   JFK| SJU|     270|  10.35702|11.918652| 10.0|    3|gentle breeze|    1|\n",
      "+-------------------+-------+------+------+----+--------+----------+---------+-----+-----+-------------+-----+\n",
      "only showing top 20 rows\n",
      "\n"
     ]
    },
    {
     "name": "stderr",
     "output_type": "stream",
     "text": [
      "                                                                                \r"
     ]
    }
   ],
   "source": [
    "nycflights_wind_visib_beaufort.filter(\"name IS NOT NULL\").show()"
   ]
  },
  {
   "cell_type": "code",
   "execution_count": 16,
   "metadata": {},
   "outputs": [
    {
     "name": "stderr",
     "output_type": "stream",
     "text": [
      "                                                                                \r"
     ]
    },
    {
     "name": "stdout",
     "output_type": "stream",
     "text": [
      "+-------------------+-------+------+------+----+--------+----------+---------+-----+-----+-------------+-----+\n",
      "|          timestamp|carrier|flight|origin|dest|wind_dir|wind_speed|wind_gust|visib|force|         name|month|\n",
      "+-------------------+-------+------+------+----+--------+----------+---------+-----+-----+-------------+-----+\n",
      "|2013-01-01 06:00:00|     B6|   371|   LGA| FLL|     270|  10.35702|11.918652| 10.0|    3|gentle breeze|    1|\n",
      "|2013-01-01 06:00:00|     MQ|  4650|   LGA| ATL|     270|  10.35702|11.918652| 10.0|    3|gentle breeze|    1|\n",
      "|2013-01-01 06:01:00|     B6|   343|   EWR| PBI|     270|  10.35702|11.918652| 10.0|    3|gentle breeze|    1|\n",
      "|2013-01-01 06:02:00|     DL|  1919|   LGA| MSP|     270|  10.35702|11.918652| 10.0|    3|gentle breeze|    1|\n",
      "|2013-01-01 06:02:00|     MQ|  4401|   LGA| DTW|     270|  10.35702|11.918652| 10.0|    3|gentle breeze|    1|\n",
      "|2013-01-01 06:06:00|     AA|  1895|   EWR| MIA|     270|  10.35702|11.918652| 10.0|    3|gentle breeze|    1|\n",
      "|2013-01-01 06:06:00|     DL|  1743|   JFK| ATL|     270|  10.35702|11.918652| 10.0|    3|gentle breeze|    1|\n",
      "|2013-01-01 06:07:00|     UA|  1077|   EWR| MIA|     270|  10.35702|11.918652| 10.0|    3|gentle breeze|    1|\n",
      "|2013-01-01 06:08:00|     MQ|  3768|   EWR| ORD|     270|  10.35702|11.918652| 10.0|    3|gentle breeze|    1|\n",
      "|2013-01-01 06:11:00|     UA|   303|   JFK| SFO|     270|  10.35702|11.918652| 10.0|    3|gentle breeze|    1|\n",
      "|2013-01-01 06:13:00|     B6|   135|   JFK| RSW|     270|  10.35702|11.918652| 10.0|    3|gentle breeze|    1|\n",
      "|2013-01-01 06:15:00|     B6|   709|   JFK| SJU|     270|  10.35702|11.918652| 10.0|    3|gentle breeze|    1|\n",
      "|2013-01-01 06:15:00|     DL|   575|   EWR| ATL|     270|  10.35702|11.918652| 10.0|    3|gentle breeze|    1|\n",
      "|2013-01-01 06:22:00|     US|   245|   EWR| PHX|     270|  10.35702|11.918652| 10.0|    3|gentle breeze|    1|\n",
      "|2013-01-01 06:23:00|     AA|  1837|   LGA| MIA|     270|  10.35702|11.918652| 10.0|    3|gentle breeze|    1|\n",
      "|2013-01-01 06:23:00|     UA|   496|   LGA| IAH|     270|  10.35702|11.918652| 10.0|    3|gentle breeze|    1|\n",
      "|2013-01-01 06:24:00|     EV|  4626|   EWR| MSP|     270|  10.35702|11.918652| 10.0|    3|gentle breeze|    1|\n",
      "|2013-01-01 06:24:00|     MQ|  4599|   LGA| MSP|     270|  10.35702|11.918652| 10.0|    3|gentle breeze|    1|\n",
      "|2013-01-01 06:27:00|     US|    27|   JFK| PHX|     270|  10.35702|11.918652| 10.0|    3|gentle breeze|    1|\n",
      "|2013-01-01 06:28:00|     AA|   413|   JFK| SJU|     270|  10.35702|11.918652| 10.0|    3|gentle breeze|    1|\n",
      "+-------------------+-------+------+------+----+--------+----------+---------+-----+-----+-------------+-----+\n",
      "only showing top 20 rows\n",
      "\n"
     ]
    }
   ],
   "source": [
    "nycflights_wind_visib_beaufort.filter(\"NOT name IS NULL\").show()"
   ]
  },
  {
   "cell_type": "markdown",
   "metadata": {},
   "source": [
    "We can inspect the number of potentially dangerous\n",
    "takeoffs (i.e., where the Beaufort force is high)\n",
    "month-by-month through the use of the `crosstab()` function"
   ]
  },
  {
   "cell_type": "code",
   "execution_count": 17,
   "metadata": {},
   "outputs": [
    {
     "name": "stderr",
     "output_type": "stream",
     "text": [
      "                                                                                \r"
     ]
    }
   ],
   "source": [
    "crosstab_month_force = \\\n",
    "(nycflights_wind_visib_beaufort\n",
    " .crosstab('month', 'force'))"
   ]
  },
  {
   "cell_type": "code",
   "execution_count": 18,
   "metadata": {},
   "outputs": [
    {
     "name": "stdout",
     "output_type": "stream",
     "text": [
      "+-----------+----+----+----+----+----+----+---+---+---+----+\n",
      "|month_force|   0|   1|   2|   3|   4|   5|  6|  7|  8|null|\n",
      "+-----------+----+----+----+----+----+----+---+---+---+----+\n",
      "|       null|   0|   0|   0|   0|   0|   0|  0|  0|  0|  30|\n",
      "|          5|2758|1688|6620|7334|3634| 736|217| 38|  0|5770|\n",
      "|         10|3140|2430|5086|5647|6053| 374| 50|  0|  0|6108|\n",
      "|          1|1911|1176|5047|6403|5205|1117|521|164| 92|5368|\n",
      "|          6|1389|1864|5140|7305|5744| 704|  1| 39|  0|6056|\n",
      "|          9|1716|2142|5985|8661|3646| 268|  0|  0|  0|5154|\n",
      "|          2|1836|1511|3930|5191|5400|1760|661|  0|  0|4659|\n",
      "|         12|2723|1573|4531|6126|6380| 354|  0|  0|  0|6442|\n",
      "|          7|1530|1739|4753|8686|6285| 343|  0|  0|  0|6083|\n",
      "|          3|1123| 902|3819|6733|7912|2172|445|  0|  0|5725|\n",
      "|         11|1707|1242|4242|5577|6909|1767|471|  0|  0|5352|\n",
      "|          8|2938|3302|6172|7015|3945| 203|  0|  0|  0|5750|\n",
      "|          4|1910|1876|4909|6542|6491|1247| 65|  0|  0|5287|\n",
      "+-----------+----+----+----+----+----+----+---+---+---+----+\n",
      "\n"
     ]
    }
   ],
   "source": [
    "crosstab_month_force.show()"
   ]
  },
  {
   "cell_type": "markdown",
   "metadata": {},
   "source": [
    "After creating the crosstab DataFrame, use a few functions to clean up the resultant DataFrame"
   ]
  },
  {
   "cell_type": "code",
   "execution_count": 19,
   "metadata": {},
   "outputs": [],
   "source": [
    "crosstab_month_force = \\\n",
    "(crosstab_month_force\n",
    " .withColumn('month_force',\n",
    "             crosstab_month_force.month_force.cast('int')) # the column is initially a string but recasting as\n",
    "                                                           # an `int` will aid ordering in the next expression\n",
    " .orderBy('month_force')\n",
    " .drop('null'))"
   ]
  },
  {
   "cell_type": "code",
   "execution_count": 20,
   "metadata": {},
   "outputs": [
    {
     "name": "stdout",
     "output_type": "stream",
     "text": [
      "+-----------+----+----+----+----+----+----+---+---+---+\n",
      "|month_force|   0|   1|   2|   3|   4|   5|  6|  7|  8|\n",
      "+-----------+----+----+----+----+----+----+---+---+---+\n",
      "|       null|   0|   0|   0|   0|   0|   0|  0|  0|  0|\n",
      "|          1|1911|1176|5047|6403|5205|1117|521|164| 92|\n",
      "|          2|1836|1511|3930|5191|5400|1760|661|  0|  0|\n",
      "|          3|1123| 902|3819|6733|7912|2172|445|  0|  0|\n",
      "|          4|1910|1876|4909|6542|6491|1247| 65|  0|  0|\n",
      "|          5|2758|1688|6620|7334|3634| 736|217| 38|  0|\n",
      "|          6|1389|1864|5140|7305|5744| 704|  1| 39|  0|\n",
      "|          7|1530|1739|4753|8686|6285| 343|  0|  0|  0|\n",
      "|          8|2938|3302|6172|7015|3945| 203|  0|  0|  0|\n",
      "|          9|1716|2142|5985|8661|3646| 268|  0|  0|  0|\n",
      "|         10|3140|2430|5086|5647|6053| 374| 50|  0|  0|\n",
      "|         11|1707|1242|4242|5577|6909|1767|471|  0|  0|\n",
      "|         12|2723|1573|4531|6126|6380| 354|  0|  0|  0|\n",
      "+-----------+----+----+----+----+----+----+---+---+---+\n",
      "\n"
     ]
    }
   ],
   "source": [
    "crosstab_month_force.show()"
   ]
  },
  {
   "cell_type": "markdown",
   "metadata": {},
   "source": [
    "## User Defined Functions (UDFs)\n",
    "\n",
    "**UDF**s allow for computations of values while looking at every input row in the DataFrame. They allow you to make your own function and import functionality from other **Python** libraries.\n",
    "\n",
    "Define a function to convert velocity from\n",
    "miles per hour (mph) to meters per second (mps)"
   ]
  },
  {
   "cell_type": "code",
   "execution_count": 24,
   "metadata": {},
   "outputs": [],
   "source": [
    "def mph_to_mps(mph):\n",
    "    try:\n",
    "        mps = mph * 0.44704\n",
    "    except:\n",
    "        mps = 0.0\n",
    "    return mps\n",
    "\n",
    "# Register this function as a UDF using `udf()`\n",
    "mph_to_mps = udf(mph_to_mps, FloatType()) # An output type was specified"
   ]
  },
  {
   "cell_type": "markdown",
   "metadata": {},
   "source": [
    "Create two new columns that are conversions of wind speeds from mph to mps"
   ]
  },
  {
   "cell_type": "code",
   "execution_count": 25,
   "metadata": {},
   "outputs": [
    {
     "name": "stderr",
     "output_type": "stream",
     "text": [
      "                                                                                \r"
     ]
    },
    {
     "name": "stdout",
     "output_type": "stream",
     "text": [
      "+-------------------+-------+------+------+----+--------+--------------+-------------+-----+-----+-------------+-----+--------------+-------------+\n",
      "|          timestamp|carrier|flight|origin|dest|wind_dir|wind_speed_mph|wind_gust_mph|visib|force|         name|month|wind_speed_mps|wind_gust_mps|\n",
      "+-------------------+-------+------+------+----+--------+--------------+-------------+-----+-----+-------------+-----+--------------+-------------+\n",
      "|               null|carrier|flight|origin|dest|    null|          null|         null| null| null|         null| null|           0.0|          0.0|\n",
      "|2013-01-01 05:17:00|     UA|  1545|   EWR| IAH|    null|          null|         null| null| null|         null|    1|           0.0|          0.0|\n",
      "|2013-01-01 05:33:00|     UA|  1714|   LGA| IAH|    null|          null|         null| null| null|         null|    1|           0.0|          0.0|\n",
      "|2013-01-01 05:42:00|     AA|  1141|   JFK| MIA|    null|          null|         null| null| null|         null|    1|           0.0|          0.0|\n",
      "|2013-01-01 05:44:00|     B6|   725|   JFK| BQN|    null|          null|         null| null| null|         null|    1|           0.0|          0.0|\n",
      "|2013-01-01 05:54:00|     DL|   461|   LGA| ATL|    null|          null|         null| null| null|         null|    1|           0.0|          0.0|\n",
      "|2013-01-01 05:54:00|     UA|  1696|   EWR| ORD|    null|          null|         null| null| null|         null|    1|           0.0|          0.0|\n",
      "|2013-01-01 05:55:00|     B6|   507|   EWR| FLL|    null|          null|         null| null| null|         null|    1|           0.0|          0.0|\n",
      "|2013-01-01 05:57:00|     EV|  5708|   LGA| IAD|    null|          null|         null| null| null|         null|    1|           0.0|          0.0|\n",
      "|2013-01-01 05:57:00|     B6|    79|   JFK| MCO|    null|          null|         null| null| null|         null|    1|           0.0|          0.0|\n",
      "|2013-01-01 05:58:00|     AA|   301|   LGA| ORD|    null|          null|         null| null| null|         null|    1|           0.0|          0.0|\n",
      "|2013-01-01 05:58:00|     B6|    49|   JFK| PBI|    null|          null|         null| null| null|         null|    1|           0.0|          0.0|\n",
      "|2013-01-01 05:58:00|     B6|    71|   JFK| TPA|    null|          null|         null| null| null|         null|    1|           0.0|          0.0|\n",
      "|2013-01-01 05:58:00|     UA|   194|   JFK| LAX|    null|          null|         null| null| null|         null|    1|           0.0|          0.0|\n",
      "|2013-01-01 05:58:00|     UA|  1124|   EWR| SFO|    null|          null|         null| null| null|         null|    1|           0.0|          0.0|\n",
      "|2013-01-01 05:59:00|     AA|   707|   LGA| DFW|    null|          null|         null| null| null|         null|    1|           0.0|          0.0|\n",
      "|2013-01-01 05:59:00|     B6|  1806|   JFK| BOS|    null|          null|         null| null| null|         null|    1|           0.0|          0.0|\n",
      "|2013-01-01 05:59:00|     UA|  1187|   EWR| LAS|    null|          null|         null| null| null|         null|    1|           0.0|          0.0|\n",
      "|2013-01-01 06:00:00|     B6|   371|   LGA| FLL|     270|      10.35702|    11.918652| 10.0|    3|gentle breeze|    1|     4.6300025|     5.328114|\n",
      "|2013-01-01 06:00:00|     MQ|  4650|   LGA| ATL|     270|      10.35702|    11.918652| 10.0|    3|gentle breeze|    1|     4.6300025|     5.328114|\n",
      "+-------------------+-------+------+------+----+--------+--------------+-------------+-----+-----+-------------+-----+--------------+-------------+\n",
      "only showing top 20 rows\n",
      "\n"
     ]
    }
   ],
   "source": [
    "(\n",
    "  nycflights_wind_visib_beaufort\n",
    "  .withColumn('wind_speed_mps', mph_to_mps('wind_speed'))\n",
    "  .withColumn('wind_gust_mps', mph_to_mps('wind_gust'))\n",
    "  .withColumnRenamed('wind_speed', 'wind_speed_mph')\n",
    "  .withColumnRenamed('wind_gust', 'wind_gust_mph')\n",
    "  .show()\n",
    ")"
   ]
  }
 ],
 "metadata": {
  "deepnote": {},
  "deepnote_execution_queue": [],
  "deepnote_notebook_id": "aea00890933e4d91be101c2c40bd0c29",
  "jupytext": {
   "cell_metadata_json": true,
   "encoding": "# -*- coding: utf-8 -*-"
  },
  "kernelspec": {
   "display_name": "Python 3 (ipykernel)",
   "language": "python",
   "name": "python3"
  },
  "language_info": {
   "codemirror_mode": {
    "name": "ipython",
    "version": 3
   },
   "file_extension": ".py",
   "mimetype": "text/x-python",
   "name": "python",
   "nbconvert_exporter": "python",
   "pygments_lexer": "ipython3",
   "version": "3.9.13"
  }
 },
 "nbformat": 4,
 "nbformat_minor": 1
}
