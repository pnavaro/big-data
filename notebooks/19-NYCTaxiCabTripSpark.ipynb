{
 "cells": [
  {
   "cell_type": "markdown",
   "metadata": {
    "cell_id": "00000-fed2f096-7d65-49d7-9e26-b534726f0581",
    "deepnote_cell_type": "markdown"
   },
   "source": [
    "# Spark dataframes on HDFS\n",
    "\n",
    "New York City Taxi Cab Trip\n",
    "\n",
    "We look at [the New York City Taxi Cab dataset](http://www.nyc.gov/html/tlc/html/about/trip_record_data.shtml). This includes every ride made in the city of New York since 2009.\n",
    "\n",
    "On [this website](http://chriswhong.github.io/nyctaxi/) you can see the data for one random NYC yellow taxi on a single day.\n",
    "\n",
    "On [this post](http://toddwschneider.com/posts/analyzing-1-1-billion-nyc-taxi-and-uber-trips-with-a-vengeance/), you can see an analysis of this dataset. Postgres and R scripts are available on [GitHub](https://github.com/toddwschneider/nyc-taxi-data)."
   ]
  },
  {
   "cell_type": "markdown",
   "metadata": {
    "cell_id": "00001-3cd6a9c1-5054-4e7c-b0d1-e4e348683ddd",
    "deepnote_cell_type": "markdown"
   },
   "source": [
    "## Loading the data\n",
    "\n",
    "Normally we would read and load this data into memory as a Pandas dataframe.  However in this case that would be unwise because this data is too large to fit in RAM.\n",
    "\n",
    "The data can stay in the hdfs filesystem but for performance reason we can't use the csv format. The file is large (32Go) and text formatted. Data Access is very slow.\n",
    "\n",
    "You can convert csv file to parquet with Spark."
   ]
  },
  {
   "cell_type": "code",
   "execution_count": null,
   "metadata": {},
   "outputs": [],
   "source": [
    "%%time \n",
    "from pyspark.sql import SparkSession\n",
    "\n",
    "spark = SparkSession.builder \\\n",
    "        .appName(\"Convert CSV to parquet\") \\\n",
    "        .master(\"spark://svmass2.mass.uhb.fr:7077\") \\\n",
    "        .config('spark.hadoop.parquet.enable.summary-metadata', 'true') \\\n",
    "        .getOrCreate()\n",
    "\n",
    "df = spark.read.csv(\"hdfs://svmass2.mass.uhb.fr:54310/data/nyc-taxi-csv/2009/yellow*.csv\", \n",
    "                    header=\"true\",inferSchema=\"true\")\n",
    "\n",
    "df.write.parquet(\"hdfs://svmass2.mass.uhb.fr:54310/user/navaro_p/2009-yellow.parquet\")\n",
    "\n",
    "spark.stop()\n"
   ]
  },
  {
   "cell_type": "markdown",
   "metadata": {
    "cell_id": "00003-64de320b-50aa-4928-9884-23b77f541459",
    "deepnote_cell_type": "markdown"
   },
   "source": [
    "## Spark Cluster\n",
    "\n",
    "A Spark cluster is available and described on this [web interface](http://svmass2.mass.uhb.fr:8080)\n",
    "\n",
    "![](images/cluster-overview.png)\n",
    "\n",
    "```py\n",
    "from pyspark.sql import SparkSession\n",
    "spark = SparkSession.builder \\\n",
    "        .master('spark://svmass2.mass.uhb.fr:7077') \\\n",
    "        .getOrCreate()\n",
    "spark\n",
    "```\n",
    "\n",
    "The SparkSession is connected to the Spark’s own standalone cluster manager (It is also possible to use YARN). The manager allocate resources across applications. Once connected, Spark acquires executors on nodes in the cluster, which are processes that run computations and store data for your application. Next, it sends your application code (Python file) to the executors. Finally, tasks are sent to the executors to run.\n",
    "\n",
    "Spark can access to files located on hdfs and it is also possible to access to local files. Example:\n",
    "\n",
    "```py\n",
    "df = spark.read.parquet('file:///home/navaro_p/nyc-taxi/2016.parquet')\n",
    "```\n",
    "\n",
    "### Exercise\n",
    "\n",
    "- Pick a year and read and convert csv files to parquet in your hdfs homedirectory.\n",
    "- **Don't run the python code inside a notebook cell**. Save a python script and launch it from a terminal instead.\n",
    "In Jupyter notebook you won't see any progress or information if error occurs.\n",
    "- Use the [`spark-submit`](https://spark.apache.org/docs/latest/submitting-applications.html) command shell to run your script on the cluster.\n",
    "- You can control the log with \n",
    "```py\n",
    "spark.sparkContext.setLogLevel('ERROR')\n",
    "```\n",
    "Valid log levels include: ALL, DEBUG, ERROR, FATAL, INFO, OFF, TRACE, WARN\n",
    "\n",
    "**Try your script with a single file before to do it for a whole year.**\n",
    "\n",
    "**Read carefully the script given above, don't submit it as is. You have to change some\n",
    "part of this code**"
   ]
  },
  {
   "cell_type": "markdown",
   "metadata": {
    "cell_id": "00004-1b1bb60b-720d-42f8-8643-7b4812088e73",
    "deepnote_cell_type": "markdown"
   },
   "source": [
    "## Some examples that can be run on the cluster\n",
    "\n",
    "- Here we read the NYC taxi data files of year 2016 and select some variables.\n",
    "\n",
    "```py\n",
    "columns = ['tpep_pickup_datetime', 'passenger_count', 'pickup_longitude', 'pickup_latitude', 'dropoff_longitude', 'dropoff_latitude', 'payment_type', 'fare_amount', 'tip_amount', 'total_amount']\n",
    "\n",
    "df = (spark.read.parquet('hdfs://svmass2.mass.uhb.fr:54310/user/navaro/nyc-taxi/2016.parquet').select(*columns))\n",
    "```\n",
    "\n",
    "- Sum the total number of passengers\n",
    "```py\n",
    "df.agg({'passenger_count': 'sum'}).collect()\n",
    "```\n",
    "\n",
    "- Average number of passenger per trip`\n",
    "```py\n",
    "df.agg({'passenger_count': 'avg'}).collect()\n",
    "```\n",
    "\n",
    "- How many trip with 0,1,2,3,...,9 passenger`\n",
    "```py\n",
    "df.groupby('passenger_count').agg({'*': 'count'}).collect()\n",
    "```\n",
    "\n",
    "## Exercise\n",
    "\n",
    "How well people tip based on the number of passengers in a cab.  To do this you have to:\n",
    "\n",
    "1.  Remove rides with zero fare\n",
    "2.  Add a new column `tip_fraction` that is equal to the ratio of the tip to the fare\n",
    "3.  Group by the `passenger_count` column and take the mean of the `tip_fraction` column.\n",
    "\n",
    "### Cheat Sheets and documentation\n",
    "\n",
    "- [Spark DataFrames in Python](https://s3.amazonaws.com/assets.datacamp.com/blog_assets/PySpark_SQL_Cheat_Sheet_Python.pdf)\n",
    "- [Spark in Python](http://datacamp-community.s3.amazonaws.com/4d91fcbc-820d-4ae2-891b-f7a436ebefd4)\n",
    "-  https://spark.apache.org/docs/latest/api/python/pyspark.sql.html\n",
    "\n",
    "Use the [PySpark API](https://spark.apache.org/docs/latest/api/python/index.html).\n",
    "\n",
    "- **Write a python program and use `spark-submit`**\n",
    "- **Read the parquet files instead of csv files** \n",
    "- **Don't forget spark.stop() at the end of the script**"
   ]
  },
  {
   "cell_type": "markdown",
   "metadata": {
    "cell_id": "00005-cbfd6d94-01f1-40b7-b047-d662d76f6b88",
    "deepnote_cell_type": "markdown"
   },
   "source": [
    "## Hints\n",
    "\n",
    "- How to remove rows\n",
    "```python\n",
    "df = df.filter(df.name == 'expression')\n",
    "```\n",
    "\n",
    "- How to make new columns\n",
    "```python\n",
    "df = df.withColumn('var2', df.var0 + df.var1)\n",
    "```\n",
    "\n",
    "- How to do groupby-aggregations\n",
    "```python\n",
    "df.groupBy(df.name).agg({'column-name': 'avg'})\n",
    "```\n",
    "\n",
    "When you want to collect the result of your computation, finish with the `.collect()` method."
   ]
  },
  {
   "cell_type": "markdown",
   "metadata": {
    "cell_id": "00006-28a0a4e5-1961-4707-b8d1-9361335f8626",
    "deepnote_cell_type": "markdown"
   },
   "source": [
    "### Exercices \n",
    "\n",
    "1. Plot the tip as a function of the hour of day and the day of the week?\n",
    "2. Investigate the `payment_type` column.  See how well each of the payment types correlate with the `tip_fraction`.  Did you find anything interesting?  Any guesses on what the different payment types might be?  If you're interested you may be able to find more information on the [NYC TLC's website](http://www.nyc.gov/html/tlc/html/about/trip_record_data.shtml)\n",
    "3. Plot the average of the new column tip_fraction grouped by day of week.\n",
    "4. Plot the average of the new column tip_fraction grouped by hour of day."
   ]
  },
  {
   "cell_type": "code",
   "execution_count": null,
   "metadata": {},
   "outputs": [],
   "source": []
  }
 ],
 "metadata": {
  "deepnote_execution_queue": [],
  "deepnote_notebook_id": "87fd115f-25ed-48ed-ad5a-7ae17a9eb4bc",
  "jupytext": {
   "encoding": "# -*- coding: utf-8 -*-",
   "formats": "ipynb"
  },
  "kernelspec": {
   "display_name": "big-data",
   "language": "python",
   "name": "big-data"
  },
  "language_info": {
   "codemirror_mode": {
    "name": "ipython",
    "version": 3
   },
   "file_extension": ".py",
   "mimetype": "text/x-python",
   "name": "python",
   "nbconvert_exporter": "python",
   "pygments_lexer": "ipython3",
   "version": "3.7.9"
  }
 },
 "nbformat": 4,
 "nbformat_minor": 4
}
