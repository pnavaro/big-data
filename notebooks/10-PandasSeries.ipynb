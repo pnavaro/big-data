{
 "cells": [
  {
   "cell_type": "markdown",
   "metadata": {
    "cell_id": "00000-84f77a2c-30d3-4e83-9779-ecfe886ce927",
    "slideshow": {
     "slide_type": "slide"
    }
   },
   "source": [
    "# Pandas Series\n",
    "\n",
    "![pandas](images/pandas.png \"Pandas Logo\")\n",
    "\n",
    "\n",
    "- Started by Wes MacKinney with a first release in 2011.\n",
    "- Based on NumPy, it is the most used library for all things data.\n",
    "- Motivated by the toolbox in R for manipulating data easily.\n",
    "- A lot of names in Pandas come from R world.\n",
    "- It is Open source (BSD)\n",
    "\n",
    "https://pandas.pydata.org/"
   ]
  },
  {
   "cell_type": "markdown",
   "metadata": {
    "cell_id": "00001-ee8a379b-c139-4619-92c0-0dcc8efeeabf",
    "slideshow": {
     "slide_type": "slide"
    }
   },
   "source": [
    "```python\n",
    "import pandas as pd\n",
    "```\n",
    "\n",
    "\"*Pandas provides high-performance, easy-to-use data structures \n",
    "and data analysis tools in Python*\"\n",
    "\n",
    "- Self-describing data structures\n",
    "- Data loaders to/from common file formats\n",
    "- Plotting functions\n",
    "- Basic statistical tools."
   ]
  },
  {
   "cell_type": "code",
   "execution_count": null,
   "metadata": {
    "cell_id": "00002-6e6ebda8-7419-47fb-90a2-ee91f297ca5c",
    "execution_millis": 1384,
    "execution_start": 1604928732612,
    "output_cleared": false,
    "slideshow": {
     "slide_type": "skip"
    },
    "source_hash": "774a64a2"
   },
   "outputs": [],
   "source": [
    "%matplotlib inline\n",
    "%config InlineBackend.figure_format = 'retina'\n",
    "import pandas as pd\n",
    "import numpy as np\n",
    "import matplotlib.pyplot as plt\n",
    "import seaborn as sns\n",
    "sns.set()\n",
    "pd.set_option(\"display.max_rows\", 8)\n",
    "plt.rcParams['figure.figsize'] = (9, 6)"
   ]
  },
  {
   "cell_type": "markdown",
   "metadata": {
    "cell_id": "00003-fe2e4404-8b3e-46b4-ba23-6286a006a8da",
    "slideshow": {
     "slide_type": "slide"
    }
   },
   "source": [
    "## [Series](https://pandas.pydata.org/pandas-docs/stable/dsintro.html#series)\n",
    "\n",
    "- A Series contains a one-dimensional array of data, *and* an associated sequence of labels called the *index*.\n",
    "- The index can contain numeric, string, or date/time values.\n",
    "- When the index is a time value, the series is a [time series](https://en.wikipedia.org/wiki/Time_series).\n",
    "- The index must be the same length as the data.\n",
    "- If no index is supplied it is automatically generated as `range(len(data))`."
   ]
  },
  {
   "cell_type": "code",
   "execution_count": null,
   "metadata": {
    "cell_id": "00004-1ebd1d12-f259-4f95-9f28-dd5a3a5af928",
    "execution_millis": 21,
    "execution_start": 1604928739183,
    "output_cleared": false,
    "slideshow": {
     "slide_type": "fragment"
    },
    "source_hash": "bc816813"
   },
   "outputs": [],
   "source": [
    "pd.Series([1,3,5,np.nan,6,8], dtype=np.float64)"
   ]
  },
  {
   "cell_type": "code",
   "execution_count": null,
   "metadata": {
    "cell_id": "00005-d4bc0a60-8059-462c-9374-b63d835e4cc8",
    "execution_millis": 29,
    "execution_start": 1604928740625,
    "output_cleared": false,
    "slideshow": {
     "slide_type": "slide"
    },
    "source_hash": "f3135575"
   },
   "outputs": [],
   "source": [
    "pd.Series(index=pd.period_range('09/11/2017', '09/18/2017', freq=\"D\"), dtype=np.int8)"
   ]
  },
  {
   "cell_type": "markdown",
   "metadata": {
    "cell_id": "00006-cb7862ee-686c-4f53-bff7-31011d4807d8",
    "slideshow": {
     "slide_type": "slide"
    }
   },
   "source": [
    "### Exercise\n",
    "- Create a text with `lorem` and count word occurences with a `collection.Counter`. Put the result in a `dict`."
   ]
  },
  {
   "cell_type": "markdown",
   "metadata": {
    "cell_id": "00007-51121ad0-ba8d-4ad9-b702-efe68a2acdb7",
    "slideshow": {
     "slide_type": "slide"
    }
   },
   "source": [
    "### Exercise\n",
    "- From the results create a Pandas series name latin_series with words in alphabetical order as index."
   ]
  },
  {
   "cell_type": "code",
   "execution_count": null,
   "metadata": {
    "cell_id": "00008-93c5e0ea-c9e8-4756-83f1-a23bff2bbcf4"
   },
   "outputs": [],
   "source": [
    "df = pd.Series(result)\n",
    "df"
   ]
  },
  {
   "cell_type": "markdown",
   "metadata": {
    "cell_id": "00009-3d06868f-dff2-4bd6-b31e-b6817a6f5872",
    "slideshow": {
     "slide_type": "slide"
    }
   },
   "source": [
    "### Exercise\n",
    "\n",
    "- Plot the series using 'bar' kind."
   ]
  },
  {
   "cell_type": "markdown",
   "metadata": {
    "cell_id": "00010-04977e21-abf2-408b-afc3-a318a100b1ed",
    "slideshow": {
     "slide_type": "fragment"
    }
   },
   "source": [
    "### Exercise\n",
    "- Pandas provides explicit functions for indexing `loc` and `iloc`.\n",
    "    - Use `loc` to display the number of occurrences of 'dolore'.\n",
    "    - Use `iloc` to diplay the number of occurrences of the last word in index."
   ]
  },
  {
   "cell_type": "markdown",
   "metadata": {
    "cell_id": "00011-0095c4d4-eb90-4a07-8dc5-67952a6588ff"
   },
   "source": [
    "### Exercise\n",
    "- Sort words by number of occurrences.\n",
    "- Plot the Series."
   ]
  },
  {
   "cell_type": "markdown",
   "metadata": {
    "cell_id": "00012-8327cd7e-1a41-4a54-b717-9be92936384e"
   },
   "source": [
    "### Full globe temperature between 1901 and 2000.\n",
    "\n",
    "We read the text file and load the results in a pandas dataframe. \n",
    "In cells below you need to clean the data and convert the dataframe to a time series."
   ]
  },
  {
   "cell_type": "code",
   "execution_count": null,
   "metadata": {
    "cell_id": "00013-d7a4604a-6476-412c-ae02-c8d468c38dc0"
   },
   "outputs": [],
   "source": [
    "import os\n",
    "here = os.getcwd()\n",
    "\n",
    "filename = os.path.join(here,\"data\",\"monthly.land.90S.90N.df_1901-2000mean.dat.txt\")\n",
    "\n",
    "df = pd.read_table(filename, sep=\"\\s+\", \n",
    "                   names=[\"year\", \"month\", \"mean temp\"])\n",
    "df"
   ]
  },
  {
   "cell_type": "markdown",
   "metadata": {
    "cell_id": "00014-4f6e3038-91ac-4cfd-bd2c-4685fa09cf02",
    "slideshow": {
     "slide_type": "slide"
    }
   },
   "source": [
    "### Exercise\n",
    "- Insert a third column with value one named \"day\" with `.insert`.\n",
    "- convert df index to datetime with `pd.to_datetime` function.\n",
    "- convert df to Series containing only \"mean temp\" column."
   ]
  },
  {
   "cell_type": "markdown",
   "metadata": {
    "cell_id": "00015-ce095159-5849-491e-a407-b2644800e373"
   },
   "source": [
    "### Exercise \n",
    "- Display the beginning of the file with `.head`."
   ]
  },
  {
   "cell_type": "markdown",
   "metadata": {
    "cell_id": "00016-d045c741-9839-4494-b554-554894ed8369"
   },
   "source": [
    "### Exercise \n",
    "- Display the end of the file with `.tail`."
   ]
  },
  {
   "cell_type": "markdown",
   "metadata": {
    "cell_id": "00017-f21f2e40-0bce-4d9f-bef2-2aeb9b950fd8"
   },
   "source": [
    "In the dataset, -999.00 was used to indicate that there was no value for that year.\n",
    "\n",
    "### Exercise\n",
    "\n",
    "- Display values equal to -999 with `.values`. \n",
    "- Replace the missing value (-999.000) by `np.nan`"
   ]
  },
  {
   "cell_type": "markdown",
   "metadata": {
    "cell_id": "00018-23ae3abf-ceed-4f33-a18c-5308222881b9"
   },
   "source": [
    "Once they have been converted to np.nan, missing values can be removed (dropped).\n",
    "\n",
    "### Exercise \n",
    "- Remove missing values with `.dropna`."
   ]
  },
  {
   "cell_type": "markdown",
   "metadata": {
    "cell_id": "00019-aede21a5-faa8-45b6-a56c-62b20399dc7e"
   },
   "source": [
    "### Exercise\n",
    "- Generate a basic visualization using `.plot`."
   ]
  },
  {
   "cell_type": "markdown",
   "metadata": {
    "cell_id": "00020-7707a9c7-eb2a-471e-965f-ec0f863c34b6",
    "slideshow": {
     "slide_type": "slide"
    }
   },
   "source": [
    "### Exercise\n",
    "\n",
    "Convert df index from timestamp to period is more meaningfull since it was measured and averaged over the month. Use `to_period` method."
   ]
  },
  {
   "cell_type": "markdown",
   "metadata": {
    "cell_id": "00021-d5ff7bd7-6a6e-4ae0-bc6b-32eef9e4892a",
    "slideshow": {
     "slide_type": "slide"
    }
   },
   "source": [
    "## Resampling\n",
    "\n",
    "Series can be resample, downsample or upsample.\n",
    "- Frequencies can be specified as strings: \"us\", \"ms\", \"S\", \"T\", \"H\", \"D\", \"B\", \"W\", \"M\", \"A\", \"3min\", \"2h20\", ...\n",
    "- More aliases at http://pandas.pydata.org/pandas-docs/stable/timeseries.html#offset-aliases\n",
    "\n",
    "### Exercise\n",
    "\n",
    "- With `resample` method, convert df Series to 10 year blocks:"
   ]
  },
  {
   "cell_type": "markdown",
   "metadata": {
    "cell_id": "00022-ddab592f-9661-49f7-a661-ac7ba0629da0",
    "slideshow": {
     "slide_type": "slide"
    }
   },
   "source": [
    "### Saving Work"
   ]
  },
  {
   "cell_type": "markdown",
   "metadata": {
    "cell_id": "00023-bce32354-70b2-41b2-9d59-c4579ccca3e0",
    "slideshow": {
     "slide_type": "fragment"
    }
   },
   "source": [
    "[HDF5](https://support.hdfgroup.org/HDF5/) is widely used and one of the most powerful file format to store binary data. It allows to store both Series and DataFrames."
   ]
  },
  {
   "cell_type": "code",
   "execution_count": null,
   "metadata": {
    "cell_id": "00024-99e4e168-7177-41c1-a7de-51130e5454ce",
    "slideshow": {
     "slide_type": "fragment"
    }
   },
   "outputs": [],
   "source": [
    "with pd.HDFStore(\"data/pandas_series.h5\") as writer:\n",
    "    df.to_hdf(writer, \"/temperatures/full_globe\")"
   ]
  },
  {
   "cell_type": "markdown",
   "metadata": {
    "cell_id": "00025-fbe87151-d9dc-48e9-84c8-2df5f1992a67",
    "slideshow": {
     "slide_type": "slide"
    }
   },
   "source": [
    "### Reloading data"
   ]
  },
  {
   "cell_type": "code",
   "execution_count": null,
   "metadata": {
    "cell_id": "00026-a31b8c65-b19c-4dad-96b0-5d98a6f00b21",
    "slideshow": {
     "slide_type": "fragment"
    }
   },
   "outputs": [],
   "source": [
    "with pd.HDFStore(\"data/pandas_series.h5\") as store:\n",
    "    df = store[\"/temperatures/full_globe\"]"
   ]
  },
  {
   "cell_type": "code",
   "execution_count": null,
   "metadata": {
    "cell_id": "00027-227420a8-0290-4009-a8a8-cf7ca47d37fc",
    "execution_millis": 20,
    "execution_start": 1604928925019,
    "output_cleared": false,
    "source_hash": "c2725c7a",
    "tags": []
   },
   "outputs": [],
   "source": [
    "from lorem import text\n",
    "from collections import Counter\n",
    "import operator\n",
    " \n",
    "c = Counter(filter(None,text().strip().replace('.','').replace('\\n',' ').lower().split(' ')))\n",
    "result = dict(sorted(c.most_common(),key=operator.itemgetter(1),reverse=True))\n",
    "result"
   ]
  },
  {
   "cell_type": "code",
   "execution_count": null,
   "metadata": {
    "cell_id": "00028-0399eb7e-c714-45c4-a2cb-16256e4ccbf8",
    "execution_millis": 1,
    "execution_start": 1604928934672,
    "output_cleared": false,
    "source_hash": "7708a3b0",
    "tags": []
   },
   "outputs": [],
   "source": [
    "df = pd.Series(result)\n",
    "df"
   ]
  },
  {
   "cell_type": "code",
   "execution_count": null,
   "metadata": {
    "cell_id": "00028-bbfadb3e-00f9-4d21-a1e6-5e0331afb9aa",
    "execution_millis": 1017,
    "execution_start": 1604928939851,
    "output_cleared": false,
    "source_hash": "e52bbe9d",
    "tags": []
   },
   "outputs": [],
   "source": [
    "df.plot(kind='bar')"
   ]
  },
  {
   "cell_type": "code",
   "execution_count": null,
   "metadata": {
    "cell_id": "00030-b37da711-4eae-4791-97f1-791e43a90137",
    "execution_millis": 994,
    "execution_start": 1604928962001,
    "output_cleared": false,
    "source_hash": "afd13689",
    "tags": []
   },
   "outputs": [],
   "source": [
    "df = df.sort_values()\n",
    "df.plot(kind='bar')"
   ]
  },
  {
   "cell_type": "code",
   "execution_count": null,
   "metadata": {
    "cell_id": "00031-04621593-8003-42af-8a0f-f21162d2b9cf",
    "execution_millis": 13,
    "execution_start": 1604929014646,
    "output_cleared": false,
    "source_hash": "aaffa75e",
    "tags": []
   },
   "outputs": [],
   "source": [
    "import os\n",
    "here = os.getcwd()\n",
    "\n",
    "filename = os.path.join(here,\"data\",\"monthly.land.90S.90N.df_1901-2000mean.dat.txt\")\n",
    "\n",
    "df = pd.read_table(filename, sep=\"\\s+\", \n",
    "                   names=[\"year\", \"month\", \"mean temp\"])\n",
    "\n",
    "df.insert(loc=2,column='day',value=np.ones(len(df)))\n",
    "df.index = pd.to_datetime(df[['year','month','day']])\n",
    " \n",
    "df = df['mean temp']\n",
    " \n",
    "df.head()"
   ]
  },
  {
   "cell_type": "code",
   "execution_count": null,
   "metadata": {
    "cell_id": "00032-0d29437c-a129-4eda-b69c-e39f407f5c4a",
    "execution_millis": 14,
    "execution_start": 1604929043623,
    "output_cleared": false,
    "source_hash": "838c0c28",
    "tags": []
   },
   "outputs": [],
   "source": [
    "df.tail()"
   ]
  },
  {
   "cell_type": "code",
   "execution_count": null,
   "metadata": {
    "cell_id": "00033-eaf4fca4-06f7-4300-ad9d-b75e4d281b6c",
    "execution_millis": 4,
    "execution_start": 1604929061452,
    "output_cleared": false,
    "source_hash": "7ecfaa90",
    "tags": []
   },
   "outputs": [],
   "source": [
    " df[df.values == -999]"
   ]
  },
  {
   "cell_type": "code",
   "execution_count": null,
   "metadata": {
    "cell_id": "00034-4ab43419-690e-41f2-8fe2-933506d57178",
    "execution_millis": 18,
    "execution_start": 1604929072552,
    "output_cleared": false,
    "source_hash": "b9f2fd7",
    "tags": []
   },
   "outputs": [],
   "source": [
    "df2 = df.copy()\n",
    "df2[df == -999.0] = np.nan  # For this indexing we need a copy\n",
    "df2.tail()"
   ]
  },
  {
   "cell_type": "code",
   "execution_count": null,
   "metadata": {
    "cell_id": "00035-629edd1e-1889-4749-a2f5-51a8bb1e3c44",
    "execution_millis": 18,
    "execution_start": 1604929081658,
    "output_cleared": false,
    "source_hash": "64f433d8",
    "tags": []
   },
   "outputs": [],
   "source": [
    "df = df2.dropna()\n",
    "df.tail()\n",
    " "
   ]
  },
  {
   "cell_type": "code",
   "execution_count": null,
   "metadata": {
    "cell_id": "00036-fafe259a-8d90-42df-bb07-040017a89450",
    "execution_millis": 3,
    "execution_start": 1604929096047,
    "output_cleared": false,
    "source_hash": "d61000",
    "tags": []
   },
   "outputs": [],
   "source": [
    "df = df.to_period('M')\n",
    "df"
   ]
  },
  {
   "cell_type": "code",
   "execution_count": null,
   "metadata": {
    "cell_id": "00027-5b5ee84f-74c9-459f-a558-04c51abbc53b",
    "execution_millis": 999,
    "execution_start": 1604929119469,
    "output_cleared": false,
    "source_hash": "e0123ca5",
    "tags": []
   },
   "outputs": [],
   "source": [
    "df.resample('10A').mean().plot()"
   ]
  }
 ],
 "metadata": {
  "deepnote_execution_queue": [],
  "deepnote_notebook_id": "680ceebd-d0c8-45f4-bf53-db6b222b2321",
  "kernelspec": {
   "display_name": "big-data",
   "language": "python",
   "name": "big-data"
  }
 },
 "nbformat": 4,
 "nbformat_minor": 4
}
