{
 "cells": [
  {
   "cell_type": "markdown",
   "metadata": {
    "cell_id": "8d0a5548941a4559861f9fdb95fa37b3",
    "deepnote_cell_height": 494.59375,
    "deepnote_cell_type": "markdown",
    "slideshow": {
     "slide_type": "slide"
    }
   },
   "source": [
    "# NYC Flights data\n",
    "\n",
    "Reference : https://github.com/rich-iannone/so-many-pyspark-examples/blob/main/spark-dataframes.ipynb\n",
    "\n",
    "In this notebook, we will extracts some historical flight data for flights out of NYC between 1990 and 2000. The data is taken from [here](http://stat-computing.org/dataexpo/2009/the-data.html). "
   ]
  },
  {
   "cell_type": "markdown",
   "metadata": {},
   "source": [
    "**Variable descriptions**\n",
    "\n",
    " Name\tDescription\n",
    " \n",
    " 1.\t`Year` 1987-2008\n",
    " 2.\t`Month` 1-12\n",
    " 3. `DayofMonth` 1-31\n",
    " 4.\t`DayOfWeek` 1 (Monday) - 7 (Sunday)\n",
    " 5.\t`DepTime` actual departure time (local, hhmm)\n",
    " 6.\t`CRSDepTime` scheduled departure time (local, hhmm)\n",
    " 7.\t`ArrTime` actual arrival time (local, hhmm)\n",
    " 8.\t`CRSArrTime` scheduled arrival time (local, hhmm)\n",
    " 9.\t`UniqueCarrier` unique carrier code\n",
    " 10. `FlightNum` flight number\n",
    " 11. `TailNu` plane tail number\n",
    " 12. `ActualElapsedTime` in minutes\n",
    " 13. `CRSElapsedTime` in minutes\n",
    " 14. `AirTime` in minutes\n",
    " 15. `ArrDelay` arrival delay, in minutes\n",
    " 16. `DepDelay` departure delay, in minutes\n",
    " 17. `Origin` origin IATA airport code\n",
    " 18. `Dest` destination IATA airport code\n",
    " 19. `Distance` in miles\n",
    " 20. `TaxiIn` taxi in time, in minutes\n",
    " 21. `TaxiOut` taxi out time in minutes\n",
    " 22. `Cancelled` was the flight cancelled?\n",
    " 23. `CancellationCode` reason for cancellation (A = carrier, B = weather, C = NAS, D = security)\n",
    " 24. `Diverted` 1 = yes, 0 = no\n",
    " 25. `CarrierDelay` in minutes\n",
    " 26. `WeatherDelay` in minutes\n",
    " 27. `NASDelay` in minutes\n",
    " 28. `SecurityDelay` in minutes\n",
    " 29. `LateAircraftDelay` in minutes"
   ]
  },
  {
   "cell_type": "code",
   "execution_count": 1,
   "metadata": {
    "cell_id": "e04e8f8a418840098b98037121ea5da7",
    "deepnote_cell_type": "code",
    "deepnote_to_be_reexecuted": false,
    "execution_millis": 5,
    "execution_start": 1664193365062,
    "output_cleared": false,
    "slideshow": {
     "slide_type": "fragment"
    },
    "source_hash": "88a3037b"
   },
   "outputs": [
    {
     "name": "stdout",
     "output_type": "stream",
     "text": [
      "22/12/06 10:31:03 WARN Utils: Your hostname, b2-120-gra11 resolves to a loopback address: 127.0.1.1; using 141.94.168.194 instead (on interface ens3)\n",
      "22/12/06 10:31:03 WARN Utils: Set SPARK_LOCAL_IP if you need to bind to another address\n"
     ]
    },
    {
     "name": "stderr",
     "output_type": "stream",
     "text": [
      "Setting default log level to \"WARN\".\n",
      "To adjust logging level use sc.setLogLevel(newLevel). For SparkR, use setLogLevel(newLevel).\n"
     ]
    },
    {
     "name": "stdout",
     "output_type": "stream",
     "text": [
      "22/12/06 10:31:05 WARN NativeCodeLoader: Unable to load native-hadoop library for your platform... using builtin-java classes where applicable\n"
     ]
    },
    {
     "name": "stderr",
     "output_type": "stream",
     "text": [
      "\r",
      "[Stage 0:>                                                          (0 + 0) / 1]\r"
     ]
    },
    {
     "name": "stdout",
     "output_type": "stream",
     "text": [
      "22/12/06 10:31:31 WARN TaskSchedulerImpl: Initial job has not accepted any resources; check your cluster UI to ensure that workers are registered and have sufficient resources\n"
     ]
    },
    {
     "name": "stderr",
     "output_type": "stream",
     "text": [
      "                                                                                \r"
     ]
    },
    {
     "name": "stdout",
     "output_type": "stream",
     "text": [
      "+-------------------+---------+-------+----------+-------+----------+-------------+---------+-----------------+--------------+-------+--------+--------+------+----+--------+------+-------+---------+--------+-------------------+\n",
      "|               Date|DayOfWeek|DepTime|CRSDepTime|ArrTime|CRSArrTime|UniqueCarrier|FlightNum|ActualElapsedTime|CRSElapsedTime|AirTime|ArrDelay|DepDelay|Origin|Dest|Distance|TaxiIn|TaxiOut|Cancelled|Diverted|__null_dask_index__|\n",
      "+-------------------+---------+-------+----------+-------+----------+-------------+---------+-----------------+--------------+-------+--------+--------+------+----+--------+------+-------+---------+--------+-------------------+\n",
      "|1999-01-01 00:00:00|        5| 1526.0|      1515| 1838.0|      1849|           CO|     1923|            312.0|         334.0|  289.0|   -11.0|    11.0|   EWR| PHX|  2133.0|   7.0|   16.0|    false|       0|                  0|\n",
      "|1999-01-02 00:00:00|        6| 1727.0|      1540| 2056.0|      1914|           CO|     1923|            329.0|         334.0|  301.0|   102.0|   107.0|   EWR| PHX|  2133.0|   8.0|   20.0|    false|       0|                  1|\n",
      "|1999-01-03 00:00:00|        7| 1609.0|      1515| 1935.0|      1849|           CO|     1923|            326.0|         334.0|  295.0|    46.0|    54.0|   EWR| PHX|  2133.0|   6.0|   25.0|    false|       0|                  2|\n",
      "|1999-01-04 00:00:00|        1| 1605.0|      1515| 1923.0|      1849|           CO|     1923|            318.0|         334.0|  292.0|    34.0|    50.0|   EWR| PHX|  2133.0|   5.0|   21.0|    false|       0|                  3|\n",
      "|1999-01-05 00:00:00|        2| 1529.0|      1515| 1908.0|      1849|           CO|     1923|            339.0|         334.0|  301.0|    19.0|    14.0|   EWR| PHX|  2133.0|   6.0|   32.0|    false|       0|                  4|\n",
      "|1999-01-06 00:00:00|        3| 1523.0|      1515| 1941.0|      1849|           CO|     1923|            378.0|         334.0|  344.0|    52.0|     8.0|   EWR| PHX|  2133.0|  10.0|   24.0|    false|       0|                  5|\n",
      "|1999-01-07 00:00:00|        4| 1521.0|      1515| 1920.0|      1849|           CO|     1923|            359.0|         334.0|  326.0|    31.0|     6.0|   EWR| PHX|  2133.0|   6.0|   27.0|    false|       0|                  6|\n",
      "|1999-01-08 00:00:00|        5| 2038.0|      1515|   22.0|      1849|           CO|     1923|            344.0|         334.0|  290.0|   333.0|   323.0|   EWR| PHX|  2133.0|   4.0|   50.0|    false|       0|                  7|\n",
      "|1999-01-09 00:00:00|        6| 1616.0|      1540| 1943.0|      1914|           CO|     1923|            327.0|         334.0|  302.0|    29.0|    36.0|   EWR| PHX|  2133.0|   8.0|   17.0|    false|       0|                  8|\n",
      "|1999-01-10 00:00:00|        7| 1515.0|      1515| 1850.0|      1849|           CO|     1923|            335.0|         334.0|  291.0|     1.0|     0.0|   EWR| PHX|  2133.0|   9.0|   35.0|    false|       0|                  9|\n",
      "|1999-01-11 00:00:00|        1| 1514.0|      1515| 1922.0|      1849|           CO|     1923|            368.0|         334.0|  318.0|    33.0|    -1.0|   EWR| PHX|  2133.0|   5.0|   45.0|    false|       0|                 10|\n",
      "|1999-01-12 00:00:00|        2| 1513.0|      1515| 1838.0|      1849|           CO|     1923|            325.0|         334.0|  303.0|   -11.0|    -2.0|   EWR| PHX|  2133.0|   7.0|   15.0|    false|       0|                 11|\n",
      "|1999-01-13 00:00:00|        3| 1514.0|      1515| 1921.0|      1849|           CO|     1923|            367.0|         334.0|  316.0|    32.0|    -1.0|   EWR| PHX|  2133.0|   7.0|   44.0|    false|       0|                 12|\n",
      "|1999-01-14 00:00:00|        4| 1640.0|      1515| 2031.0|      1849|           CO|     1923|            351.0|         334.0|  289.0|   102.0|    85.0|   EWR| PHX|  2133.0|   6.0|   56.0|    false|       0|                 13|\n",
      "|1999-01-15 00:00:00|        5| 1605.0|      1515| 1950.0|      1849|           CO|     1923|            345.0|         334.0|  305.0|    61.0|    50.0|   EWR| PHX|  2133.0|   5.0|   35.0|    false|       0|                 14|\n",
      "|1999-01-16 00:00:00|        6| 1606.0|      1540| 1953.0|      1914|           CO|     1923|            347.0|         334.0|  317.0|    39.0|    26.0|   EWR| PHX|  2133.0|  14.0|   16.0|    false|       0|                 15|\n",
      "|1999-01-17 00:00:00|        7| 1527.0|      1515| 1859.0|      1849|           CO|     1923|            332.0|         334.0|  296.0|    10.0|    12.0|   EWR| PHX|  2133.0|   6.0|   30.0|    false|       0|                 16|\n",
      "|1999-01-18 00:00:00|        1| 1636.0|      1515| 2030.0|      1849|           CO|     1923|            354.0|         334.0|  307.0|   101.0|    81.0|   EWR| PHX|  2133.0|   6.0|   41.0|    false|       0|                 17|\n",
      "|1999-01-19 00:00:00|        2| 1510.0|      1515| 1901.0|      1849|           CO|     1923|            351.0|         334.0|  331.0|    12.0|    -5.0|   EWR| PHX|  2133.0|   7.0|   13.0|    false|       0|                 18|\n",
      "|1999-01-20 00:00:00|        3| 1520.0|      1515| 1915.0|      1849|           CO|     1923|            355.0|         334.0|  320.0|    26.0|     5.0|   EWR| PHX|  2133.0|   4.0|   31.0|    false|       0|                 19|\n",
      "+-------------------+---------+-------+----------+-------+----------+-------------+---------+-----------------+--------------+-------+--------+--------+------+----+--------+------+-------+---------+--------+-------------------+\n",
      "only showing top 20 rows\n",
      "\n"
     ]
    }
   ],
   "source": [
    "from pyspark.sql import SparkSession\n",
    "\n",
    "spark = SparkSession.builder \\\n",
    "        .config(\"spark.cores.max\", \"4\") \\\n",
    "        .appName(\"NYCFlights\") \\\n",
    "        .master(\"spark://b2-120-gra11:7077\") \\\n",
    "        .getOrCreate()\n",
    "\n",
    "\n",
    "nycflights = spark.read.parquet(\"hdfs://localhost:54310/data/nycflights.parquet\")\n",
    "nycflights.show()"
   ]
  },
  {
   "cell_type": "markdown",
   "metadata": {
    "cell_id": "46babeca221b4127a99f409b0060bf58",
    "deepnote_cell_height": 52,
    "deepnote_cell_type": "markdown",
    "slideshow": {
     "slide_type": "slide"
    }
   },
   "source": [
    "Let's take a look to the dataframe scheme"
   ]
  },
  {
   "cell_type": "code",
   "execution_count": 2,
   "metadata": {
    "cell_id": "20afface4f594790a03eec65a1c9bfe7",
    "deepnote_cell_type": "code",
    "deepnote_to_be_reexecuted": false,
    "execution_millis": 12,
    "execution_start": 1664193395038,
    "output_cleared": false,
    "slideshow": {
     "slide_type": "fragment"
    },
    "source_hash": "f804c160"
   },
   "outputs": [
    {
     "name": "stdout",
     "output_type": "stream",
     "text": [
      "root\n",
      " |-- Date: timestamp (nullable = true)\n",
      " |-- DayOfWeek: long (nullable = true)\n",
      " |-- DepTime: double (nullable = true)\n",
      " |-- CRSDepTime: long (nullable = true)\n",
      " |-- ArrTime: double (nullable = true)\n",
      " |-- CRSArrTime: long (nullable = true)\n",
      " |-- UniqueCarrier: string (nullable = true)\n",
      " |-- FlightNum: long (nullable = true)\n",
      " |-- ActualElapsedTime: double (nullable = true)\n",
      " |-- CRSElapsedTime: double (nullable = true)\n",
      " |-- AirTime: double (nullable = true)\n",
      " |-- ArrDelay: double (nullable = true)\n",
      " |-- DepDelay: double (nullable = true)\n",
      " |-- Origin: string (nullable = true)\n",
      " |-- Dest: string (nullable = true)\n",
      " |-- Distance: double (nullable = true)\n",
      " |-- TaxiIn: double (nullable = true)\n",
      " |-- TaxiOut: double (nullable = true)\n",
      " |-- Cancelled: boolean (nullable = true)\n",
      " |-- Diverted: long (nullable = true)\n",
      " |-- __null_dask_index__: long (nullable = true)\n",
      "\n"
     ]
    }
   ],
   "source": [
    "nycflights.printSchema()"
   ]
  },
  {
   "cell_type": "markdown",
   "metadata": {
    "cell_id": "9316b884ebbf474a9ac6968f7d56ae4c",
    "deepnote_cell_type": "code",
    "deepnote_to_be_reexecuted": false,
    "execution_millis": 706,
    "execution_start": 1664193427066,
    "output_cleared": false,
    "source_hash": "693ab60a"
   },
   "source": [
    "Let's group and aggregate `groupBy()` will group one or more DF columns and prep them for aggregration functions"
   ]
  },
  {
   "cell_type": "code",
   "execution_count": 2,
   "metadata": {
    "cell_id": "9316b884ebbf474a9ac6968f7d56ae4c",
    "deepnote_cell_type": "code",
    "deepnote_to_be_reexecuted": false,
    "execution_millis": 706,
    "execution_start": 1664193427066,
    "output_cleared": false,
    "source_hash": "693ab60a"
   },
   "outputs": [
    {
     "name": "stderr",
     "output_type": "stream",
     "text": [
      "[Stage 4:>                                                          (0 + 1) / 1]\r"
     ]
    },
    {
     "name": "stdout",
     "output_type": "stream",
     "text": [
      "+------+-------+\n",
      "|Origin|  count|\n",
      "+------+-------+\n",
      "|   LGA|1003420|\n",
      "|   EWR|1174131|\n",
      "|   JFK| 434341|\n",
      "+------+-------+\n",
      "\n"
     ]
    },
    {
     "name": "stderr",
     "output_type": "stream",
     "text": [
      "\r",
      "                                                                                \r"
     ]
    }
   ],
   "source": [
    "(nycflights\n",
    " .groupby('Origin') # creates 'GroupedData'\n",
    " .count() # creates a new column with aggregate `count` values\n",
    " .show())"
   ]
  },
  {
   "cell_type": "markdown",
   "metadata": {},
   "source": [
    "Use the `agg()` function to perform multiple aggregations"
   ]
  },
  {
   "cell_type": "code",
   "execution_count": 3,
   "metadata": {},
   "outputs": [
    {
     "name": "stderr",
     "output_type": "stream",
     "text": [
      "[Stage 7:>                                                          (0 + 1) / 1]\r"
     ]
    },
    {
     "name": "stdout",
     "output_type": "stream",
     "text": [
      "+------+------------------+-----------------+\n",
      "|Origin|     avg(DepDelay)|    avg(ArrDelay)|\n",
      "+------+------------------+-----------------+\n",
      "|   LGA| 7.431141565915709|6.047335822109474|\n",
      "|   EWR|10.295468607250333|9.565089035954916|\n",
      "|   JFK|10.351298909519874|8.353392637878372|\n",
      "+------+------------------+-----------------+\n",
      "\n"
     ]
    },
    {
     "name": "stderr",
     "output_type": "stream",
     "text": [
      "\r",
      "                                                                                \r"
     ]
    }
   ],
   "source": [
    "(nycflights\n",
    " .groupby('Origin')\n",
    " .agg({'DepDelay': 'avg', 'ArrDelay': 'avg'}) # note the new column names\n",
    " .show())"
   ]
  },
  {
   "cell_type": "markdown",
   "metadata": {},
   "source": [
    "You can't perform multiple aggregrations on the same column (only the last is performed)"
   ]
  },
  {
   "cell_type": "code",
   "execution_count": 4,
   "metadata": {},
   "outputs": [
    {
     "name": "stderr",
     "output_type": "stream",
     "text": [
      "[Stage 10:>                                                         (0 + 1) / 1]\r"
     ]
    },
    {
     "name": "stdout",
     "output_type": "stream",
     "text": [
      "+---------+-------------+\n",
      "|DayOfWeek|max(DepDelay)|\n",
      "+---------+-------------+\n",
      "|        7|       1429.0|\n",
      "|        6|       1434.0|\n",
      "|        5|       1435.0|\n",
      "|        1|       1435.0|\n",
      "|        3|       1435.0|\n",
      "|        2|       1434.0|\n",
      "|        4|       1435.0|\n",
      "+---------+-------------+\n",
      "\n"
     ]
    },
    {
     "name": "stderr",
     "output_type": "stream",
     "text": [
      "\r",
      "                                                                                \r"
     ]
    }
   ],
   "source": [
    "(nycflights\n",
    " .groupby('DayOfWeek')\n",
    " .agg({'DepDelay': 'min', 'DepDelay': 'max'})\n",
    " .show())"
   ]
  },
  {
   "cell_type": "markdown",
   "metadata": {},
   "source": [
    "Use `groupBy()` with a few columns, then aggregate"
   ]
  },
  {
   "cell_type": "code",
   "execution_count": 5,
   "metadata": {},
   "outputs": [
    {
     "name": "stderr",
     "output_type": "stream",
     "text": [
      "[Stage 13:>                                                         (0 + 1) / 1]\r"
     ]
    },
    {
     "name": "stdout",
     "output_type": "stream",
     "text": [
      "+---------+------+----+-----+\n",
      "|DayOfWeek|Origin|Dest|count|\n",
      "+---------+------+----+-----+\n",
      "|        1|   LGA| ORD|17121|\n",
      "|        1|   EWR| ORD|15946|\n",
      "|        1|   EWR| BOS|12157|\n",
      "|        1|   JFK| LAX|10383|\n",
      "|        1|   EWR| ATL| 9462|\n",
      "|        1|   LGA| BOS| 8755|\n",
      "|        1|   LGA| DFW| 8687|\n",
      "|        1|   LGA| DCA| 8165|\n",
      "|        1|   LGA| ATL| 7568|\n",
      "|        1|   EWR| DTW| 7209|\n",
      "|        1|   JFK| SFO| 6869|\n",
      "|        1|   EWR| MCO| 6564|\n",
      "|        1|   LGA| MIA| 6381|\n",
      "|        1|   EWR| DFW| 6364|\n",
      "|        1|   EWR| DCA| 6203|\n",
      "|        1|   EWR| LAX| 5959|\n",
      "|        1|   LGA| MCO| 5503|\n",
      "|        1|   EWR| PIT| 5213|\n",
      "|        1|   EWR| DEN| 5004|\n",
      "|        1|   JFK| SJU| 4988|\n",
      "|        1|   EWR| MIA| 4941|\n",
      "|        1|   LGA| DTW| 4927|\n",
      "|        1|   LGA| PIT| 4894|\n",
      "|        1|   LGA| PBI| 4888|\n",
      "|        1|   LGA| CLT| 4776|\n",
      "|        1|   JFK| MIA| 4749|\n",
      "|        1|   LGA| FLL| 4495|\n",
      "|        1|   EWR| IAH| 4399|\n",
      "|        1|   EWR| CLT| 4377|\n",
      "|        1|   LGA| CLE| 4308|\n",
      "|        1|   EWR| BUF| 4145|\n",
      "|        1|   EWR| CLE| 4096|\n",
      "|        1|   EWR| MSP| 4087|\n",
      "|        1|   LGA| IAH| 3931|\n",
      "|        1|   EWR| STL| 3931|\n",
      "|        1|   LGA| MSP| 3848|\n",
      "|        1|   EWR| SFO| 3844|\n",
      "|        1|   LGA| BUF| 3843|\n",
      "|        1|   EWR| FLL| 3811|\n",
      "|        1|   LGA| DEN| 3550|\n",
      "+---------+------+----+-----+\n",
      "only showing top 40 rows\n",
      "\n"
     ]
    },
    {
     "name": "stderr",
     "output_type": "stream",
     "text": [
      "\r",
      "                                                                                \r"
     ]
    }
   ],
   "source": [
    "(\n",
    "  nycflights\n",
    "  .groupby(['DayOfWeek', 'Origin', 'Dest']) # group by these unique combinations\n",
    "  .count()                              # perform a 'count' aggregation on the groups\n",
    "  .orderBy(['DayOfWeek', 'count'],\n",
    "           ascending = [1, 0])          # order by `DayOfWeek` ascending, `count` descending\n",
    "  .show(40)\n",
    ") \n",
    "     "
   ]
  },
  {
   "cell_type": "markdown",
   "metadata": {},
   "source": [
    "Use `groupBy()` + `pivot()` + an aggregation function to make a pivot table!\n",
    "Get a table of flights by month for each carrier"
   ]
  },
  {
   "cell_type": "code",
   "execution_count": 6,
   "metadata": {},
   "outputs": [
    {
     "name": "stderr",
     "output_type": "stream",
     "text": [
      "[Stage 27:>                                                         (0 + 1) / 1]\r"
     ]
    },
    {
     "name": "stdout",
     "output_type": "stream",
     "text": [
      "+---------+-----+------+-----+----+----+------+-----+------+-----+-----+-----+\n",
      "|DayOfWeek|   AA|    CO|   DL|  EA|  HP|ML (1)|   NW|PA (1)|   TW|   UA|   US|\n",
      "+---------+-----+------+-----+----+----+------+-----+------+-----+-----+-----+\n",
      "|        7|51950| 94901|52191|2375|6240|   306|17846|  5856|29381|33861|59781|\n",
      "|        6|46854| 85451|51611|2346|6429|   281|16335|  5891|28709|32328|44344|\n",
      "|        5|54980|106813|54520|2346|6411|   363|19695|  6263|29862|36895|67396|\n",
      "|        1|55358|106849|54824|2431|6413|   365|19783|  6254|30106|37294|68334|\n",
      "|        3|55268|106974|54936|2337|6396|   376|19806|  6259|30076|37299|68315|\n",
      "|        2|55472|107185|55061|2346|6411|   368|19893|  6206|30128|37311|68531|\n",
      "|        4|55049|106488|54626|2361|6417|   366|19709|  6173|29811|37135|67981|\n",
      "+---------+-----+------+-----+----+----+------+-----+------+-----+-----+-----+\n",
      "\n"
     ]
    },
    {
     "name": "stderr",
     "output_type": "stream",
     "text": [
      "\r",
      "                                                                                \r"
     ]
    }
   ],
   "source": [
    "(\n",
    "  nycflights\n",
    "  .groupBy('DayOfWeek') # group the data for aggregation by `month` number\n",
    "  .pivot('UniqueCarrier') # provide columns of data by `carrier` abbreviation\n",
    "  .count()          # create aggregations as a count of rows\n",
    "  .show()\n",
    ")\n",
    "     "
   ]
  },
  {
   "cell_type": "markdown",
   "metadata": {},
   "source": [
    "## Column Operations\n",
    "\n",
    "\n",
    "`Column` instances can be created by:\n",
    "\n",
    "(1) Selecting a column from a DataFrame\n",
    "- `df.colName`\n",
    "- `df[\"colName\"]`\n",
    "- `df.select(df.colName)`\n",
    "- `df.withColumn(df.colName)`\n",
    "\n",
    "(2) Creating one from an expression\n",
    "- `df.colName + 1`\n",
    "- `1 / df.colName`\n",
    "\n",
    "Once you have a `Column` instance, you can apply a wide range of functions. Some of the functions covered here are:\n",
    "- `format_number()`: apply formatting to a number, rounded to `d` decimal places, and return the result as a string\n",
    "- `when()` & `otherwise()`: `when()` evaluates a list of conditions and returns one of multiple possible result expressions; if `otherwise()` is not invoked, `None` is returned for unmatched conditions\n",
    "- `concat_ws()`: concatenates multiple input string columns together into a single string column, using the given separator\n",
    "- `to_utc_timestamp()`: assumes the given timestamp is in given timezone and converts to UTC\n",
    "- `year()`: extracts the year of a given date as integer\n",
    "- `month()`: extracts the month of a given date as integer\n",
    "- `dayofmonth()`: extracts the day of the month of a given date as integer\n",
    "- `hour()`: extract the hour of a given date as integer\n",
    "- `minute()`: extract the minute of a given date as integer"
   ]
  },
  {
   "cell_type": "markdown",
   "metadata": {},
   "source": [
    "Perform 2 different aggregations, rename those new columns, then do some rounding of the aggregrate values\n"
   ]
  },
  {
   "cell_type": "code",
   "execution_count": 8,
   "metadata": {},
   "outputs": [
    {
     "name": "stderr",
     "output_type": "stream",
     "text": [
      "[Stage 28:=====>                                                  (1 + 10) / 11]\r"
     ]
    },
    {
     "name": "stdout",
     "output_type": "stream",
     "text": [
      "+---------+--------------+--------------+\n",
      "|DayOfWeek|mean_arr_delay|mean_dep_delay|\n",
      "+---------+--------------+--------------+\n",
      "|        7|           9.0|           4.8|\n",
      "|        6|           7.8|           3.1|\n",
      "|        5|          11.5|          11.8|\n",
      "|        1|           8.1|           6.3|\n",
      "|        3|           9.1|           9.8|\n",
      "|        2|           8.1|           7.7|\n",
      "|        4|          10.5|          11.5|\n",
      "+---------+--------------+--------------+\n",
      "\n"
     ]
    },
    {
     "name": "stderr",
     "output_type": "stream",
     "text": [
      "                                                                                \r"
     ]
    }
   ],
   "source": [
    "from pyspark.sql.functions import *\n",
    "\n",
    "(\n",
    "  nycflights\n",
    "  .groupby('DayOfWeek')\n",
    "  .agg({'DepDelay': 'avg', 'ArrDelay': 'avg'})\n",
    "  .withColumnRenamed('avg(DepDelay)', 'mean_arr_delay')\n",
    "  .withColumnRenamed('avg(ArrDelay)', 'mean_dep_delay')\n",
    "  .withColumn('mean_arr_delay', format_number('mean_arr_delay', 1))\n",
    "  .withColumn('mean_dep_delay', format_number('mean_dep_delay', 1))\n",
    "  .show()\n",
    ")"
   ]
  },
  {
   "cell_type": "markdown",
   "metadata": {},
   "source": [
    "Add a new column (`far_or_near`) with a string based on a comparison\n",
    "on a numeric column; uses: `withColumn()`, `when()`, and `otherwise()`"
   ]
  },
  {
   "cell_type": "code",
   "execution_count": 8,
   "metadata": {},
   "outputs": [
    {
     "name": "stderr",
     "output_type": "stream",
     "text": [
      "[Stage 28:=============================>                            (2 + 2) / 4]\r"
     ]
    },
    {
     "name": "stdout",
     "output_type": "stream",
     "text": [
      "+------+----+-----------+\n",
      "|Origin|Dest|far_or_near|\n",
      "+------+----+-----------+\n",
      "|   LGA| MKE|       near|\n",
      "|   LGA| BOS|       near|\n",
      "|   LGA| CAE|       near|\n",
      "|   JFK| FLL|        far|\n",
      "|   LGA| DTW|       near|\n",
      "|   JFK| IND|       near|\n",
      "|   LGA| BNA|       near|\n",
      "|   EWR| BNA|       near|\n",
      "|   LGA| PHL|       near|\n",
      "|   EWR| RSW|        far|\n",
      "|   EWR| DCA|       near|\n",
      "|   EWR| LAS|        far|\n",
      "|   EWR| ORH|       near|\n",
      "|   JFK| IAD|       near|\n",
      "|   EWR| SEA|        far|\n",
      "|   EWR| DAY|       near|\n",
      "|   JFK| RDU|       near|\n",
      "|   EWR| PIT|       near|\n",
      "|   LGA| EWR|       near|\n",
      "|   JFK| CVG|       near|\n",
      "+------+----+-----------+\n",
      "only showing top 20 rows\n",
      "\n"
     ]
    },
    {
     "name": "stderr",
     "output_type": "stream",
     "text": [
      "\r",
      "                                                                                \r"
     ]
    }
   ],
   "source": [
    "from pyspark.sql.types import *  # Necessary for creating schemas\n",
    "from pyspark.sql.functions import * # Importing PySpark functions\n",
    "\n",
    "(\n",
    "  nycflights\n",
    "  .withColumn('far_or_near',\n",
    "              when(nycflights.Distance > 1000, 'far') # the `if-then` statement\n",
    "              .otherwise('near'))                     # the `else` statement\n",
    "  .select([\"Origin\", \"Dest\", \"far_or_near\"])\n",
    "  .distinct()\n",
    "  .show()\n",
    ")"
   ]
  },
  {
   "cell_type": "markdown",
   "metadata": {},
   "source": [
    "Perform a few numerical computations across columns"
   ]
  },
  {
   "cell_type": "code",
   "execution_count": 9,
   "metadata": {
    "scrolled": true
   },
   "outputs": [
    {
     "name": "stderr",
     "output_type": "stream",
     "text": [
      "[Stage 31:===========================================>              (3 + 1) / 4]\r"
     ]
    },
    {
     "name": "stdout",
     "output_type": "stream",
     "text": [
      "+------+----+---------------+\n",
      "|Origin|Dest|dist_per_minute|\n",
      "+------+----+---------------+\n",
      "|   JFK| SFO|           6.66|\n",
      "|   JFK| STL|           7.89|\n",
      "|   LGA| TPA|           6.83|\n",
      "|   LGA| MEM|           7.77|\n",
      "|   LGA| MIA|           5.93|\n",
      "|   LGA| MSP|           5.45|\n",
      "|   LGA| MSY|           6.01|\n",
      "|   EWR| PBI|           8.26|\n",
      "|   EWR| LAX|           7.03|\n",
      "|   LGA| BOS|           4.87|\n",
      "|   LGA| DEN|           7.20|\n",
      "|   EWR| PHX|           6.20|\n",
      "|   EWR| GSP|           6.39|\n",
      "|   EWR| BUF|           3.97|\n",
      "|   EWR| CVG|           7.39|\n",
      "|   LGA| STL|           7.45|\n",
      "|   EWR| GSO|           4.80|\n",
      "|   EWR| ATL|           4.16|\n",
      "|   JFK| BQN|           7.40|\n",
      "|   LGA| CLT|           9.54|\n",
      "+------+----+---------------+\n",
      "only showing top 20 rows\n",
      "\n"
     ]
    },
    {
     "name": "stderr",
     "output_type": "stream",
     "text": [
      "\r",
      "                                                                                \r"
     ]
    }
   ],
   "source": [
    "(\n",
    "  nycflights\n",
    "  .withColumn('dist_per_minute',\n",
    "              nycflights.Distance / nycflights.AirTime) # create new column with division of values\n",
    "  .withColumn('dist_per_minute',\n",
    "              format_number('dist_per_minute', 2))       # round that new column's float value to 2 decimal places\n",
    "  .select([\"Origin\", \"Dest\", \"dist_per_minute\"])\n",
    "  .distinct()\n",
    "  .show()\n",
    ")"
   ]
  },
  {
   "cell_type": "markdown",
   "metadata": {},
   "source": [
    "You can split the date if you need. Use the `year()`, `month()`, `dayofmonth()`,`hour()`, and `minute()` functions with `withColumn()`"
   ]
  },
  {
   "cell_type": "code",
   "execution_count": 10,
   "metadata": {},
   "outputs": [
    {
     "name": "stderr",
     "output_type": "stream",
     "text": [
      "[Stage 34:===========================================>              (3 + 1) / 4]\r"
     ]
    },
    {
     "name": "stdout",
     "output_type": "stream",
     "text": [
      "+---+-----+----+\n",
      "|Day|Month|Year|\n",
      "+---+-----+----+\n",
      "| 10|    9|1995|\n",
      "| 29|   11|1995|\n",
      "| 29|    9|1990|\n",
      "|  1|   11|1990|\n",
      "| 24|    6|1994|\n",
      "| 17|   10|1994|\n",
      "|  6|    8|1995|\n",
      "|  5|    2|1990|\n",
      "| 29|    9|1994|\n",
      "| 18|   11|1994|\n",
      "|  2|   10|1995|\n",
      "| 26|    7|1994|\n",
      "| 31|    8|1994|\n",
      "|  5|    5|1990|\n",
      "|  8|    7|1990|\n",
      "| 16|    7|1990|\n",
      "|  1|    8|1990|\n",
      "|  2|   10|1994|\n",
      "|  2|    1|1995|\n",
      "| 22|    4|1995|\n",
      "+---+-----+----+\n",
      "only showing top 20 rows\n",
      "\n"
     ]
    },
    {
     "name": "stderr",
     "output_type": "stream",
     "text": [
      "\r",
      "                                                                                \r"
     ]
    }
   ],
   "source": [
    "(\n",
    "  nycflights\n",
    "  .withColumn('Year', year(nycflights.Date))\n",
    "  .withColumn('Month', month(nycflights.Date))\n",
    "  .withColumn('Day', dayofmonth(nycflights.Date))\n",
    "  .select([\"Day\", \"Month\", \"Year\"])\n",
    "  .distinct()\n",
    "  .show()\n",
    ")"
   ]
  },
  {
   "cell_type": "markdown",
   "metadata": {},
   "source": [
    "There are more time-based functions:\n",
    "- `date_sub()`: subtract an integer number of days from a *Date* or *Timestamp*\n",
    "- `date_add()`: add an integer number of days from a *Date* or *Timestamp*\n",
    "- `datediff()`: get the difference between two dates\n",
    "- `add_months()`: add an integer number of months\n",
    "- `months_between()`: get the number of months between two dates\n",
    "- `next_day()`: returns the first date which is later than the value of the date column\n",
    "- `last_day()`: returns the last day of the month which the given date belongs to\n",
    "- `dayofmonth()`: extract the day of the month of a given date as integer\n",
    "- `dayofyear()`: extract the day of the year of a given date as integer\n",
    "- `weekofyear()`: extract the week number of a given date as integer\n",
    "- `quarter()`: extract the quarter of a given date"
   ]
  },
  {
   "cell_type": "markdown",
   "metadata": {},
   "source": [
    "Let's transform the timestamp in the first record of `nycflights` with each of these functions"
   ]
  },
  {
   "cell_type": "code",
   "execution_count": 11,
   "metadata": {},
   "outputs": [
    {
     "name": "stdout",
     "output_type": "stream",
     "text": [
      "+-------------------+---------+----------+\n",
      "|               Date|dayofyear|weekofyear|\n",
      "+-------------------+---------+----------+\n",
      "|1992-01-07 00:00:00|        7|         2|\n",
      "|1992-01-08 00:00:00|        8|         2|\n",
      "|1992-01-09 00:00:00|        9|         2|\n",
      "|1992-01-11 00:00:00|       11|         2|\n",
      "|1992-01-12 00:00:00|       12|         2|\n",
      "|1992-01-13 00:00:00|       13|         3|\n",
      "|1992-01-14 00:00:00|       14|         3|\n",
      "|1992-01-15 00:00:00|       15|         3|\n",
      "|1992-01-16 00:00:00|       16|         3|\n",
      "|1992-01-17 00:00:00|       17|         3|\n",
      "+-------------------+---------+----------+\n",
      "\n"
     ]
    }
   ],
   "source": [
    "(\n",
    "  nycflights\n",
    "   .limit(10)\n",
    "   .select('Date')\n",
    "   .withColumn('dayofyear', dayofyear(nycflights.Date))\n",
    "   .withColumn('weekofyear', weekofyear(nycflights.Date))\n",
    "   .show()\n",
    "   )"
   ]
  },
  {
   "cell_type": "code",
   "execution_count": 12,
   "metadata": {},
   "outputs": [],
   "source": [
    "spark.stop()"
   ]
  },
  {
   "cell_type": "code",
   "execution_count": null,
   "metadata": {},
   "outputs": [],
   "source": []
  }
 ],
 "metadata": {
  "deepnote": {},
  "deepnote_execution_queue": [],
  "deepnote_notebook_id": "aea00890933e4d91be101c2c40bd0c29",
  "jupytext": {
   "cell_metadata_json": true,
   "encoding": "# -*- coding: utf-8 -*-"
  },
  "kernelspec": {
   "display_name": "Python 3 (ipykernel)",
   "language": "python",
   "name": "python3"
  },
  "language_info": {
   "codemirror_mode": {
    "name": "ipython",
    "version": 3
   },
   "file_extension": ".py",
   "mimetype": "text/x-python",
   "name": "python",
   "nbconvert_exporter": "python",
   "pygments_lexer": "ipython3",
   "version": "3.9.13"
  }
 },
 "nbformat": 4,
 "nbformat_minor": 4
}
