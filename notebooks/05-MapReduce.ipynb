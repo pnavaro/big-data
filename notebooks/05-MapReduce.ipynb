{
 "cells": [
  {
   "cell_type": "markdown",
   "metadata": {
    "cell_id": "00000-26bbc188-6161-4384-81d6-56e0e7fec378",
    "output_cleared": false,
    "slideshow": {
     "slide_type": "slide"
    }
   },
   "source": [
    "# Map Reduce\n",
    "\n",
    "This notebook objective is to code in Python language a wordcount application using map-reduce process. A java version is well explained on [this page](https://www.dezyre.com/hadoop-tutorial/hadoop-mapreduce-wordcount-tutorial)\n",
    "\n",
    "![domain decomposition](images/domain_decomp.png)\n",
    "\n",
    "credits: https://computing.llnl.gov/tutorials/parallel_comp"
   ]
  },
  {
   "cell_type": "markdown",
   "metadata": {
    "cell_id": "00001-42e2deda-cde4-4a15-8613-7f6887c2b946",
    "output_cleared": false,
    "slideshow": {
     "slide_type": "slide"
    }
   },
   "source": [
    "## `map` function example\n",
    "\n",
    "The `map(func, seq)` Python function applies the function func to all the elements of the sequence seq. It returns a new list with the elements changed by func"
   ]
  },
  {
   "cell_type": "code",
   "execution_count": null,
   "metadata": {
    "cell_id": "00002-da0bd233-0388-4413-b0ad-d5d8d6326966",
    "execution_millis": 8,
    "execution_start": 1604475123788,
    "output_cleared": false,
    "slideshow": {
     "slide_type": "fragment"
    },
    "source_hash": "95028dd2"
   },
   "outputs": [
    {
     "data": {
      "text/plain": [
       "<map at 0x7f59e24ffd50>"
      ]
     },
     "execution_count": 1,
     "metadata": {},
     "output_type": "execute_result"
    }
   ],
   "source": [
    "def f(x):\n",
    "    return x * x\n",
    "\n",
    "rdd = [2, 6, -3, 7]\n",
    "res = map(f, rdd )\n",
    "res  # Res is an iterator"
   ]
  },
  {
   "cell_type": "code",
   "execution_count": null,
   "metadata": {
    "cell_id": "00003-8235787f-c264-4b77-8d37-544fad7a23ee",
    "execution_millis": 4,
    "execution_start": 1604475123800,
    "output_cleared": false,
    "slideshow": {
     "slide_type": "fragment"
    },
    "source_hash": "e4befbff"
   },
   "outputs": [
    {
     "name": "stdout",
     "output_type": "stream",
     "text": [
      "4 36 9 49\n"
     ]
    }
   ],
   "source": [
    "print(*res)"
   ]
  },
  {
   "cell_type": "code",
   "execution_count": null,
   "metadata": {
    "cell_id": "00004-d85df79e-12a9-4d71-86f2-7fb558857de8",
    "execution_millis": 2,
    "execution_start": 1604475123811,
    "output_cleared": false,
    "slideshow": {
     "slide_type": "slide"
    },
    "source_hash": "322388ee"
   },
   "outputs": [],
   "source": [
    "from operator import mul\n",
    "rdd1, rdd2 = [2, 6, -3, 7], [1, -4, 5, 3]\n",
    "res = map(mul, rdd1, rdd2 ) # element wise sum of rdd1 and rdd2 "
   ]
  },
  {
   "cell_type": "code",
   "execution_count": null,
   "metadata": {
    "cell_id": "00005-992df850-d6e1-4c73-bb34-2c588ab3cfd6",
    "execution_millis": 3,
    "execution_start": 1604475123816,
    "output_cleared": false,
    "slideshow": {
     "slide_type": "fragment"
    },
    "source_hash": "e4befbff"
   },
   "outputs": [
    {
     "name": "stdout",
     "output_type": "stream",
     "text": [
      "2 -24 -15 21\n"
     ]
    }
   ],
   "source": [
    "print(*res)"
   ]
  },
  {
   "cell_type": "markdown",
   "metadata": {
    "cell_id": "00006-82db0dbb-6add-4604-a13a-12343d8bf1ba",
    "output_cleared": false,
    "slideshow": {
     "slide_type": "slide"
    }
   },
   "source": [
    "![MapReduce](images/mapreduce.jpg)"
   ]
  },
  {
   "cell_type": "markdown",
   "metadata": {
    "cell_id": "00007-ab1aa2d6-1bf7-4809-8893-cb280a1a3100",
    "output_cleared": false,
    "slideshow": {
     "slide_type": "slide"
    }
   },
   "source": [
    "## `functools.reduce` example\n",
    "\n",
    "The function `reduce(func, seq)` continually applies the function func() to the sequence seq and return a single value. For example, reduce(f, [1, 2, 3, 4, 5]) calculates f(f(f(f(1,2),3),4),5)."
   ]
  },
  {
   "cell_type": "code",
   "execution_count": null,
   "metadata": {
    "cell_id": "00008-819c928c-717c-45f4-a91c-69d920cb2e4a",
    "execution_millis": 3,
    "execution_start": 1604475123824,
    "output_cleared": false,
    "slideshow": {
     "slide_type": "fragment"
    },
    "source_hash": "59797020"
   },
   "outputs": [
    {
     "data": {
      "text/plain": [
       "15"
      ]
     },
     "execution_count": 5,
     "metadata": {},
     "output_type": "execute_result"
    }
   ],
   "source": [
    "from functools import reduce\n",
    "from operator import add\n",
    "rdd = list(range(1,6))\n",
    "reduce(add, rdd) # computes ((((1+2)+3)+4)+5)"
   ]
  },
  {
   "cell_type": "code",
   "execution_count": null,
   "metadata": {
    "cell_id": "00009-b18b7168-bab4-4ff0-8e67-7eb194491e89",
    "execution_millis": 1,
    "execution_start": 1604475123839,
    "output_cleared": false,
    "slideshow": {
     "slide_type": "fragment"
    },
    "source_hash": "3a0d6a0c"
   },
   "outputs": [
    {
     "data": {
      "text/plain": [
       "120"
      ]
     },
     "execution_count": 6,
     "metadata": {},
     "output_type": "execute_result"
    }
   ],
   "source": [
    "p = 1\n",
    "for x in rdd:\n",
    "    p *= x\n",
    "p"
   ]
  },
  {
   "cell_type": "code",
   "execution_count": null,
   "metadata": {
    "cell_id": "00010-894f7892-1ca4-4e38-adae-1d6dc824754a",
    "execution_millis": 5,
    "execution_start": 1604475123843,
    "output_cleared": false,
    "slideshow": {
     "slide_type": "slide"
    },
    "source_hash": "781c1501"
   },
   "outputs": [
    {
     "data": {
      "text/plain": [
       "120"
      ]
     },
     "execution_count": 7,
     "metadata": {},
     "output_type": "execute_result"
    }
   ],
   "source": [
    "def g(x,y):\n",
    "    return x * y\n",
    "\n",
    "reduce(g, rdd) "
   ]
  },
  {
   "cell_type": "code",
   "execution_count": null,
   "metadata": {
    "cell_id": "00011-bc36bb28-6c3b-4cb3-9fbf-11259167e085",
    "execution_millis": 3,
    "execution_start": 1604475123853,
    "output_cleared": false,
    "slideshow": {
     "slide_type": "fragment"
    },
    "source_hash": "3a0d6a0c"
   },
   "outputs": [
    {
     "data": {
      "text/plain": [
       "120"
      ]
     },
     "execution_count": 8,
     "metadata": {},
     "output_type": "execute_result"
    }
   ],
   "source": [
    "p = 1\n",
    "for x in rdd:\n",
    "    p *= x\n",
    "p"
   ]
  },
  {
   "cell_type": "markdown",
   "metadata": {
    "cell_id": "00012-5cfbc3be-3d14-4ca2-b721-7ac4f5e0d1cf",
    "output_cleared": false,
    "slideshow": {
     "slide_type": "slide"
    }
   },
   "source": [
    "## Weighted mean and Variance\n",
    "\n",
    "If the generator of random variable $X$ is discrete with probability mass function $x_1 \\mapsto p_1, x_2 \\mapsto p_2, \\ldots, x_n \\mapsto p_n$ then\n",
    "\n",
    "$$\\operatorname{Var}(X) = \\left(\\sum_{i=1}^n p_i x_i ^2\\right) - \\mu^2,$$\n",
    "\n",
    "where $\\mu$ is the average value, i.e.\n",
    "\n",
    "$$\\mu = \\sum_{i=1}^n p_i x_i. $$"
   ]
  },
  {
   "cell_type": "code",
   "execution_count": null,
   "metadata": {
    "cell_id": "00013-4379b3f6-195b-4caf-9af9-a0def24cc2b6",
    "execution_millis": 4,
    "execution_start": 1604475123860,
    "output_cleared": false,
    "slideshow": {
     "slide_type": "slide"
    },
    "source_hash": "27e1cebb"
   },
   "outputs": [],
   "source": [
    "X = [5, 1, 2, 3, 1, 2, 5, 4]\n",
    "P = [0.05, 0.05, 0.15, 0.05, 0.15, 0.2, 0.1, 0.25]"
   ]
  },
  {
   "cell_type": "markdown",
   "metadata": {
    "cell_id": "00014-e8c266ea-5e5a-45ff-ae0d-6c310e28688f",
    "output_cleared": false
   },
   "source": [
    "Example of `zip`"
   ]
  },
  {
   "cell_type": "code",
   "execution_count": null,
   "metadata": {
    "cell_id": "00015-a1d4b6c3-bc23-4d40-bbc0-5d34c0476c2b",
    "execution_millis": 5,
    "execution_start": 1604475123868,
    "output_cleared": false,
    "source_hash": "11cde8b8"
   },
   "outputs": [
    {
     "name": "stdout",
     "output_type": "stream",
     "text": [
      " x = 5 ..... p = 0.05\n",
      " x = 1 ..... p = 0.05\n",
      " x = 2 ..... p = 0.15\n",
      " x = 3 ..... p = 0.05\n",
      " x = 1 ..... p = 0.15\n",
      " x = 2 ..... p = 0.2\n",
      " x = 5 ..... p = 0.1\n",
      " x = 4 ..... p = 0.25\n"
     ]
    }
   ],
   "source": [
    "for x, p in zip(X, P):\n",
    "    print(f\" x = {x} ..... p = {p}\")"
   ]
  },
  {
   "cell_type": "code",
   "execution_count": null,
   "metadata": {
    "cell_id": "00016-04bb1f2f-d3fe-4d82-af46-63613ebcbf71",
    "execution_millis": 4,
    "execution_start": 1604475123878,
    "output_cleared": false,
    "source_hash": "7bfafc3a"
   },
   "outputs": [
    {
     "name": "stdout",
     "output_type": "stream",
     "text": [
      " x = 5 ..... p = 0.1\n",
      " x = 1 ..... p = 0.0\n",
      " x = 2 ..... p = 0.0\n",
      " x = 3 ..... p = 0.0\n",
      " x = 1 ..... p = 0.0\n",
      " x = 2 ..... p = 0.0\n",
      " x = 5 ..... p = 0.0\n",
      " x = 4 ..... p = 0.0\n"
     ]
    }
   ],
   "source": [
    "from itertools import zip_longest\n",
    "\n",
    "for x, p in zip_longest(X, [0.1], fillvalue=0.0):\n",
    "    print(f\" x = {x} ..... p = {p}\") "
   ]
  },
  {
   "cell_type": "code",
   "execution_count": null,
   "metadata": {
    "cell_id": "00017-abec5e78-7ef1-4138-ad8a-3eb4ad1d9dc7",
    "execution_millis": 3,
    "execution_start": 1604475123888,
    "output_cleared": false,
    "source_hash": "f6aabc16"
   },
   "outputs": [
    {
     "data": {
      "text/plain": [
       "0.9999999999999999"
      ]
     },
     "execution_count": 12,
     "metadata": {},
     "output_type": "execute_result"
    }
   ],
   "source": [
    "sum(P)"
   ]
  },
  {
   "cell_type": "code",
   "execution_count": null,
   "metadata": {
    "cell_id": "00018-99bed283-d4ea-45c6-b737-4494377b8d76",
    "execution_millis": 3,
    "execution_start": 1604475123987,
    "output_cleared": false,
    "source_hash": "877963e6",
    "tags": []
   },
   "outputs": [],
   "source": [
    "data = list(range(1000000))"
   ]
  },
  {
   "cell_type": "code",
   "execution_count": null,
   "metadata": {
    "cell_id": "00019-0a3ebe48-3e93-4244-8d05-009df587e295",
    "execution_millis": 1809,
    "execution_start": 1604475123993,
    "output_cleared": false,
    "source_hash": "e11afadc",
    "tags": []
   },
   "outputs": [
    {
     "name": "stdout",
     "output_type": "stream",
     "text": [
      "222 ms ± 23.4 ms per loop (mean ± std. dev. of 7 runs, 1 loop each)\n"
     ]
    }
   ],
   "source": [
    "from math import sqrt\n",
    "%timeit sum(map(lambda x: 2*sqrt(x)+1, data))"
   ]
  },
  {
   "cell_type": "code",
   "execution_count": null,
   "metadata": {
    "cell_id": "00020-9adee9fc-f16e-44a5-a1f1-74373ff76ca9",
    "execution_millis": 15371,
    "execution_start": 1604475125819,
    "output_cleared": false,
    "source_hash": "40602200",
    "tags": []
   },
   "outputs": [
    {
     "name": "stdout",
     "output_type": "stream",
     "text": [
      "190 ms ± 4.48 ms per loop (mean ± std. dev. of 7 runs, 10 loops each)\n"
     ]
    }
   ],
   "source": [
    "%timeit sum( 2*sqrt(x)+1 for x in  data)"
   ]
  },
  {
   "cell_type": "markdown",
   "metadata": {
    "cell_id": "00018-875fb32c-13fa-4fc5-9831-1ec50c8a4cc2",
    "output_cleared": false,
    "slideshow": {
     "slide_type": "fragment"
    }
   },
   "source": [
    "### Exercise 5.1\n",
    "\n",
    "- Write functions to compute the average value and variance using for loops"
   ]
  },
  {
   "cell_type": "code",
   "execution_count": null,
   "metadata": {
    "cell_id": "00022-d9d47d25-2840-49dc-a6ba-1ba4e052db8b",
    "execution_millis": 1,
    "execution_start": 1604475141191,
    "output_cleared": false,
    "source_hash": "f62aea75",
    "tags": []
   },
   "outputs": [
    {
     "data": {
      "text/plain": [
       "(2.8000000000000003, 1.9599999999999993)"
      ]
     },
     "execution_count": 16,
     "metadata": {},
     "output_type": "execute_result"
    }
   ],
   "source": [
    "X = [5, 1, 2, 3, 1, 2, 5, 4]\n",
    "P = [0.05, 0.05, 0.15, 0.05, 0.15, 0.2, 0.1, 0.25]\n",
    "\n",
    "def average_variance(X, P):\n",
    "    mu = sum( x*p for x,p in zip(X,P))/sum(P)\n",
    "    sigma = (sum( x*x*p for x,p in zip(X,P)) - mu**2)/sum(P)\n",
    "    return mu, sigma\n",
    "\n",
    "average_variance(X, P)"
   ]
  },
  {
   "cell_type": "code",
   "execution_count": null,
   "metadata": {
    "cell_id": "00023-40636487-579b-4036-9f4c-ef1673137ee6",
    "execution_millis": 5,
    "execution_start": 1604475141196,
    "output_cleared": false,
    "source_hash": "4d1eb894",
    "tags": []
   },
   "outputs": [
    {
     "data": {
      "text/plain": [
       "(2.8, 1.9600000000000017)"
      ]
     },
     "execution_count": 17,
     "metadata": {},
     "output_type": "execute_result"
    }
   ],
   "source": [
    "from operator import add, mul\n",
    "def average_variance(X, P):\n",
    "    mu = reduce(add, map( mul, X,P))\n",
    "    sigma = reduce(add, map(lambda x,p:x*x*p, X, P) ) - mu**2 \n",
    "    return mu, sigma\n",
    "average_variance(X, P)"
   ]
  },
  {
   "cell_type": "markdown",
   "metadata": {
    "cell_id": "00019-1531b0c9-2685-47d5-ab7c-d9bbebc22beb",
    "output_cleared": false,
    "slideshow": {
     "slide_type": "fragment"
    }
   },
   "source": [
    "### Exercise 5.2\n",
    "\n",
    "- Write functions to compute the average value and variance using `map` and `reduce`"
   ]
  },
  {
   "cell_type": "markdown",
   "metadata": {
    "cell_id": "00020-1988658f-aae3-4428-adcd-24e450b56cae",
    "output_cleared": false
   },
   "source": [
    "### Examples with filter"
   ]
  },
  {
   "cell_type": "code",
   "execution_count": null,
   "metadata": {
    "cell_id": "00021-94d4ec45-9aae-4c7c-af85-c910b67b8227",
    "execution_millis": 4,
    "execution_start": 1604475141205,
    "output_cleared": false,
    "source_hash": "8898f860"
   },
   "outputs": [
    {
     "name": "stdout",
     "output_type": "stream",
     "text": [
      "0.15 0.15 0.2 0.25\n"
     ]
    }
   ],
   "source": [
    "res = filter( lambda p: p > 0.1, P)  # select p > 0.1\n",
    "print(*res)"
   ]
  },
  {
   "cell_type": "code",
   "execution_count": null,
   "metadata": {
    "cell_id": "00022-f49364d3-b99a-44ef-8082-4d72d86240ac",
    "execution_millis": 2,
    "execution_start": 1604475141218,
    "output_cleared": false,
    "source_hash": "965e9e6f"
   },
   "outputs": [
    {
     "name": "stdout",
     "output_type": "stream",
     "text": [
      "0 3 6 9 12\n"
     ]
    }
   ],
   "source": [
    "res = filter( lambda x: x % 3 == 0, range(15)) # select integer that can be divided by 3\n",
    "print(*res)"
   ]
  },
  {
   "cell_type": "markdown",
   "metadata": {
    "cell_id": "00023-23ad7ac7-c8c3-4054-b953-0b50ecc4c758",
    "output_cleared": false,
    "slideshow": {
     "slide_type": "fragment"
    }
   },
   "source": [
    "*NB: Exercises above are just made to help to understand map-reduce process.\n",
    "This is a bad way to code a variance in Python. You should use [Numpy](http://www.numpy.org) instead.*"
   ]
  },
  {
   "cell_type": "markdown",
   "metadata": {
    "cell_id": "00024-ced56325-0795-4661-8e25-d8b2403ac700",
    "output_cleared": false,
    "slideshow": {
     "slide_type": "slide"
    }
   },
   "source": [
    "## Wordcount \n",
    "\n",
    "We will modify the `wordcount` application into a map-reduce process.\n",
    "\n",
    "The `map` process takes text files as input and breaks it into words. The `reduce`  process sums the counts for each word and emits a single key/value with the word and sum.\n",
    "\n",
    "We need to split the wordcount function we wrote in notebook 04 in order to use map and reduce. \n",
    "\n",
    "In the following exercices we will implement in Python the Java example described in [Hadoop documentation](https://hadoop.apache.org/docs/current/hadoop-mapreduce-client/hadoop-mapreduce-client-core/MapReduceTutorial.html#Example:_WordCount_v1.0)."
   ]
  },
  {
   "cell_type": "markdown",
   "metadata": {
    "cell_id": "00025-167cf7a3-3497-4f98-b6bc-8b38bcf7d641",
    "output_cleared": false,
    "slideshow": {
     "slide_type": "slide"
    }
   },
   "source": [
    "## Map - Read file and return a key/value pairs\n",
    "\n",
    "### Exercise 5.3\n",
    "\n",
    "Write a function `mapper` with a single file name as input that returns a sorted sequence of tuples (word, 1) values.\n",
    "\n",
    "```pybt\n",
    "mapper('sample.txt')\n",
    "[('adipisci', 1), ('adipisci', 1), ('adipisci', 1), ('adipisci', 1), ('adipisci', 1), ('adipisci', 1), ('adipisci', 1), ('aliquam', 1), ('aliquam', 1), ('aliquam', 1), ('aliquam', 1), ('aliquam', 1), ('aliquam', 1), ('aliquam', 1), ('amet', 1), ('amet', 1), ('amet', 1)...\n",
    "```"
   ]
  },
  {
   "cell_type": "code",
   "execution_count": null,
   "metadata": {
    "cell_id": "00031-63b9c502-443e-41df-98cf-21e9ebca3e38",
    "execution_millis": 4,
    "execution_start": 1604475141227,
    "output_cleared": false,
    "source_hash": "e4332bb8",
    "tags": []
   },
   "outputs": [
    {
     "data": {
      "text/plain": [
       "11"
      ]
     },
     "execution_count": 20,
     "metadata": {},
     "output_type": "execute_result"
    }
   ],
   "source": [
    "def poly( a, b, c):\n",
    "    return lambda x: a*x**2+b*x+c \n",
    "\n",
    "p = poly(1,2,3)\n",
    "\n",
    "p(2)"
   ]
  },
  {
   "cell_type": "code",
   "execution_count": null,
   "metadata": {
    "cell_id": "00032-ddfcafbe-1687-4863-af4d-98547f31cc43",
    "execution_millis": 2,
    "execution_start": 1604475141239,
    "output_cleared": false,
    "source_hash": "5f48605a",
    "tags": []
   },
   "outputs": [
    {
     "data": {
      "text/plain": [
       "10"
      ]
     },
     "execution_count": 21,
     "metadata": {},
     "output_type": "execute_result"
    }
   ],
   "source": [
    "class Poly:\n",
    "    def __init__(self, a, b, c):\n",
    "        self.a = a\n",
    "        self.b = b\n",
    "        self.c = b\n",
    "    def __call__(self, x):\n",
    "        return self.a*x**2+self.b*x+self.c\n",
    "\n",
    "p = Poly(1,2,3)\n",
    "\n",
    "p(2)       \n"
   ]
  },
  {
   "cell_type": "code",
   "execution_count": null,
   "metadata": {
    "cell_id": "00033-2c3f15be-545b-4d49-b500-4aab184a92f9",
    "execution_millis": 3,
    "execution_start": 1604475141286,
    "output_cleared": false,
    "source_hash": "c42926c9",
    "tags": []
   },
   "outputs": [],
   "source": [
    "from lorem import text\n",
    "\n",
    "with open(\"sample.txt\",\"w\") as f:\n",
    "    f.write(text())\n"
   ]
  },
  {
   "cell_type": "code",
   "execution_count": null,
   "metadata": {
    "cell_id": "00031-917b092c-cac4-44a1-af5f-fc688f42e58b",
    "execution_millis": 7,
    "execution_start": 1604475141294,
    "output_cleared": false,
    "source_hash": "9fa9c34b",
    "tags": []
   },
   "outputs": [
    {
     "data": {
      "text/plain": [
       "[('adipisci', 1),\n",
       " ('adipisci', 1),\n",
       " ('adipisci', 1),\n",
       " ('adipisci', 1),\n",
       " ('adipisci', 1),\n",
       " ('adipisci', 1),\n",
       " ('adipisci', 1),\n",
       " ('aliquam', 1),\n",
       " ('aliquam', 1),\n",
       " ('aliquam', 1)]"
      ]
     },
     "execution_count": 23,
     "metadata": {},
     "output_type": "execute_result"
    }
   ],
   "source": [
    "def mapper(filename):\n",
    "    with open(filename) as f:\n",
    "        data = f.read().strip().lower().replace(\".\", \" \")\n",
    "    return sorted(map(lambda w:(w,1), data.split()))\n",
    "\n",
    "mapper(\"sample.txt\")[:10]\n",
    "\n",
    "    "
   ]
  },
  {
   "cell_type": "markdown",
   "metadata": {
    "cell_id": "00026-2a461c17-a231-43d2-bdee-f683a2912bf4",
    "output_cleared": false
   },
   "source": [
    "## Partition\n",
    "\n",
    "### Exercise 5.4\n",
    "\n",
    "Create a function named `partitioner` that stores the key/value pairs from `mapper`  that group (word, 1) pairs into a list as:\n",
    "```python\n",
    "partitioner(mapper('sample.txt'))\n",
    "[('adipisci', [1, 1, 1, 1, 1, 1, 1]), ('aliquam', [1, 1, 1, 1, 1, 1, 1]), ('amet', [1, 1, 1, 1],...]\n",
    "```"
   ]
  },
  {
   "cell_type": "code",
   "execution_count": null,
   "metadata": {
    "cell_id": "00035-5e40fd7d-61f3-40a3-a9da-f9e8faea7fef",
    "execution_millis": 4,
    "execution_start": 1604475141311,
    "output_cleared": false,
    "source_hash": "1b4079ae",
    "tags": []
   },
   "outputs": [
    {
     "data": {
      "text/plain": [
       "[('adipisci', [1, 1, 1, 1, 1, 1, 1]),\n",
       " ('aliquam', [1, 1, 1, 1, 1, 1, 1, 1, 1, 1, 1, 1, 1, 1, 1]),\n",
       " ('amet', [1, 1, 1, 1, 1, 1, 1]),\n",
       " ('consectetur', [1, 1, 1, 1, 1, 1, 1, 1, 1, 1, 1]),\n",
       " ('dolor', [1, 1, 1, 1, 1, 1, 1, 1, 1, 1, 1, 1, 1, 1]),\n",
       " ('dolore', [1, 1, 1, 1, 1, 1]),\n",
       " ('dolorem', [1, 1, 1, 1, 1, 1, 1]),\n",
       " ('eius', [1, 1, 1, 1, 1, 1, 1, 1]),\n",
       " ('est', [1, 1, 1, 1, 1, 1, 1, 1, 1, 1, 1, 1]),\n",
       " ('etincidunt', [1, 1, 1, 1, 1])]"
      ]
     },
     "execution_count": 24,
     "metadata": {},
     "output_type": "execute_result"
    }
   ],
   "source": [
    "from collections import defaultdict\n",
    "def partitioner(map_words):\n",
    "    d = defaultdict(list)\n",
    "    for w,i in map_words:\n",
    "        d[w].append(1)\n",
    "    return list(d.items())\n",
    "\n",
    "partitioner(mapper('sample.txt'))[:10]"
   ]
  },
  {
   "cell_type": "markdown",
   "metadata": {
    "cell_id": "00027-20fa8411-911d-450d-a524-6e0dbcf66864",
    "output_cleared": false,
    "slideshow": {
     "slide_type": "slide"
    }
   },
   "source": [
    "## Reduce - Sums the counts and returns a single key/value (word, sum).\n",
    "\n",
    "### Exercice 5.5\n",
    "\n",
    "Write the function `reducer` that read a tuple `(word,[1,1,1,..,1])` and sum the occurrences of word to a final count, and then output the tuple (word,occurences).\n",
    "\n",
    "```python\n",
    "reducer(('hello',[1,1,1,1,1])\n",
    "('hello',5)\n",
    "```"
   ]
  },
  {
   "cell_type": "code",
   "execution_count": null,
   "metadata": {
    "cell_id": "00038-83e269fe-7c52-4d02-8faa-0e9867022527",
    "execution_millis": 2,
    "execution_start": 1604475141327,
    "output_cleared": false,
    "source_hash": "e1f68a94",
    "tags": []
   },
   "outputs": [
    {
     "data": {
      "text/plain": [
       "('hello', 5)"
      ]
     },
     "execution_count": 25,
     "metadata": {},
     "output_type": "execute_result"
    }
   ],
   "source": [
    "def reducer(w):\n",
    "    return w[0],len(w[1])\n",
    "\n",
    "reducer(('hello',[1,1,1,1,1]))"
   ]
  },
  {
   "cell_type": "markdown",
   "metadata": {
    "cell_id": "00028-5a02ce56-1aaa-4a72-bccb-5fa1bcd6ba4b",
    "output_cleared": false,
    "slideshow": {
     "slide_type": "slide"
    }
   },
   "source": [
    "## Process several files\n",
    "\n",
    "Let's create 8 files `sample[0-7].txt`. Set most common words at the top of the output list."
   ]
  },
  {
   "cell_type": "code",
   "execution_count": null,
   "metadata": {
    "cell_id": "00029-b2c70e85-cb81-48d2-b1ab-f433e60defbf",
    "execution_millis": 11,
    "execution_start": 1604475141331,
    "output_cleared": false,
    "slideshow": {
     "slide_type": "fragment"
    },
    "source_hash": "35d25c27"
   },
   "outputs": [],
   "source": [
    "from lorem import text\n",
    "for i in range(1):\n",
    "    with open(\"sample{0:02d}.txt\".format(i), \"w\") as f:\n",
    "        f.write(text())"
   ]
  },
  {
   "cell_type": "code",
   "execution_count": null,
   "metadata": {
    "cell_id": "00030-a5da7b68-98d0-4e0d-a5dc-a0bd8e821ff5",
    "execution_millis": 1,
    "execution_start": 1604475141355,
    "output_cleared": false,
    "slideshow": {
     "slide_type": "slide"
    },
    "source_hash": "8bf0ba7a"
   },
   "outputs": [
    {
     "data": {
      "text/plain": [
       "['sample00.txt']"
      ]
     },
     "execution_count": 27,
     "metadata": {},
     "output_type": "execute_result"
    }
   ],
   "source": [
    "import glob\n",
    "files = sorted(glob.glob('sample0*.txt'))\n",
    "files"
   ]
  },
  {
   "cell_type": "markdown",
   "metadata": {
    "cell_id": "00031-846589d9-1c68-491d-84cf-6437d569e71f",
    "output_cleared": false,
    "slideshow": {
     "slide_type": "slide"
    }
   },
   "source": [
    "### Exercise 5.6\n",
    "- Use functions implemented above to count (word, occurences) by using a for loops over files and partitioned data."
   ]
  },
  {
   "cell_type": "code",
   "execution_count": null,
   "metadata": {
    "cell_id": "00043-2edc1df6-307d-4e5e-b0a5-119732bf5469",
    "execution_millis": 3,
    "execution_start": 1604475141369,
    "output_cleared": false,
    "source_hash": "1676a495",
    "tags": []
   },
   "outputs": [
    {
     "data": {
      "text/plain": [
       "[('velit', 15),\n",
       " ('modi', 14),\n",
       " ('porro', 13),\n",
       " ('sed', 13),\n",
       " ('tempora', 13),\n",
       " ('voluptatem', 13),\n",
       " ('neque', 12),\n",
       " ('dolorem', 11),\n",
       " ('ipsum', 11),\n",
       " ('ut', 11),\n",
       " ('dolore', 10),\n",
       " ('etincidunt', 10),\n",
       " ('labore', 10),\n",
       " ('numquam', 10),\n",
       " ('dolor', 9),\n",
       " ('non', 9),\n",
       " ('quaerat', 9),\n",
       " ('quisquam', 9),\n",
       " ('aliquam', 8),\n",
       " ('est', 8),\n",
       " ('adipisci', 7),\n",
       " ('magnam', 7),\n",
       " ('quiquia', 7),\n",
       " ('consectetur', 6),\n",
       " ('eius', 6),\n",
       " ('sit', 6),\n",
       " ('amet', 5)]"
      ]
     },
     "execution_count": 28,
     "metadata": {},
     "output_type": "execute_result"
    }
   ],
   "source": [
    "from itertools import chain\n",
    "from operator import itemgetter\n",
    "map_files = [mapper(f) for f in files]\n",
    "partitioned_data = [partitioner(map_file) for map_file in map_files]\n",
    "partitioned_results = [reducer(keyvalue) for keyvalue in chain(*partitioned_data)]\n",
    "\n",
    "results = defaultdict(int)\n",
    "\n",
    "for w in partitioned_results:\n",
    "    results[w[0]] += w[1]\n",
    "sorted(results.items(), key=itemgetter(1), reverse=True)"
   ]
  },
  {
   "cell_type": "code",
   "execution_count": null,
   "metadata": {
    "cell_id": "00043-ddea4dec-98aa-4458-b25d-1bb79cfdc756",
    "execution_millis": 8,
    "execution_start": 1604475141379,
    "output_cleared": false,
    "source_hash": "13cc3f19",
    "tags": []
   },
   "outputs": [
    {
     "data": {
      "text/plain": [
       "[('velit', 15),\n",
       " ('modi', 14),\n",
       " ('porro', 13),\n",
       " ('sed', 13),\n",
       " ('tempora', 13),\n",
       " ('voluptatem', 13),\n",
       " ('neque', 12),\n",
       " ('dolorem', 11),\n",
       " ('ipsum', 11),\n",
       " ('ut', 11),\n",
       " ('dolore', 10),\n",
       " ('etincidunt', 10),\n",
       " ('labore', 10),\n",
       " ('numquam', 10),\n",
       " ('dolor', 9),\n",
       " ('non', 9),\n",
       " ('quaerat', 9),\n",
       " ('quisquam', 9),\n",
       " ('aliquam', 8),\n",
       " ('est', 8),\n",
       " ('adipisci', 7),\n",
       " ('magnam', 7),\n",
       " ('quiquia', 7),\n",
       " ('consectetur', 6),\n",
       " ('eius', 6),\n",
       " ('sit', 6),\n",
       " ('amet', 5)]"
      ]
     },
     "execution_count": 29,
     "metadata": {},
     "output_type": "execute_result"
    }
   ],
   "source": [
    "from itertools import chain\n",
    "from operator import itemgetter\n",
    "map_files = map(mapper, files)\n",
    "partitioned_data = map(partitioner, map_files)\n",
    "partitioned_results = map(reducer, chain(*partitioned_data))\n",
    "\n",
    "results = defaultdict(int)\n",
    "\n",
    "for w in partitioned_results:\n",
    "    results[w[0]] += w[1]\n",
    "sorted(results.items(), key=itemgetter(1), reverse=True)"
   ]
  },
  {
   "cell_type": "markdown",
   "metadata": {
    "cell_id": "00032-24f070e4-4ef6-4d4e-88ac-14062d615832",
    "output_cleared": false,
    "slideshow": {
     "slide_type": "slide"
    }
   },
   "source": [
    "### Exercise 5.7\n",
    "- This time use `map` function to apply mapper and reducer."
   ]
  }
 ],
 "metadata": {
  "deepnote_execution_queue": [],
  "deepnote_notebook_id": "46324081-d535-42b5-844e-a6aaf89c3a71",
  "jupytext": {
   "cell_metadata_json": true
  },
  "kernelspec": {
   "display_name": "big-data",
   "language": "python",
   "name": "big-data"
  }
 },
 "nbformat": 4,
 "nbformat_minor": 4
}
