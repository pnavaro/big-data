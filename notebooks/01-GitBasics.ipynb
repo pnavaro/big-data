{
 "cells": [
  {
   "cell_type": "markdown",
   "metadata": {
    "cell_id": "00000-86a87cc1-b61c-491a-b481-063b71fdd811",
    "deepnote_cell_type": "markdown",
    "slideshow": {
     "slide_type": "slide"
    }
   },
   "source": [
    "# Git basics\n",
    "\n",
    "## About Dropbox\n",
    "\n",
    "- Dropbox versioning is not free.\n",
    "- Only keep your edits over a period of 30 days.\n",
    "- Privacy and Security ?\n",
    "- No differences display.\n",
    "- The service have the right to delete information from free and inactive accounts.\n",
    "- Users are not allowed to perform encryption."
   ]
  },
  {
   "cell_type": "markdown",
   "metadata": {
    "cell_id": "00001-99c33e1e-23c3-4d73-aef7-7b4dee414bf9",
    "deepnote_cell_type": "markdown",
    "slideshow": {
     "slide_type": "slide"
    }
   },
   "source": [
    "## About version control\n",
    "\n",
    "- Records changes to a file or set of files over time.\n",
    "- You can recall specific versions later.\n",
    "- You can use it with nearly any type of file on a computer.\n",
    "- This is the better way to collaborate on the same document."
   ]
  },
  {
   "cell_type": "markdown",
   "metadata": {
    "cell_id": "00002-2c5bdde1-4a08-4bb2-944e-6ecfa623ceb8",
    "deepnote_cell_type": "markdown",
    "slideshow": {
     "slide_type": "slide"
    }
   },
   "source": [
    "## Centralized Version Control Systems\n",
    "\n",
    "<img src=\"images/cvs.png\" width=400>\n",
    "\n",
    "- Clients check out files from a central place.\n",
    "- You know what everyone else on the project is doing\n",
    "- A single server contains all the versioned files.\n",
    "- For many years, this has been the standard (CVS, SVN).\n",
    "- You always need network connection.\n",
    "- If the server is corrupted, with no backup, you could lose everything !"
   ]
  },
  {
   "cell_type": "markdown",
   "metadata": {
    "cell_id": "00003-4c6e56e2-2883-4f36-811e-23371cb2420c",
    "deepnote_cell_type": "markdown",
    "slideshow": {
     "slide_type": "slide"
    }
   },
   "source": [
    "## Git\n",
    "\n",
    "Git is a free and open source distributed version control system designed to handle everything from small to very large projects with speed and efficiency.\n",
    "\n",
    "Official website https://git-scm.com\n",
    "\n",
    "**New products based on a git server for collaborating writing.**\n",
    "\n",
    "- ShareLaTeX (https://fr.sharelatex.com)\n",
    "- Authorea (https://www.authorea.com)\n",
    "- Overleaf (https://www.overleaf.com)\n",
    "- PLMLateX (https://plmlatex.math.cnrs.fr/)"
   ]
  },
  {
   "cell_type": "markdown",
   "metadata": {
    "cell_id": "00004-ac2b7495-ed62-4417-843b-342d8b32834d",
    "deepnote_cell_type": "markdown",
    "slideshow": {
     "slide_type": "slide"
    }
   },
   "source": [
    "## GitHub\n",
    "\n",
    "- Web-based hosting service for version control using Git. \n",
    "- Offers all of the distributed version control and source code management (SCM) functionality of Git as well as adding its own features. \n",
    "- Provides access control and several collaboration features such as bug tracking, feature requests, task management, and wikis for every project.\n",
    "- GitHub is the largest host of source code in the world.\n",
    "- GitHub evolves towards a social network and offers a better visibility to your work.\n",
    "- Julia language depends heavily on GitHub. Almost all R and Python packages developers use this platform.\n",
    "\n",
    "[Gitlab.com](https://about.gitlab.com) and [Bitbucket](https://bitbucket.org) offer similar services."
   ]
  },
  {
   "cell_type": "markdown",
   "metadata": {
    "cell_id": "00005-34a5fa37-2458-4f45-946d-96018790c527",
    "deepnote_cell_type": "markdown",
    "slideshow": {
     "slide_type": "slide"
    }
   },
   "source": [
    "## Distributed Version Control Systems\n",
    "\n",
    "<img src=\"images/git.png\" alt=\"git\" width=\"300px\"/>\n",
    "\n",
    "- Clients fully mirror the repository.\n",
    "- You can collaborate with different groups of people in different ways simultaneously within the same project.\n",
    "- No need of network connection.\n",
    "- Multiple backups."
   ]
  },
  {
   "cell_type": "markdown",
   "metadata": {
    "cell_id": "00006-d8d08253-da1e-4c02-ae71-f8382ee3b9e8",
    "deepnote_cell_type": "markdown",
    "slideshow": {
     "slide_type": "slide"
    }
   },
   "source": [
    "## Git bash\n",
    "\n",
    "I you want to try Git on windows, install [git bash](https://gitforwindows.org). On Linux and Mac just open a terminal.\n",
    "\n",
    "![git bash](https://gitforwindows.org/img/gw1web_thumb.png)"
   ]
  },
  {
   "cell_type": "markdown",
   "metadata": {
    "cell_id": "00007-8994478a-31e7-4ed2-83fe-5b880a6ac17b",
    "deepnote_cell_type": "markdown",
    "slideshow": {
     "slide_type": "slide"
    }
   },
   "source": [
    "## Configure Git\n",
    "\n",
    "Settings are saved on the computer for all your git repositories.\n",
    "\n",
    "```bash\n",
    "$ git config --global user.name \"Prenom Nom\"\n",
    "$ git config --global user.email \"prenom.nom@univ-rennes2.fr\"\n",
    "$ git config --list\n",
    "```\n",
    "---\n",
    "~~~\n",
    "user.name=Prenom Nom\n",
    "user.email=prenom.nom@univ-rennes2.fr\n",
    "~~~"
   ]
  },
  {
   "cell_type": "markdown",
   "metadata": {
    "cell_id": "00008-ee28a767-a92f-441f-ae45-489587e8695e",
    "deepnote_cell_type": "markdown",
    "slideshow": {
     "slide_type": "slide"
    }
   },
   "source": [
    "## Initialize a git repository in a directory\n",
    "\n",
    "Create the directory `homepage`:\n",
    "\n",
    "```bash\n",
    "$ mkdir homepage                          # Create directory homepage\n",
    "$ cd homepage                             # Change directory\n",
    "$ touch index.md                          # Create the index.md file\n",
    "$ echo \"# John Smith \" >> index.md        # Write the string \"# Test\" in index.md\n",
    "$ echo \"Rennes\" >> index.md               # Append Rennes to index.md\n",
    "$ cat index.md                            # Display index.md content\n",
    "# John Smith\n",
    "Rennes\n",
    "```"
   ]
  },
  {
   "cell_type": "markdown",
   "metadata": {
    "cell_id": "00009-516f4b4d-52c8-424d-8ce4-82002b261e0a",
    "deepnote_cell_type": "markdown",
    "slideshow": {
     "slide_type": "slide"
    }
   },
   "source": [
    "To use git in this repository\n",
    "```bash\n",
    "$ git init\n",
    "Initialized empty Git repository in /Users/navaro/homepage/.git/\n",
    "$ git status\n",
    "On branch master\n",
    "\n",
    "No commits yet\n",
    "\n",
    "Untracked files:\n",
    "  (use \"git add <file>...\" to include in what will be committed)\n",
    "\tindex.md\n",
    "\n",
    "nothing added to commit but untracked files present (use \"git add\" to track)\n",
    "```"
   ]
  },
  {
   "cell_type": "markdown",
   "metadata": {
    "cell_id": "00010-6aa06cb7-2880-4efe-8c7d-8868ecacb2c2",
    "deepnote_cell_type": "markdown",
    "slideshow": {
     "slide_type": "slide"
    }
   },
   "source": [
    "### Add the file to the git index\n",
    "\n",
    "```bash\n",
    "$ git add index.md\n",
    "$ git status\n",
    "On branch master\n",
    "\n",
    "No commits yet\n",
    "\n",
    "Changes to be committed:\n",
    "  (use \"git rm --cached <file>...\" to unstage)\n",
    "\tnew file:   index.md\n",
    "```"
   ]
  },
  {
   "cell_type": "markdown",
   "metadata": {
    "cell_id": "00011-3d8c74b6-338c-4a66-825c-31c7ed30ea16",
    "deepnote_cell_type": "markdown",
    "slideshow": {
     "slide_type": "slide"
    }
   },
   "source": [
    "## Commit\n",
    "\n",
    "```bash\n",
    "$ git commit -m 'Create the file index.md'\n",
    "[master (root-commit) 63a5cee] Create the file index.md\n",
    " 1 file changed, 2 insertions(+)\n",
    " create mode 100644 index.md\n",
    "```\n",
    " \n",
    "```bash\n",
    "$ git status\n",
    "On branch master\n",
    "nothing to commit, working tree clean\n",
    "```"
   ]
  },
  {
   "cell_type": "markdown",
   "metadata": {
    "cell_id": "00012-2bb3df3f-dfe2-44ad-b8a9-ce8aa3f86706",
    "deepnote_cell_type": "markdown",
    "slideshow": {
     "slide_type": "slide"
    }
   },
   "source": [
    "## Four File status in the repository\n",
    "  \n",
    "<img src=\"images/18333fig0201-tn.png\" alt=\"git\" width=\"450px\"/>"
   ]
  },
  {
   "cell_type": "markdown",
   "metadata": {
    "cell_id": "00013-5f301458-1b8a-4319-a807-f9a0b820930d",
    "deepnote_cell_type": "markdown",
    "slideshow": {
     "slide_type": "slide"
    }
   },
   "source": [
    "## Github account and SSH key\n",
    "\n",
    "[Create your GitHub account](https://github.com/join)\n",
    "\n",
    "### Generating public/private rsa key pair.\n",
    "\n",
    "Ref : [New ssh key on GitHub](https://docs.github.com/en/github/authenticating-to-github/generating-a-new-ssh-key-and-adding-it-to-the-ssh-agent)\n",
    "\n",
    "Open Terminal or Git bash.\n",
    "\n",
    "Paste the text below, substituting in your GitHub email address.\n",
    "```bash\n",
    "ssh-keygen -t rsa -b 4096 -C \"prenom.nom@univ-rennes2.fr\"\n",
    "```\n",
    "This creates a new ssh key, using the provided email as a label."
   ]
  },
  {
   "cell_type": "markdown",
   "metadata": {
    "cell_id": "00014-6da0c352-9c92-439c-ab5d-41c083326fe0",
    "deepnote_cell_type": "markdown",
    "slideshow": {
     "slide_type": "slide"
    }
   },
   "source": [
    "When you're prompted to \"Enter a file in which to save the key,\" press Enter. This accepts the default file location. Enter a file in which to save the key (/Users/you/.ssh/id_rsa): [Press enter]\n",
    "At the prompt, let it empty for no passphrase.\n",
    "\n",
    "This creates 2 files, the private key: `id_rsa`, and the public key `id_rsa.pub`. Display and copy the SSH key to your clipboard.\n",
    "\n",
    "```bash\n",
    "cat ~/.ssh/id_rsa.pub\n",
    "```\n",
    "\n",
    "In the upper-right corner of any page, click your profile photo, then click `Settings`.\n",
    "In the user settings sidebar, click `SSH and GPG keys`.  Click `New SSH key` or `Add SSH key`."
   ]
  },
  {
   "cell_type": "markdown",
   "metadata": {
    "cell_id": "00015-750383f2-c97c-4438-8d01-93e3a0c5a761",
    "deepnote_cell_type": "markdown",
    "slideshow": {
     "slide_type": "slide"
    }
   },
   "source": [
    "## GitHub repository\n",
    "\n",
    "<font color=\"red\">In the following steps replace **your_login** by your own GitHub login</font>\n",
    "\n",
    "Create the `your_login.github.io` repository on your GitHub account\n",
    "- Click on '+' on top right of the page and select \"New repository\"\n",
    "- Repository name = \"your_login.github.io\"\n",
    "- Don't change default options\n",
    "- Click on \"Create repository\"\n",
    "\n",
    "```bash\n",
    "$ cd homepage\n",
    "$ git remote add origin git@github.com:your_login/your_login.github.io.git\n",
    "$ git push -u origin master\n",
    "Enumerating objects: 6, done.\n",
    "Counting objects: 100% (6/6), done.\n",
    "Delta compression using up to 4 threads\n",
    "Compressing objects: 100% (2/2), done.\n",
    "Writing objects: 100% (4/4), 449 bytes | 449.00 KiB/s, done.\n",
    "Total 4 (delta 0), reused 0 (delta 0), pack-reused 0\n",
    "To github.com:your_login/your_login.github.io.git\n",
    "   fd6dace..c4488e6  master -> master\n",
    "```\n",
    "\n",
    "```bash\n",
    "$ git status\n",
    "On branch master\n",
    "nothing to commit, working tree clean\n",
    "```"
   ]
  },
  {
   "cell_type": "markdown",
   "metadata": {
    "cell_id": "00016-2fe86abe-c922-48a3-acbb-2bd04052eed8",
    "deepnote_cell_type": "markdown",
    "slideshow": {
     "slide_type": "slide"
    }
   },
   "source": [
    "## Enable GitHub pages\n",
    "\n",
    "Go to <https://github.com/your_login.github.io/settings>\n",
    "\n",
    "In the section **GitHub Pages**\n",
    "\n",
    "Select `master` for **Source** and `root`\n",
    "\n",
    "Choose the **minimal theme** and validate, you can change it later.\n",
    "\n",
    "The website is available at <https://your_login.github.io>"
   ]
  },
  {
   "cell_type": "markdown",
   "metadata": {
    "cell_id": "00017-18b98207-2cec-49eb-b662-053eda41e01c",
    "deepnote_cell_type": "markdown",
    "slideshow": {
     "slide_type": "slide"
    }
   },
   "source": [
    "## Git Workflow\n",
    "\n",
    "<img src=\"images/four_stages.png\" alt=\"git\" width=\"150px\"/>"
   ]
  },
  {
   "cell_type": "markdown",
   "metadata": {
    "cell_id": "00018-a79208d2-51cb-43b6-9ab7-c730f7fb525d",
    "deepnote_cell_type": "markdown"
   },
   "source": [
    "By choosing a theme, you create on GitHub a file named \"_config.yml\". You need to update your local version with\n",
    "\n",
    "```bash\n",
    "git pull --no-edit\n",
    "```\n",
    "The `--no-edit` function avoid spawning a text editor, and asking for a merge commit message.\n",
    "If you do\n",
    "```bash\n",
    "ls\n",
    "```\n",
    "You will display the new file _config.yml"
   ]
  },
  {
   "cell_type": "markdown",
   "metadata": {
    "cell_id": "00019-f4f59942-bd75-4557-ab1f-f18fd4f9f5a3",
    "deepnote_cell_type": "markdown"
   },
   "source": [
    "## Exercise\n",
    "\n",
    "Check the web page by visiting <https://your_login.github.io>\n",
    "\n",
    "Modify the file index.md and do the procedure again. Modify also the file `_config.yml` by appending the following content:\n",
    "\n",
    "```yaml\n",
    "title: Page personnelle\n",
    "description: Exercice Git\n",
    "```"
   ]
  },
  {
   "cell_type": "markdown",
   "metadata": {
    "cell_id": "00020-ddf3f088-c3cd-4b10-88b1-7eb9be5577b1",
    "deepnote_cell_type": "markdown",
    "slideshow": {
     "slide_type": "slide"
    }
   },
   "source": [
    "## Branches\n",
    "\n",
    "**Display all branches**\n",
    "\n",
    "```bash\n",
    "$ git branch -a\n",
    "* master\n",
    "  remotes/origin/master\n",
    "```"
   ]
  },
  {
   "cell_type": "markdown",
   "metadata": {
    "cell_id": "00021-d366c97b-3ab5-48f1-8c23-6710c2b0ca2c",
    "deepnote_cell_type": "markdown",
    "slideshow": {
     "slide_type": "slide"
    }
   },
   "source": [
    "## Create a new branch\n",
    "\n",
    "By creating a new branch you freeze the master branch and you can continue to work without modifying it.\n",
    "The branch created is the copy of the current branch (master).\n",
    "\n",
    "```bash\n",
    "$ git branch mybranch\n",
    "$ git checkout mybranch\n",
    "Switched to branch 'mybranch'\n",
    "```\n",
    "\n",
    "```bash\n",
    "$ git branch\n",
    "master\n",
    "* mybranch\n",
    "```\n",
    "\n",
    "Files could be different or not existing in two branches but they are located at the same place on the file system. When you use the `checkout` command, git applies the changes."
   ]
  },
  {
   "cell_type": "markdown",
   "metadata": {
    "cell_id": "00022-9a3e82fc-466c-4fc0-aeef-c8f9fb5f03cd",
    "deepnote_cell_type": "markdown",
    "slideshow": {
     "slide_type": "slide"
    }
   },
   "source": [
    "## Edit and modify the index.md file\n",
    "\n",
    "```bash\n",
    "$ echo '![logo](https://intranet.univ-rennes2.fr/sites/default/files/resize/UHB/SERVICE-COMMUNICATION/logor2-noir-150x147.png)' >> index.md\n",
    "$ git status\n",
    "On branch mybranch\n",
    "Changes not staged for commit:\n",
    "  (use \"git add <file>...\" to update what will be committed)\n",
    "  (use \"git restore <file>...\" to discard changes in working directory)\n",
    "\tmodified:   index.md\n",
    "\n",
    "no changes added to commit (use \"git add\" and/or \"git commit -a\")\n",
    "```\n",
    "\n",
    "```bash\n",
    "$ git diff\n",
    "diff --git a/index.md b/index.md\n",
    "index 87dde03..af6739c 100644\n",
    "--- a/index.md\n",
    "+++ b/index.md\n",
    "@@ -3,3 +3,4 @@\n",
    "\n",
    "+![logo](https://intranet.univ-rennes2.fr/sites/default/files/resize/UHB/SERVICE-COMMUNICATION/logor2-noir-150x147.png)\n",
    "```"
   ]
  },
  {
   "cell_type": "markdown",
   "metadata": {
    "cell_id": "00023-0ffa53c9-bb93-4fbb-adc0-d737da2521da",
    "deepnote_cell_type": "markdown",
    "slideshow": {
     "slide_type": "slide"
    }
   },
   "source": [
    "## Commit the changes\n",
    "\n",
    "```bash\n",
    "$ git add index.md\n",
    "$ git status\n",
    "On branch mybranch\n",
    "Changes to be committed:\n",
    "  (use \"git restore --staged <file>...\" to unstage)\n",
    "\tmodified:   index.md\n",
    "```\n",
    "\n",
    "```bash\n",
    "$ git commit -m 'Add logo'\n",
    "[mybranch 30a8912] Add logo\n",
    " 1 file changed, 1 insertion(+)\n",
    "```"
   ]
  },
  {
   "cell_type": "markdown",
   "metadata": {
    "cell_id": "00024-68a34073-acdc-464d-95a8-757e5309d388",
    "deepnote_cell_type": "markdown",
    "slideshow": {
     "slide_type": "slide"
    }
   },
   "source": [
    "## Commit or fast commit\n",
    "\n",
    "```{image} images/index1.png\n",
    ":width: 400px\n",
    "```\n",
    "```{image} images/index2.png\n",
    ":width: 400px\n",
    "```"
   ]
  },
  {
   "cell_type": "markdown",
   "metadata": {
    "cell_id": "00025-d611e60b-71cd-42d2-9a61-45e45aac97f2",
    "deepnote_cell_type": "markdown",
    "slideshow": {
     "slide_type": "slide"
    }
   },
   "source": [
    "## Merge mybranch with the master branch\n",
    "\n",
    "\n",
    "```bash\n",
    "$ git diff master\n",
    "diff --git a/index.md b/index.md\n",
    "index c744020..4d833d1 100644\n",
    "--- a/index.md\n",
    "+++ b/index.md\n",
    "@@ -1,2 +1,3 @@\n",
    " # Prenom Nom\n",
    " Rennes\n",
    "+![logo](https://intranet.univ-rennes2.fr/sites/default/files/resize/UHB/SERVICE-COMMUNICATION/logor2-noir-150x147.png)\n",
    "```"
   ]
  },
  {
   "cell_type": "markdown",
   "metadata": {
    "cell_id": "00026-65167197-057e-4e86-ab5b-c620c9cea931",
    "deepnote_cell_type": "markdown",
    "slideshow": {
     "slide_type": "slide"
    }
   },
   "source": [
    "## Push master branch\n",
    "\n",
    "```bash\n",
    "$ git checkout master\n",
    "Switched to branch 'master'\n",
    "$ git merge mybranch\n",
    "Updating 63a5cee..30a8912\n",
    "Fast-forward\n",
    " index.md | 1 +\n",
    " 1 file changed, 1 insertion(+)\n",
    "$ git push origin master\n",
    "Enumerating objects: 9, done.\n",
    "Counting objects: 100% (9/9), done.\n",
    "Delta compression using up to 4 threads\n",
    "Compressing objects: 100% (5/5), done.\n",
    "Writing objects: 100% (8/8), 869 bytes | 869.00 KiB/s, done.\n",
    "Total 8 (delta 1), reused 0 (delta 0), pack-reused 0\n",
    "remote: Resolving deltas: 100% (1/1), completed with 1 local object.\n",
    "To github.com:your_login/your_login.github.io.git\n",
    "   6dafcbd..340d3dc  master -> master\n",
    "```"
   ]
  },
  {
   "cell_type": "markdown",
   "metadata": {
    "cell_id": "00027-ecb9ea7d-0dbd-42cc-ae2c-b8129e208d46",
    "deepnote_cell_type": "markdown",
    "slideshow": {
     "slide_type": "slide"
    }
   },
   "source": [
    "## Collaborating writing with a git repository\n",
    "\n",
    "![Cycle](images/git_cycle.png)"
   ]
  },
  {
   "cell_type": "markdown",
   "metadata": {
    "cell_id": "00028-e63adb78-a85a-4cfa-bf85-33e56c2b62d7",
    "deepnote_cell_type": "markdown",
    "slideshow": {
     "slide_type": "slide"
    }
   },
   "source": [
    "## Clone the remote repository\n",
    "\n",
    "```bash\n",
    "git clone ssh://svmass2/git/atelier_git.git\n",
    "```\n",
    "or\n",
    "```bash\n",
    "git clone git@github.com:MMASSD/atelier_git.git\n",
    "```"
   ]
  },
  {
   "cell_type": "markdown",
   "metadata": {
    "cell_id": "00029-e40508f5-4c37-4724-a65b-eeb58e32d2f6",
    "deepnote_cell_type": "markdown",
    "slideshow": {
     "slide_type": "slide"
    }
   },
   "source": [
    "## Share your modifications\n",
    "\n",
    "### Option 1 : merge master branch and push it\n",
    "\n",
    "```bash\n",
    "$ git checkout master\n",
    "$ git merge mybranch\n",
    "$ git push origin master\n",
    "```\n",
    "\n",
    "### Option 2 : Push your branch \n",
    "\n",
    "```bash\n",
    "$ git checkout mybranch\n",
    "$ git push origin mybranch\n",
    "```"
   ]
  },
  {
   "cell_type": "markdown",
   "metadata": {
    "attributes": {
     "classes": [
      "git"
     ],
     "id": ""
    },
    "cell_id": "00030-f63bdea5-cb80-48ff-8737-01788ea37dec",
    "deepnote_cell_type": "markdown",
    "slideshow": {
     "slide_type": "slide"
    }
   },
   "source": [
    "## Synchronize the repository\n",
    "\n",
    "### Update master branch\n",
    "\n",
    "```bash\n",
    "$ git checkout master\n",
    "```\n",
    "\n",
    "You can use `pull` which is a `fetch and merge` command\n",
    "\n",
    "```bash\n",
    "$ git pull origin master\n",
    "```\n",
    "`origin` is the repository and `master` the **remote** branch from you want to update."
   ]
  },
  {
   "cell_type": "markdown",
   "metadata": {
    "attributes": {
     "classes": [
      "git"
     ],
     "id": ""
    },
    "cell_id": "00031-db1c0263-a05d-4699-9200-6597d20c897a",
    "deepnote_cell_type": "markdown",
    "slideshow": {
     "slide_type": "slide"
    }
   },
   "source": [
    "In some cases, it could be safer to check the differences between your local and the remote branch with\n",
    "\n",
    "```bash\n",
    "$ git fetch origin\n",
    "$ git diff origin/master\n",
    "```\n",
    "and merge\n",
    "```bash\n",
    "$ git merge origin master\n",
    "```\n",
    "\n",
    "### Update personal branch\n",
    "\n",
    "```bash\n",
    "$ git checkout mybranch\n",
    "$ git merge master\n",
    "```"
   ]
  },
  {
   "cell_type": "markdown",
   "metadata": {
    "cell_id": "00032-a36ed174-e5d7-403f-952f-948ddbf61dcc",
    "deepnote_cell_type": "markdown",
    "slideshow": {
     "slide_type": "slide"
    }
   },
   "source": [
    "## Rebase\n",
    "\n",
    "If the branch named `mybranch` is local and never pushed to the repository. It is possible to use **rebase** instead of merge. `git rebase` reapply commits on top of another base tip."
   ]
  },
  {
   "cell_type": "markdown",
   "metadata": {
    "cell_id": "00033-35a7f4da-84bc-4358-b0d3-0cf4ea26f5b0",
    "deepnote_cell_type": "markdown",
    "slideshow": {
     "slide_type": "slide"
    }
   },
   "source": [
    "Exercise:\n",
    "\n",
    "- Create a new branch called `test_rebase` from master.\n",
    "- Do some modifications on the remote master branch by editing file in your browser on GitHub.\n",
    "- On your `test_rebase` do also some modifications. Type\n",
    "```bash \n",
    "$ git log -n 2\n",
    "```\n",
    "It displays the last two commits\n",
    "- Switch and update your master branch\n",
    "- Switch back to `test_rebase` and rebase the local branch with:\n",
    "```bash\n",
    "$ git rebase master\n",
    "```\n",
    "- Displays the last two commits and check how the history was changed"
   ]
  },
  {
   "cell_type": "markdown",
   "metadata": {
    "cell_id": "00034-1b7e3a51-4e4a-471a-9759-2f8e7b2941db",
    "deepnote_cell_type": "markdown",
    "slideshow": {
     "slide_type": "slide"
    }
   },
   "source": [
    "## Stash\n",
    "\n",
    "Use git stash when you want to record the current state of the working directory and the index, but want to go back to a clean working directory. The command saves your local modifications away and reverts the working directory to match the HEAD commit."
   ]
  },
  {
   "cell_type": "markdown",
   "metadata": {
    "cell_id": "00035-f768946a-10c0-46c8-a777-68fbc4559520",
    "deepnote_cell_type": "markdown",
    "slideshow": {
     "slide_type": "slide"
    }
   },
   "source": [
    "```bash\n",
    "$ date >> index.md    # Modify the index.md file\n",
    "\n",
    "$ git diff\n",
    "diff --git a/index.md b/index.md\n",
    "index 4d833d1..a7bc91d 100644\n",
    "--- a/index.md\n",
    "+++ b/index.md\n",
    "@@ -1,3 +1,4 @@\n",
    " # Prenom Nom\n",
    " Rennes\n",
    " ![logo](https://intranet.univ-rennes2.fr/sites/default/files/resize/UHB/SERVICE-COMMUNICATION/logor2-noir-150x147.png)\n",
    "+Sun Sep 13 21:45:41 CEST 2020\n",
    "\n",
    "$ git stash\n",
    "Saved working directory and index state WIP on master: 0fc9d7d Merge remote-tracking branch 'origin/master' into master\n",
    "\n",
    "$ git stash show\n",
    " index.md | 1 +\n",
    " 1 file changed, 1 insertion(+)\n",
    " \n",
    "$ git status\n",
    "On branch master\n",
    "nothing to commit, working tree clean\n",
    "```"
   ]
  },
  {
   "cell_type": "markdown",
   "metadata": {
    "cell_id": "00036-7edac0ca-6a3d-430c-8006-a5bcec04f59d",
    "deepnote_cell_type": "markdown",
    "slideshow": {
     "slide_type": "slide"
    }
   },
   "source": [
    "```bash\n",
    "$ git stash pop\n",
    "On branch master\n",
    "Changes not staged for commit:\n",
    "  (use \"git add <file>...\" to update what will be committed)\n",
    "  (use \"git restore <file>...\" to discard changes in working directory)\n",
    "\tmodified:   index.md\n",
    "\n",
    "no changes added to commit (use \"git add\" and/or \"git commit -a\")\n",
    "Dropped refs/stash@{0} (3de29586d5e0b9ceeb3c23e03a9aeb045c4096b8)\n",
    "\n",
    "$ git status\n",
    "On branch master\n",
    "Changes not staged for commit:\n",
    "  (use \"git add <file>...\" to update what will be committed)\n",
    "  (use \"git restore <file>...\" to discard changes in working directory)\n",
    "\tmodified:   index.md\n",
    "\n",
    "no changes added to commit (use \"git add\" and/or \"git commit -a\")\n",
    "```"
   ]
  },
  {
   "cell_type": "markdown",
   "metadata": {
    "cell_id": "00037-e2a17425-9b08-4d3b-921e-c95a09ec6bf3",
    "deepnote_cell_type": "markdown",
    "slideshow": {
     "slide_type": "slide"
    }
   },
   "source": [
    "### Apply last `stash`\n",
    "\n",
    "```bash\n",
    "$ git stash apply\n",
    "```\n",
    "\n",
    "### Delete the last `stash`\n",
    "\n",
    "```bash\n",
    "$ git stash drop\n",
    "```\n",
    "\n",
    "### Apply last `stash` and drop\n",
    "\n",
    "```bash\n",
    "$ git stash pop\n",
    "```"
   ]
  },
  {
   "cell_type": "markdown",
   "metadata": {
    "cell_id": "00038-396b3666-9658-48ed-a033-aa93c3850da3",
    "deepnote_cell_type": "markdown",
    "slideshow": {
     "slide_type": "slide"
    }
   },
   "source": [
    "## Merge conflicts\n",
    "\n",
    "If you have conflict, try :\n",
    "\n",
    "```bash\n",
    "$ git mergetool\n",
    "```\n",
    "\n",
    "A nice editor helps you to choose the right version. Close and :\n",
    "\n",
    "```bash\n",
    "$ git commit -m 'Update and fixed conflicts'\n",
    "```"
   ]
  },
  {
   "cell_type": "markdown",
   "metadata": {
    "cell_id": "00039-c96e8abf-6121-40c1-9e66-e277f2f6afc1",
    "deepnote_cell_type": "markdown",
    "slideshow": {
     "slide_type": "slide"
    }
   },
   "source": [
    "## Why Git?\n",
    "\n",
    "- Tracking and controlling changes in the software.\n",
    "- Branches : Frictionless Context Switching, Role-Based Codelines.\n",
    "- Everything is local : Git is fast.\n",
    "- Multiple Backups.\n",
    "- It's impossible to get anything out of Git other than the exact bits you put in.\n",
    "- Staging Area : intermediate index between working directory and repository.\n",
    "- Pull-request is a nice feature for code reviewing and protect the stable branch."
   ]
  },
  {
   "cell_type": "markdown",
   "metadata": {
    "cell_id": "00040-2d0c2e0c-d59a-4a6a-aec9-3a692ac6e59d",
    "deepnote_cell_type": "markdown",
    "slideshow": {
     "slide_type": "slide"
    }
   },
   "source": [
    "## Why not\n",
    "\n",
    "- Sometimes confusing for new users coming from CVS or subversion.\n",
    "- Crazy command line syntax.\n",
    "- Simple tasks need many commands.\n",
    "- Git history is often strange.\n",
    "- It is possible to destroy the repository on the remote server.\n",
    "- Power for the maintainer, at the expense of the contributor."
   ]
  },
  {
   "cell_type": "markdown",
   "metadata": {
    "cell_id": "00041-633cc3b3-122c-4b9c-acfc-1bc17096aba0",
    "deepnote_cell_type": "markdown",
    "slideshow": {
     "slide_type": "slide"
    }
   },
   "source": [
    "## Some useful commands\n",
    "\n",
    "- Showing which files have changed between git branches\n",
    "\n",
    "```\n",
    "$ git diff --name-status master..mybranch\n",
    "```\n",
    "- Compare the master version of a file to my current branch version\n",
    "\n",
    "```\n",
    "$ git diff mybranch master -- myfile\n",
    "```\n",
    "\n",
    "- Remove all ignored files (do it after a commit)\n",
    "\n",
    "```\n",
    "$ git clean -xdf\n",
    "```"
   ]
  },
  {
   "cell_type": "markdown",
   "metadata": {
    "cell_id": "00042-d6a3b716-dee6-4e5b-8f78-ed690cc40e5b",
    "deepnote_cell_type": "markdown",
    "slideshow": {
     "slide_type": "slide"
    }
   },
   "source": [
    "## Revert the last commit\n",
    "\n",
    "```bash\n",
    "$ date >> index.md ## modify index.md\n",
    "\n",
    "$ git commit -a -m 'Add date in index.md'\n",
    "[master cbfb502] Add date in index.md\n",
    " 3 files changed, 18 insertions(+)\n",
    " create mode 100644 .gitignore\n",
    " create mode 100644 sandbox.Rproj\n",
    "\n",
    "$ git reset HEAD~1\n",
    "Unstaged changes after reset:\n",
    "M\tindex.md\n",
    "\n",
    "$ git diff\n",
    "diff --git a/index.md b/index.md\n",
    "index c744020..5d9bd58 100644\n",
    "--- a/index.md\n",
    "+++ b/index.md\n",
    "@@ -1,2 +1,3 @@\n",
    " # Prenom Nom\n",
    " Rennes\n",
    "+Sun Sep 13 22:17:05 CEST 2020\n",
    "\n",
    "$ git checkout index.md\n",
    "Updated 1 path from the index\n",
    "\n",
    "$ cat index.md\n",
    "# Prenom Nom\n",
    "Rennes\n",
    "```"
   ]
  },
  {
   "cell_type": "markdown",
   "metadata": {
    "cell_id": "00043-26e98cc1-6773-4a9b-b03a-d49f6c7f7492",
    "deepnote_cell_type": "markdown",
    "slideshow": {
     "slide_type": "slide"
    }
   },
   "source": [
    "## Git through IDE\n",
    "\n",
    "- Install bash-completion and source git-prompt.sh.\n",
    "- Use Gui tools:\n",
    "\t- [GitHub Desktop](https://desktop.github.com/)\n",
    "\t- [Sourcetree](https://fr.atlassian.com/software/sourcetree)\n",
    "\t- [GitKraken](https://www.gitkraken.com/)\n",
    "- VCS plugin of IDE\n",
    "\t- [RStudio](https://www.rstudio.com/)\n",
    "\t- [Eclipse](https://www.eclipse.org/downloads/)\n",
    "\t- [TeXstudio](www.texstudio.org/)\n",
    "\t- [JetBrains](https://www.jetbrains.com/)"
   ]
  }
 ],
 "metadata": {
  "deepnote_execution_queue": [],
  "deepnote_notebook_id": "12fba9d0-e36e-41e4-86ea-24ea245bb5ef",
  "jupytext": {
   "cell_metadata_json": true,
   "encoding": "# -*- coding: utf-8 -*-",
   "formats": "ipynb,md:myst"
  },
  "kernelspec": {
   "display_name": "big-data",
   "language": "python",
   "name": "big-data"
  }
 },
 "nbformat": 4,
 "nbformat_minor": 4
}
