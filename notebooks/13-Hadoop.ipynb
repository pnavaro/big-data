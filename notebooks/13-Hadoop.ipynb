{
 "cells": [
  {
   "cell_type": "markdown",
   "metadata": {
    "cell_id": "00000-fbcb24d1-746d-493b-9e00-c17036412576",
    "deepnote_cell_type": "markdown",
    "slideshow": {
     "slide_type": "slide"
    }
   },
   "source": [
    "# Hadoop\n",
    "\n",
    "- Data sets that are so large or complex that traditional data processing application software is inadequate to deal with them. \n",
    "- Data analysis requires massively parallel software running on several servers.\n",
    "- **Volume, Variety, Velocity, Variability and Veracity** describe Big Data properties."
   ]
  },
  {
   "cell_type": "markdown",
   "metadata": {
    "cell_id": "00001-bb247f40-2d2e-44c3-a92a-7b96c1e865ca",
    "deepnote_cell_type": "markdown",
    "slideshow": {
     "slide_type": "slide"
    }
   },
   "source": [
    "![https://github.com/veekaybee/data-lake-talk/](images/bigdata.png)"
   ]
  },
  {
   "cell_type": "markdown",
   "metadata": {
    "cell_id": "00002-78afdcfc-a3be-4f32-8151-6c9bf0f33683",
    "deepnote_cell_type": "markdown",
    "slideshow": {
     "slide_type": "slide"
    }
   },
   "source": [
    "![Hadoop Logo](images/hadoop.png)\n",
    "\n",
    "- Framework for running applications on large cluster. \n",
    "- The Hadoop framework transparently provides applications both reliability and data motion. \n",
    "- Hadoop implements the computational paradigm named **Map/Reduce**, where the application is divided into many small fragments of work, each of which may be executed or re-executed on any node in the cluster. \n",
    "- It provides a distributed file system (HDFS) that stores data on the compute nodes, providing very high aggregate bandwidth across the cluster.\n",
    "- Both MapReduce and the **Hadoop Distributed File System** are designed so that node failures are automatically handled by the framework."
   ]
  },
  {
   "cell_type": "markdown",
   "metadata": {
    "cell_id": "00003-ac5b1ccc-32d2-4553-babd-0b58f23ffc71",
    "deepnote_cell_type": "markdown",
    "slideshow": {
     "slide_type": "slide"
    }
   },
   "source": [
    "## HDFS\n",
    "\n",
    "* It is a distributed file systems.\n",
    "* HDFS is highly fault-tolerant and is designed to be deployed on low-cost hardware.\n",
    "* HDFS is suitable for applications that have large data sets. \n",
    "* HDFS provides interfaces to move applications closer to where the data is located. The computation is much more efficient when the size of the data set is huge. \n",
    "* HDFS consists of a single NameNode with a number of DataNodes which manage storage. \n",
    "* HDFS exposes a file system namespace and allows user data to be stored in files. \n",
    "    1. A file is split by the NameNode into blocks stored in DataNodes. \n",
    "    2. The [NameNode](http://svmass2.mass.uhb.fr:50070) executes operations like opening, closing, and renaming files and directories.\n",
    "    3. The [Secondary NameNode](http://svmass2.mass.uhb.fr:50090/status.html) stores information from **NameNode**. \n",
    "    4. The **DataNodes** manage perform block creation, deletion, and replication upon instruction from the NameNode.\n",
    "    5. The placement of replicas is optimized for data reliability, availability, and network bandwidth utilization.\n",
    "    6. User data never flows through the NameNode.\n",
    "* Files in HDFS are write-once and have strictly one writer at any time.\n",
    "* The DataNode has no knowledge about HDFS files."
   ]
  },
  {
   "cell_type": "markdown",
   "metadata": {
    "cell_id": "00004-e2ad7143-4d11-4b65-aff0-c5d2a3d16389",
    "deepnote_cell_type": "markdown",
    "slideshow": {
     "slide_type": "slide"
    }
   },
   "source": [
    "## Accessibility\n",
    "\n",
    "All [HDFS commands](http://hadoop.apache.org/docs/stable/hadoop-project-dist/hadoop-common/FileSystemShell.html)  are invoked by the bin/hdfs Java script:\n",
    "```shell\n",
    "hdfs [SHELL_OPTIONS] COMMAND [GENERIC_OPTIONS] [COMMAND_OPTIONS]\n",
    "```\n",
    "## Manage files and directories\n",
    "```shell\n",
    "hdfs dfs -ls -h -R # Recursively list subdirectories with human-readable file sizes.\n",
    "hdfs dfs -cp  # Copy files from source to destination\n",
    "hdfs dfs -mv  # Move files from source to destination\n",
    "hdfs dfs -mkdir /foodir # Create a directory named /foodir\t\n",
    "hdfs dfs -rmr /foodir   # Remove a directory named /foodir\t\n",
    "hdfs dfs -cat /foodir/myfile.txt #View the contents of a file named /foodir/myfile.txt\t\n",
    "```"
   ]
  },
  {
   "cell_type": "markdown",
   "metadata": {
    "cell_id": "00005-20157ee7-3f62-4de9-9ea5-b28c35670101",
    "deepnote_cell_type": "markdown",
    "slideshow": {
     "slide_type": "slide"
    }
   },
   "source": [
    "## Transfer between nodes\n",
    "\n",
    "### put\n",
    "```shell\n",
    "hdfs fs -put [-f] [-p] [-l] [-d] [ - | <localsrc1> .. ]. <dst>\n",
    "```\n",
    "Copy single src, or multiple srcs from local file system to the destination file system. \n",
    "\n",
    "Options:\n",
    "\n",
    "    -p : Preserves rights and modification times.\n",
    "    -f : Overwrites the destination if it already exists.\n",
    "\n",
    "```shell\n",
    "hdfs fs -put localfile /user/hadoop/hadoopfile\n",
    "hdfs fs -put -f localfile1 localfile2 /user/hadoop/hadoopdir\n",
    "```\n",
    "Similar to the fs -put command\n",
    "- `moveFromLocal` : to delete the source localsrc after copy.\n",
    "- `copyFromLocal` : source is restricted to a local file\n",
    "- `copyToLocal` : destination is restricted to a local file"
   ]
  },
  {
   "cell_type": "markdown",
   "metadata": {
    "cell_id": "00006-575e7d47-d579-4be3-a20d-283ac65e3a13",
    "deepnote_cell_type": "markdown",
    "slideshow": {
     "slide_type": "slide"
    }
   },
   "source": [
    "![hdfs blocks](images/hdfs-fonctionnement.jpg)\n",
    "\n",
    "The Name Node is not in the data path. The Name Node only provides the map of where data is and where data should go in the cluster (file system metadata)."
   ]
  },
  {
   "cell_type": "markdown",
   "metadata": {
    "cell_id": "00007-1dcf62d9-2614-4c1f-96d2-909e449f1314",
    "deepnote_cell_type": "markdown",
    "slideshow": {
     "slide_type": "slide"
    }
   },
   "source": [
    "## Hadoop cluster\n",
    "\n",
    "- 8 computers: sve1 -> sve9\n",
    "\n",
    "### NameNode Web Interface (HDFS layer) \n",
    "\n",
    "http://svmass2.mass.uhb.fr:50070\n",
    "\n",
    "The name node web UI shows you a cluster summary including information about total/remaining capacity, live and dead nodes. Additionally, it allows you to browse the HDFS namespace and view the contents of its files in the web browser. It also gives access to the local machine’s Hadoop log files.\n",
    "\n",
    "### Secondary Namenode Information.\n",
    "\n",
    "http://svmass2.mass.uhb.fr:50090/\n",
    "\n",
    "### Datanode Information.\n",
    "\n",
    "- http://svpe1.mass.uhb.fr:50075/\n",
    "- http://svpe2.mass.uhb.fr:50075/\n",
    "- ...\n",
    "- http://svpe8.mass.uhb.fr:50075/\n",
    "- http://svpe9.mass.uhb.fr:50075/"
   ]
  },
  {
   "cell_type": "markdown",
   "metadata": {
    "cell_id": "00008-0da7b383-6e4d-491b-9486-f0b432c75a76",
    "deepnote_cell_type": "markdown",
    "slideshow": {
     "slide_type": "slide"
    }
   },
   "source": [
    "To do following hands on you can switch to [JupyterLab](https://jupyterlab.readthedocs.io).\n",
    "\n",
    "Just go to this following address http://localhost:9000/lab\n",
    "\n",
    "- Check that your HDFS home directory required to execute MapReduce jobs exists:\n",
    "```bash\n",
    "hdfs dfs -ls /user/${USER}\n",
    "```\n",
    "- Type the following commands: \n",
    "```bash\n",
    "hdfs dfs -ls\n",
    "hdfs dfs -ls /\n",
    "hdfs dfs -mkdir test\n",
    "```\n",
    "- Create a local file user.txt containing your name and the date:"
   ]
  },
  {
   "cell_type": "code",
   "execution_count": null,
   "metadata": {
    "cell_id": "00009-f6414ae7-fd9a-47cd-bf43-03c9261c0ae4",
    "deepnote_cell_type": "code"
   },
   "outputs": [],
   "source": [
    "# %%bash\n",
    "# echo \"FirstName LastName\" > user.txt\n",
    "# echo `date` >> user.txt \n",
    "# cat user.txt"
   ]
  },
  {
   "cell_type": "markdown",
   "metadata": {
    "cell_id": "00010-28687af5-3d07-4855-938a-c0f9faf58b39",
    "deepnote_cell_type": "markdown",
    "slideshow": {
     "slide_type": "slide"
    }
   },
   "source": [
    "Copy it on  HDFS :\n",
    "```bash\n",
    "hdfs dfs -put user.txt\n",
    "```\n",
    "\n",
    "Check with:\n",
    "```bash\n",
    "hdfs dfs -ls -R \n",
    "hdfs dfs -cat user.txt \n",
    "hdfs dfs -tail user.txt \n",
    "```"
   ]
  },
  {
   "cell_type": "code",
   "execution_count": null,
   "metadata": {
    "cell_id": "00011-23a1c9fe-3f71-4363-b98e-a806943b5abd",
    "deepnote_cell_type": "code"
   },
   "outputs": [],
   "source": [
    "# %%bash\n",
    "# hdfs dfs -put user.txt\n",
    "# hdfs dfs -ls -R /user/navaro_p/"
   ]
  },
  {
   "cell_type": "code",
   "execution_count": null,
   "metadata": {
    "cell_id": "00012-34d0cd52-4319-49ac-89aa-4a113d361762",
    "deepnote_cell_type": "code"
   },
   "outputs": [],
   "source": [
    "# %%bash\n",
    "# hdfs dfs -cat user.txt"
   ]
  },
  {
   "cell_type": "markdown",
   "metadata": {
    "cell_id": "00013-1d7e39b5-9b9a-4ffa-aba4-246b79342334",
    "deepnote_cell_type": "markdown",
    "slideshow": {
     "slide_type": "slide"
    }
   },
   "source": [
    "Remove the file:\n",
    "```bash\n",
    "hdfs dfs -rm user.txt\n",
    "```\n",
    "\n",
    "Put it again on HDFS and move to books directory:\n",
    "```bash\n",
    "hdfs dfs -copyFromLocal user.txt\n",
    "hdfs dfs -mv user.txt books/user.txt\n",
    "hdfs dfs -ls -R -h\n",
    "```\n",
    "\n",
    "Copy user.txt to hello.txt and remove it.\n",
    "```bash\n",
    "hdfs dfs -cp books/user.txt books/hello.txt\n",
    "hdfs dfs -count -h /user/$USER\n",
    "hdfs dfs -rm books/user.txt\n",
    "```"
   ]
  },
  {
   "cell_type": "markdown",
   "metadata": {
    "cell_id": "00014-c7644b69-2b41-45e3-8ef7-187048c5b82d",
    "deepnote_cell_type": "markdown"
   },
   "source": [
    "## Hands-on practice:\n",
    "\n",
    "1. Create a directory `files` in HDFS.\n",
    "2. List the contents of a directory /.\n",
    "3. Upload the file today.txt in HDFS.\n",
    "```bash\n",
    "date > today.txt\n",
    "whoami >> today.txt\n",
    "```\n",
    "4. Display contents of file `today.txt`\n",
    "5. Copy `today.txt` file from source to `files` directory.\n",
    "6. Copy file `jps.txt` from/To Local file system to HDFS\n",
    "```bash\n",
    "jps > jps.txt\n",
    "```\n",
    "7. Move file `jps.txt` from source to `files`.\n",
    "8. Remove file `today.txt` from home directory in HDFS.\n",
    "9. Display last few lines of `jps.txt`.\n",
    "10. Display the help of `du` command and show the total amount of space in a human-readable fashion used by your home hdfs directory.\n",
    "12. Display the help of `df` command and show the total amount of space available in the filesystem in a human-readable fashion.\n",
    "13. With `chmod` change the rights of `today.txt` file. I has to be readable and writeable only by you."
   ]
  },
  {
   "cell_type": "markdown",
   "metadata": {
    "cell_id": "00015-63bc63c8-7cd2-4995-9eb0-dea9923eb6cf",
    "deepnote_cell_type": "markdown",
    "slideshow": {
     "slide_type": "slide"
    }
   },
   "source": [
    "## YARN\n",
    "\n",
    "*YARN takes care of resource management and job scheduling/monitoring.*\n",
    "\n",
    "- The **ResourceManager** is the ultimate authority that arbitrates resources among all the applications in the system. It has two components: **Scheduler** and **ApplicationsManager**.\n",
    "- The **NodeManager** is the per-machine framework agent who is responsible for **Containers**, monitoring their resource usage (cpu, memory, disk, network) and reporting the same to the **ResourceManager/Scheduler**.\n",
    "\n",
    "The per-application **ApplicationMaster** negotiates resources from the ResourceManager and working with the NodeManager(s) to execute and monitor the tasks.\n",
    "\n",
    "- The **Scheduler** is responsible for allocating resources to the applications.\n",
    "\n",
    "- The **ApplicationsManager** is responsible for accepting job-submissions, tracking their status and monitoring for progress."
   ]
  },
  {
   "cell_type": "markdown",
   "metadata": {
    "cell_id": "00016-78eee8e9-9c1d-45e5-bf66-bb2314a90ce5",
    "deepnote_cell_type": "markdown",
    "slideshow": {
     "slide_type": "slide"
    }
   },
   "source": [
    "![Yarn in Hadoop documentation](images/yarn_architecture.png)\n",
    "Source: http://hadoop.apache.org/docs/stable/hadoop-yarn/hadoop-yarn-site/yarn_architecture.gif"
   ]
  },
  {
   "cell_type": "markdown",
   "metadata": {
    "cell_id": "00017-595071cd-8172-4b89-81b0-ae5977d4b274",
    "deepnote_cell_type": "markdown",
    "slideshow": {
     "slide_type": "slide"
    }
   },
   "source": [
    "### Yarn Web Interface\n",
    "\n",
    "The JobTracker web UI provides information about general job statistics of the Hadoop cluster, running/completed/failed jobs and a job history log file. It also gives access to the ‘‘local machine’s’’ Hadoop log files (the machine on which the web UI is running on).\n",
    "\n",
    " - All Applications http://svmass2.mass.uhb.fr:8088"
   ]
  },
  {
   "cell_type": "markdown",
   "metadata": {
    "cell_id": "00018-205c97b6-b3c7-4a14-b94d-7a233ba3d045",
    "deepnote_cell_type": "markdown",
    "slideshow": {
     "slide_type": "slide"
    }
   },
   "source": [
    "## WordCount Example \n",
    "\n",
    "The [Worcount example](https://wiki.apache.org/hadoop/WordCount) is implemented in Java and it is the example of [Hadoop MapReduce Tutorial](https://hadoop.apache.org/docs/current/hadoop-mapreduce-client/hadoop-mapreduce-client-core/MapReduceTutorial.html)\n",
    "\n",
    "Let's create some files with lorem python package"
   ]
  },
  {
   "cell_type": "code",
   "execution_count": null,
   "metadata": {
    "cell_id": "00019-72671e28-0cec-4833-a48e-4f7c507084a9",
    "deepnote_cell_type": "code",
    "execution_millis": 0,
    "execution_start": 1604936850977,
    "output_cleared": false,
    "slideshow": {
     "slide_type": "slide"
    },
    "source_hash": "8b608431"
   },
   "outputs": [],
   "source": [
    "from lorem import text\n",
    "\n",
    "for i in range(1,10):\n",
    "    with open('sample{0:02d}.txt'.format(i), 'w') as f:\n",
    "        for j in range(10):\n",
    "            f.write(text())"
   ]
  },
  {
   "cell_type": "markdown",
   "metadata": {
    "cell_id": "00020-8d832f6b-04e2-4ea9-9656-e7dcfad22937",
    "deepnote_cell_type": "markdown",
    "slideshow": {
     "slide_type": "slide"
    }
   },
   "source": [
    "- Make input directory in your HDFS home directory required to execute MapReduce jobs:\n",
    "```bash\n",
    "hdfs dfs -mkdir -p /user/${USER}/input\n",
    "```\n",
    "\n",
    "`-p` flag force the directory creation even if it already exists."
   ]
  },
  {
   "cell_type": "markdown",
   "metadata": {
    "cell_id": "00021-d4d9e65a-17fc-4f65-a678-3de16f7f318e",
    "deepnote_cell_type": "markdown",
    "slideshow": {
     "slide_type": "slide"
    }
   },
   "source": [
    "### Exercise\n",
    "\n",
    "- Copy all necessary files in HDFS system.\n",
    "- Run the Java example using the command\n",
    "\n",
    "```bash\n",
    "hadoop jar /export/hadoop-2.7.6/share/hadoop/mapreduce/hadoop-mapreduce-examples-2.7.6.jar wordcount /user/you/input /user/you/output\n",
    "```\n",
    "\n",
    "- Remove the output directory and try to use yarn\n",
    "\n",
    "```bash\n",
    "yarn jar /export/hadoop-2.7.6/share/hadoop/mapreduce/hadoop-mapreduce-examples-2.7.6.jar wordcount /user/you/input /user/you/output\n",
    "```\n",
    "\n",
    "- Connect to the [Yarn web user interface](http://svmass2.mass.uhb.fr:8088/cluster) and read the logs carefully."
   ]
  },
  {
   "cell_type": "markdown",
   "metadata": {
    "cell_id": "00022-eeb2913c-5743-4e56-8ca4-2d1a4b2e56df",
    "deepnote_cell_type": "markdown",
    "slideshow": {
     "slide_type": "slide"
    }
   },
   "source": [
    "## Deploying the MapReduce Python code on Hadoop\n",
    "\n",
    "This Python must use the [Hadoop Streaming API](http://hadoop.apache.org/docs/stable/hadoop-streaming/HadoopStreaming.html) to pass data between our Map and Reduce code via Python’s sys.stdin (standard input) and sys.stdout (standard output)."
   ]
  },
  {
   "cell_type": "markdown",
   "metadata": {
    "cell_id": "00023-8af32952-fb7c-424d-8705-dfb62193429d",
    "deepnote_cell_type": "markdown",
    "slideshow": {
     "slide_type": "slide"
    }
   },
   "source": [
    "## Map \n",
    "\n",
    "The following Python code read data from sys.stdin, split it into words and output a list of lines mapping words to their (intermediate) counts to sys.stdout. For every word it outputs <word> 1 tuples immediately."
   ]
  },
  {
   "cell_type": "code",
   "execution_count": null,
   "metadata": {
    "cell_id": "00024-6d0edba4-9bc8-496b-9907-14be2f832952",
    "deepnote_cell_type": "code",
    "execution_millis": 19,
    "execution_start": 1604938402949,
    "output_cleared": false,
    "slideshow": {
     "slide_type": "slide"
    },
    "source_hash": "a4ea72f2"
   },
   "outputs": [
    {
     "name": "stdout",
     "output_type": "stream",
     "text": [
      "Overwriting mapper.py\n"
     ]
    }
   ],
   "source": [
    "%%file mapper.py\n",
    "#!/usr/bin/env python\n",
    "import sys\n",
    "# input comes from standard input\n",
    "for line in sys.stdin:\n",
    "    line = line.strip().lower() # remove leading and trailing whitespace\n",
    "    line = line.replace(\".\", \" \")   # strip punctuation \n",
    "    for word in line.split(): # split the line into words\n",
    "        # write the results to standard output;\n",
    "        # what we output here will be the input for the\n",
    "        # Reduce step, i.e. the input for reducer.py\n",
    "        # tab-delimited; the trivial word count is 1\n",
    "        print (f'{word}\\t 1')"
   ]
  },
  {
   "cell_type": "markdown",
   "metadata": {
    "cell_id": "00026-49819907-094a-4b76-8e4e-2b8e6a0e0502",
    "deepnote_cell_type": "markdown",
    "slideshow": {
     "slide_type": "slide"
    }
   },
   "source": [
    "The python script must be executable:\n",
    "    \n",
    "```bash\n",
    "chmod +x mapper.py \n",
    "```\n",
    "\n",
    "Try to run in a terminal with:\n",
    "```bash\n",
    "cat sample01.txt | ./mapper.py | sort\n",
    "```\n",
    "or\n",
    "```bash\n",
    "./mapper.py < sample01.txt | sort\n",
    "```"
   ]
  },
  {
   "cell_type": "code",
   "execution_count": null,
   "metadata": {
    "cell_id": "00027-65979a33-8c85-4cac-ac6a-438bcfab0068",
    "deepnote_cell_type": "code"
   },
   "outputs": [],
   "source": [
    "# %%bash\n",
    "# chmod +x mapper.py\n",
    "# cat sample01.txt | ./mapper.py | sort"
   ]
  },
  {
   "cell_type": "markdown",
   "metadata": {
    "cell_id": "00028-45d7947f-4737-465f-bfa9-92a8edb1c800",
    "deepnote_cell_type": "markdown",
    "slideshow": {
     "slide_type": "slide"
    }
   },
   "source": [
    "## Reduce \n",
    "\n",
    "The following code reads the results of mapper.py and sum the occurrences of each word to a final count, and then output its results to sys.stdout.\n",
    "Remember that Hadoop sorts map output so it is easier to count words."
   ]
  },
  {
   "cell_type": "code",
   "execution_count": null,
   "metadata": {
    "cell_id": "00029-88737004-d4de-47a3-a276-3962aa80834a",
    "deepnote_cell_type": "code",
    "execution_millis": 30,
    "execution_start": 1604938524251,
    "output_cleared": false,
    "slideshow": {
     "slide_type": "slide"
    },
    "source_hash": "c2ebe356"
   },
   "outputs": [
    {
     "name": "stdout",
     "output_type": "stream",
     "text": [
      "Overwriting reducer.py\n"
     ]
    }
   ],
   "source": [
    "%%file reducer.py\n",
    "#!/usr/bin/env python\n",
    "from operator import itemgetter\n",
    "import sys\n",
    "\n",
    "current_word = None\n",
    "current_count = 0\n",
    "word = None\n",
    "\n",
    "for line in sys.stdin:\n",
    "    \n",
    "    # parse the input we got from mapper.py\n",
    "    word, count = line.split('\\t', 1)\n",
    "\n",
    "    # convert count (currently a string) to int\n",
    "    try:\n",
    "        count = int(count)\n",
    "    except ValueError:\n",
    "        # count was not a number, so silently\n",
    "        # ignore/discard this line\n",
    "        continue\n",
    "\n",
    "    # this IF-switch only works because Hadoop sorts map output\n",
    "    # by key (here: word) before it is passed to the reducer\n",
    "    if current_word == word:\n",
    "        current_count += count\n",
    "    else:\n",
    "        if current_word:\n",
    "            # write result to sys.stdout\n",
    "            print (f'{current_count}\\t{current_word}')\n",
    "        current_count = count\n",
    "        current_word = word\n",
    "\n",
    "# do not forget to output the last word if needed!\n",
    "if current_word == word:\n",
    "    print (f'{current_count}\\t{current_word}')"
   ]
  },
  {
   "cell_type": "markdown",
   "metadata": {
    "cell_id": "00031-a3196caa-fb92-429a-9da7-6dd9a196aa0b",
    "deepnote_cell_type": "markdown",
    "slideshow": {
     "slide_type": "slide"
    }
   },
   "source": [
    "As mapper the python script must be executable:\n",
    "    \n",
    "```bash\n",
    "chmod +x reducer.py \n",
    "```\n",
    "\n",
    "Try to run in a terminal with:\n",
    "```bash\n",
    "cat sample.txt | ./mapper.py | sort | ./reducer.py | sort\n",
    "```\n",
    "or\n",
    "```bash\n",
    "./mapper.py < sample01.txt | sort | ./reducer.py | sort\n",
    "```"
   ]
  },
  {
   "cell_type": "code",
   "execution_count": null,
   "metadata": {
    "cell_id": "00032-22ada548-2ca7-4be1-b1c5-0ac0c3d4aade",
    "deepnote_cell_type": "code"
   },
   "outputs": [],
   "source": [
    "# %%bash\n",
    "# chmod +x reducer.py \n",
    "# ./mapper.py < sample01.txt | sort | ./reducer.py | sort"
   ]
  },
  {
   "cell_type": "markdown",
   "metadata": {
    "cell_id": "00033-226c94ac-9292-4474-95aa-049759c21d11",
    "deepnote_cell_type": "markdown",
    "slideshow": {
     "slide_type": "slide"
    }
   },
   "source": [
    "## Execution on Hadoop cluster\n",
    "\n",
    "* Copy all files to HDFS cluster\n",
    "* Run the WordCount MapReduce\n",
    "\n",
    "Before to run the following command you need to replace the path to the python executable. To print this path you can use the command\n",
    "\n",
    "```\n",
    "which python\n",
    "```\n",
    "You should get \n",
    "```\n",
    "/opt/tljh/user/bin/python\n",
    "```\n",
    "So replace the line\n",
    "```\n",
    "#!/usr/bin/env python\n",
    "```\n",
    "by\n",
    "```\n",
    "#!/opt/tljh/user/bin/python\n",
    "```\n",
    "in both files mapper.py and reducer.py"
   ]
  },
  {
   "cell_type": "markdown",
   "metadata": {
    "cell_id": "00032-282e810f-86b8-413d-8e59-defcae653673",
    "deepnote_cell_type": "markdown",
    "tags": []
   },
   "source": [
    "Ensure that the output directory does not exist by removing it\n",
    "```\n",
    "hdfs dfs -rm -r output\n",
    "```\n",
    "Use the hadoop streaming library to read files on hdfs and redirect data to standard input, use your python scripts\n",
    "to process the data and write the result on hdfs directory named output :\n",
    "```\n",
    "hadoop jar /export/hadoop-2.7.6/share/hadoop/tools/lib/hadoop-streaming-2.7.6.jar \\\n",
    "-input input/*.txt -output output \\\n",
    "-file ${PWD}/mapper.py -mapper ${PWD}/mapper.py \\\n",
    "-file ${PWD}/reducer.py -reducer ${PWD}/reducer.py\n",
    "```\n",
    "Check the results with\n",
    "```\n",
    "hdfs dfs -cat output/*\n",
    "```"
   ]
  },
  {
   "cell_type": "markdown",
   "metadata": {
    "cell_id": "00033-795a3246-df4b-4849-b38f-fb4119c0e62d",
    "deepnote_cell_type": "markdown",
    "tags": []
   },
   "source": [
    "You can avoid these long lines commands by editing a Makefile"
   ]
  },
  {
   "cell_type": "code",
   "execution_count": null,
   "metadata": {
    "cell_id": "00034-01ed13f1-5e64-4cd1-9c15-e3e122e8f0eb",
    "deepnote_cell_type": "code",
    "slideshow": {
     "slide_type": "slide"
    }
   },
   "outputs": [],
   "source": [
    "%%file Makefile\n",
    "\n",
    "HADOOP_VERSION=2.7.6\n",
    "HADOOP_HOME=/export/hadoop-${HADOOP_VERSION}\n",
    "HADOOP_TOOLS=${HADOOP_HOME}/share/hadoop/tools/lib\n",
    "HDFS_DIR=/user/${USER}\n",
    " \n",
    "SAMPLES = sample01.txt sample02.txt sample03.txt sample04.txt\n",
    "\n",
    "copy_to_hdfs: ${SAMPLES}\n",
    "\thdfs dfs -mkdir -p ${HDFS_DIR}/input\n",
    "\thdfs dfs -put $^ ${HDFS_DIR}/input\n",
    "\n",
    "run_with_hadoop: \n",
    "\thadoop jar ${HADOOP_TOOLS}/hadoop-streaming-${HADOOP_VERSION}.jar \\\n",
    "    -file  ${PWD}/mapper.py  -mapper  ${PWD}/mapper.py \\\n",
    "    -file  ${PWD}/reducer.py -reducer ${PWD}/reducer.py \\\n",
    "    -input ${HDFS_DIR}/input/*.txt -output ${HDFS_DIR}/output-hadoop\n",
    "\n",
    "run_with_yarn: \n",
    "\tyarn jar ${HADOOP_TOOLS}/hadoop-streaming-${HADOOP_VERSION}.jar \\\n",
    "\t-file  ${PWD}/mapper.py  -mapper  ${PWD}/mapper.py \\\n",
    "\t-file  ${PWD}/reducer.py -reducer ${PWD}/reducer.py \\\n",
    "\t-input ${HDFS_DIR}/input/*.txt -output ${HDFS_DIR}/output-yarn"
   ]
  },
  {
   "cell_type": "code",
   "execution_count": null,
   "metadata": {
    "cell_id": "00035-a034949a-6e1f-4716-a304-8039cd216e88",
    "deepnote_cell_type": "code"
   },
   "outputs": [],
   "source": [
    "# %%bash\n",
    "# hdfs dfs -rm -r input  # remove input directory\n",
    "# make copy_to_hdfs # copy sample files to hdfs\n",
    "# hdfs dfs -ls input # list files on hdfs"
   ]
  },
  {
   "cell_type": "code",
   "execution_count": null,
   "metadata": {
    "cell_id": "00036-2dd58a60-b1ac-4360-b0ad-b280b34abbb5",
    "deepnote_cell_type": "code"
   },
   "outputs": [],
   "source": [
    "# %%bash\n",
    "# hdfs dfs -rm -r -f output-hadoop # Remove output directory on hdfs\n",
    "# make run_with_hadoop  # Run the hadoop streaming map reduce process\n",
    "# hdfs dfs -cat output-hadoop/*  # Display results"
   ]
  }
 ],
 "metadata": {
  "deepnote_execution_queue": [],
  "deepnote_notebook_id": "18c01af4-155a-4b30-ab02-1fcfe73f7579",
  "kernelspec": {
   "display_name": "big-data",
   "language": "python",
   "name": "big-data"
  }
 },
 "nbformat": 4,
 "nbformat_minor": 4
}
