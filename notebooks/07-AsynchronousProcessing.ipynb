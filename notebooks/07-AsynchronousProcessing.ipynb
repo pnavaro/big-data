{
 "cells": [
  {
   "cell_type": "markdown",
   "metadata": {
    "cell_id": "00000-c21b7f89-338a-46c1-8612-630cc9354351",
    "deepnote_cell_type": "markdown",
    "output_cleared": false,
    "slideshow": {
     "slide_type": "slide"
    }
   },
   "source": [
    "# Asynchronous Processing\n",
    "\n",
    "While many parallel applications can be described as maps, some can be more complex.\n",
    "In this section we look at the asynchronous `concurrent.futures` interface,\n",
    "which provides a simple API for ad-hoc parallelism.\n",
    "This is useful for when your computations don't fit a regular pattern."
   ]
  },
  {
   "cell_type": "markdown",
   "metadata": {
    "cell_id": "00001-72f2fc06-2deb-4760-90ed-888e27d44924",
    "deepnote_cell_type": "markdown",
    "output_cleared": false,
    "slideshow": {
     "slide_type": "fragment"
    }
   },
   "source": [
    "## Executor.submit\n",
    "\n",
    "The `submit` method starts a computation in a separate thread or process and immediately gives us a `Future` object that refers to the result.  At first, the future is pending.  Once the function completes the future is finished. \n",
    "\n",
    "We collect the result of the task with the `.result()` method,\n",
    "which does not return until the results are available."
   ]
  },
  {
   "cell_type": "code",
   "execution_count": null,
   "metadata": {
    "cell_id": "00002-bd38e863-8f90-471a-92c2-1c121975878b",
    "deepnote_cell_type": "code",
    "execution_millis": 994,
    "execution_start": 1604927565265,
    "output_cleared": false,
    "slideshow": {
     "slide_type": "slide"
    },
    "source_hash": "7d554a00"
   },
   "outputs": [],
   "source": [
    "%%time\n",
    "from time import sleep\n",
    "\n",
    "def slowadd(a, b, delay=1):\n",
    "    sleep(delay)\n",
    "    return a + b\n",
    "\n",
    "slowadd(1,1)"
   ]
  },
  {
   "cell_type": "code",
   "execution_count": null,
   "metadata": {
    "cell_id": "00003-aa511393-f934-42fe-8a1f-9ae67a6b7aa4",
    "deepnote_cell_type": "code",
    "execution_millis": 1016,
    "execution_start": 1604927568104,
    "output_cleared": false,
    "slideshow": {
     "slide_type": "fragment"
    },
    "source_hash": "ffc83e6b"
   },
   "outputs": [],
   "source": [
    "from concurrent.futures import ThreadPoolExecutor\n",
    "\n",
    "with ThreadPoolExecutor(1) as e:\n",
    "    future = e.submit(slowadd, 1, 2)\n",
    "    print(future.result())\n"
   ]
  },
  {
   "cell_type": "markdown",
   "metadata": {
    "cell_id": "00005-d1927015-bd9e-4b72-9898-2c25b61f87ad",
    "deepnote_cell_type": "markdown",
    "output_cleared": false,
    "slideshow": {
     "slide_type": "slide"
    }
   },
   "source": [
    "## Submit many tasks, receive many futures\n",
    "\n",
    "Because submit returns immediately we can submit many tasks all at once and they will execute in parallel."
   ]
  },
  {
   "cell_type": "code",
   "execution_count": null,
   "metadata": {
    "cell_id": "00006-eff7d320-3adc-40a1-be46-93f5f837102a",
    "deepnote_cell_type": "code",
    "execution_millis": 8056,
    "execution_start": 1604927584680,
    "output_cleared": false,
    "slideshow": {
     "slide_type": "fragment"
    },
    "source_hash": "f9b9eb0"
   },
   "outputs": [],
   "source": [
    "%%time\n",
    "results = [slowadd(i, i, delay=1) for i in range(8)]\n",
    "print(results)"
   ]
  },
  {
   "cell_type": "code",
   "execution_count": null,
   "metadata": {
    "cell_id": "00007-a47f3ca7-02c7-4743-9518-13850da42b89",
    "deepnote_cell_type": "code",
    "execution_millis": 1026,
    "execution_start": 1604927595821,
    "output_cleared": false,
    "slideshow": {
     "slide_type": "fragment"
    },
    "source_hash": "92525d1e"
   },
   "outputs": [],
   "source": [
    "%%time\n",
    "e = ThreadPoolExecutor()\n",
    "futures = [e.submit(slowadd, i, i, delay=1) for i in range(8)]\n",
    "results = [f.result() for f in futures]\n",
    "print(results)"
   ]
  },
  {
   "cell_type": "markdown",
   "metadata": {
    "cell_id": "00008-f0b36f1d-82ae-4352-a53a-6f8e5f33a532",
    "deepnote_cell_type": "markdown",
    "output_cleared": false,
    "slideshow": {
     "slide_type": "slide"
    }
   },
   "source": [
    "*  Submit fires off a single function call in the background, returning a future.  \n",
    "*  When we combine submit with a single for loop we recover the functionality of map.  \n",
    "*  When we want to collect our results we replace each of our futures, `f`, with a call to `f.result()`\n",
    "*  We can combine submit with multiple for loops and other general programming to get something more general than map."
   ]
  },
  {
   "cell_type": "markdown",
   "metadata": {
    "cell_id": "00009-cb7de68c-f4aa-4c57-911d-f4942ccc6645",
    "deepnote_cell_type": "markdown",
    "output_cleared": false,
    "slideshow": {
     "slide_type": "slide"
    }
   },
   "source": [
    "## Exercise 7.1\n",
    "\n",
    "Parallelize the following code with e.submit\n",
    "\n",
    "1.  Replace the `results` list with a list called `futures`\n",
    "2.  Replace calls to `slowadd` and `slowsub` with `e.submit` calls on those functions\n",
    "3.  At the end, block on the computation by recreating the `results` list by calling `.result()` on each future in the `futures` list."
   ]
  },
  {
   "cell_type": "markdown",
   "metadata": {
    "cell_id": "00010-14dcc15e-677a-4bd6-b09f-c83e88f972fe",
    "deepnote_cell_type": "markdown",
    "output_cleared": false,
    "slideshow": {
     "slide_type": "slide"
    }
   },
   "source": [
    "### Extract daily stock data from google"
   ]
  },
  {
   "cell_type": "code",
   "execution_count": null,
   "metadata": {
    "cell_id": "00011-c346d1a6-5234-4633-86b9-6211d595368f",
    "deepnote_cell_type": "code",
    "execution_millis": 1574,
    "execution_start": 1604927604778,
    "output_cleared": false,
    "source_hash": "2ef65e7f",
    "tags": []
   },
   "outputs": [],
   "source": [
    "!rm -rf data/daily-stock"
   ]
  },
  {
   "cell_type": "code",
   "execution_count": null,
   "metadata": {
    "cell_id": "00011-39ccf554-d7b2-40e8-97f1-8397826cabfd",
    "deepnote_cell_type": "code",
    "execution_millis": 2977,
    "execution_start": 1604927607761,
    "output_cleared": false,
    "slideshow": {
     "slide_type": "fragment"
    },
    "source_hash": "579620de"
   },
   "outputs": [],
   "source": [
    "import os  # library to get directory and file paths\n",
    "import tarfile # this module makes possible to read and write tar archives\n",
    "\n",
    "def extract_data(name, where):\n",
    "    datadir = os.path.join(where,name)\n",
    "    if not os.path.exists(datadir):\n",
    "       print(\"Extracting data...\")\n",
    "       tar_path = os.path.join(where, name+'.tgz')\n",
    "       with tarfile.open(tar_path, mode='r:gz') as data:\n",
    "          data.extractall(where)\n",
    "            \n",
    "extract_data('daily-stock','data') # this function call will extract json files"
   ]
  },
  {
   "cell_type": "markdown",
   "metadata": {
    "cell_id": "00012-e92e2d32-c1b8-40e5-9a92-49d02fa31729",
    "deepnote_cell_type": "markdown",
    "output_cleared": false,
    "slideshow": {
     "slide_type": "slide"
    }
   },
   "source": [
    "### Convert data to pandas DataFrames and save it in hdf5 files\n",
    "\n",
    "[HDF5](https://portal.hdfgroup.org/display/support) is a data model, library, and file format for storing and managing data. This format is widely used and is supported by many languages and platforms."
   ]
  },
  {
   "cell_type": "code",
   "execution_count": null,
   "metadata": {
    "cell_id": "00013-9d971806-7e11-4ed2-a15b-ba71e358d0c2",
    "deepnote_cell_type": "code",
    "execution_millis": 23,
    "execution_start": 1604927612579,
    "output_cleared": false,
    "slideshow": {
     "slide_type": "fragment"
    },
    "source_hash": "e480fca4"
   },
   "outputs": [],
   "source": [
    "import json\n",
    "import pandas as pd\n",
    "import os, glob\n",
    "\n",
    "here = os.getcwd()\n",
    "datadir = os.path.join(here,'data','daily-stock')\n",
    "filenames = sorted(glob.glob(os.path.join(datadir, '*.json')))\n",
    "filenames"
   ]
  },
  {
   "cell_type": "markdown",
   "metadata": {
    "cell_id": "00014-7567d976-88b9-4b01-92a0-661bc8799483",
    "deepnote_cell_type": "markdown",
    "output_cleared": false,
    "slideshow": {
     "slide_type": "slide"
    }
   },
   "source": [
    "### Sequential version"
   ]
  },
  {
   "cell_type": "code",
   "execution_count": null,
   "metadata": {
    "cell_id": "00016-05599548-fa16-4eb5-bde5-3e7436717b0c",
    "deepnote_cell_type": "code",
    "execution_millis": 957,
    "execution_start": 1604927615423,
    "output_cleared": false,
    "source_hash": "8c90d2e0",
    "tags": []
   },
   "outputs": [],
   "source": [
    "!rm -f data/daily-stock/*.h5"
   ]
  },
  {
   "cell_type": "code",
   "execution_count": null,
   "metadata": {
    "cell_id": "00015-bf0df8e7-72e6-4d65-82bf-7fba1be58e87",
    "deepnote_cell_type": "code",
    "execution_millis": 28292,
    "execution_start": 1604927617594,
    "output_cleared": false,
    "source_hash": "7ffaeae5",
    "tags": []
   },
   "outputs": [],
   "source": [
    "%%time\n",
    "import json\n",
    "import pandas as pd\n",
    "from tqdm import tqdm\n",
    "\n",
    "\n",
    "for fn in tqdm(filenames):\n",
    "    \n",
    "    with open(fn) as f:\n",
    "        data = [json.loads(line) for line in f] # load \n",
    "        \n",
    "    df = pd.DataFrame(data) # parse \n",
    "    \n",
    "    out_filename = fn[:-5] + '.h5'\n",
    "    df.to_hdf(out_filename, '/data') # store\n",
    "    "
   ]
  },
  {
   "cell_type": "code",
   "execution_count": null,
   "metadata": {
    "cell_id": "00018-89f549d7-3637-4641-bf1a-c92fc4efe5ea",
    "deepnote_cell_type": "code",
    "execution_millis": 1270,
    "execution_start": 1604927886479,
    "output_cleared": false,
    "source_hash": "8c90d2e0",
    "tags": []
   },
   "outputs": [],
   "source": [
    "!rm -f data/daily-stock/*.h5"
   ]
  },
  {
   "cell_type": "markdown",
   "metadata": {
    "cell_id": "00016-38a378df-ee16-4c69-8032-af0e00b614a2",
    "deepnote_cell_type": "markdown",
    "output_cleared": false,
    "slideshow": {
     "slide_type": "slide"
    }
   },
   "source": [
    "## Exercise 7.2\n",
    "\n",
    "Parallelize the loop above using `ThreadPoolExecutor` and `map`."
   ]
  },
  {
   "cell_type": "markdown",
   "metadata": {
    "cell_id": "00017-18a75577-9939-4e96-9fd8-7db9c95648ed",
    "deepnote_cell_type": "markdown",
    "output_cleared": false,
    "slideshow": {
     "slide_type": "slide"
    }
   },
   "source": [
    "### Read files and load dataframes."
   ]
  },
  {
   "cell_type": "code",
   "execution_count": null,
   "metadata": {
    "cell_id": "00018-49b1d40c-49f8-4e6a-9cdb-cee6e649d353",
    "deepnote_cell_type": "code",
    "execution_millis": 1958,
    "execution_start": 1604928010728,
    "output_cleared": false,
    "slideshow": {
     "slide_type": "fragment"
    },
    "source_hash": "28e3caff"
   },
   "outputs": [],
   "source": [
    "import os, glob, pandas as pd\n",
    "filenames = sorted(glob.glob(os.path.join('data', 'daily-stock', '*.h5')))\n",
    "series ={}\n",
    "for fn in filenames:\n",
    "    series[fn] = pd.read_hdf(fn)['close']"
   ]
  },
  {
   "cell_type": "markdown",
   "metadata": {
    "cell_id": "00019-ced131bf-aa6d-483b-b3ae-db2bb8f3e1ee",
    "deepnote_cell_type": "markdown",
    "output_cleared": false,
    "slideshow": {
     "slide_type": "slide"
    }
   },
   "source": [
    "### Application\n",
    "\n",
    "Given our HDF5 files from the last section we want to find the two datasets with the greatest pair-wise correlation.  This forces us to consider all $n\\times(n-1)$ possibilities."
   ]
  },
  {
   "cell_type": "markdown",
   "metadata": {
    "cell_id": "00021-f6079fde-c1a5-4f1e-8fb8-02552ed0a149",
    "deepnote_cell_type": "markdown",
    "output_cleared": false,
    "slideshow": {
     "slide_type": "slide"
    }
   },
   "source": [
    "We use matplotlib to visually inspect the highly correlated timeseries"
   ]
  },
  {
   "cell_type": "code",
   "execution_count": null,
   "metadata": {
    "cell_id": "00022-1c594a2f-5f87-475b-bc58-18a9e524cce5",
    "deepnote_cell_type": "code",
    "execution_millis": 1648,
    "execution_start": 1604928045260,
    "output_cleared": false,
    "slideshow": {
     "slide_type": "fragment"
    },
    "source_hash": "f7cf0742"
   },
   "outputs": [],
   "source": [
    "%matplotlib inline\n",
    "import matplotlib.pyplot as plt\n",
    "plt.figure(figsize=(10, 4))\n",
    "plt.plot(series[a]/series[a].max())\n",
    "plt.plot(series[b]/series[b].max())\n",
    "plt.xticks(visible=False);"
   ]
  },
  {
   "cell_type": "markdown",
   "metadata": {
    "cell_id": "00023-7995e398-e0f7-4d3e-839a-c29440a9ba20",
    "deepnote_cell_type": "markdown",
    "output_cleared": false,
    "slideshow": {
     "slide_type": "slide"
    }
   },
   "source": [
    "### Analysis\n",
    "\n",
    "This computation starts out by loading data from disk. We already know how to parallelize it:\n",
    "\n",
    "```python\n",
    "series = {}\n",
    "for fn in filenames:\n",
    "    series[fn] = pd.read_hdf(fn)['x']\n",
    "```\n",
    "\n",
    "It follows with a doubly nested for loop with an if statement.  \n",
    "\n",
    "```python\n",
    "results = {}\n",
    "for a in filenames:\n",
    "    for b in filenames:\n",
    "        if a != b:\n",
    "            results[a, b] = series[a].corr(series[b])\n",
    "```\n",
    "\n",
    "It *is* possible to solve this problem with `map`, but it requires some cleverness.  Instead we'll learn `submit`, an interface to start individual function calls asynchronously.\n",
    "\n",
    "It finishes with a reduction on small data.  This part is fast enough.\n",
    "\n",
    "```python\n",
    "((a, b), corr) = max(results.items(), key=lambda kv: kv[1])\n",
    "```"
   ]
  },
  {
   "cell_type": "markdown",
   "metadata": {
    "cell_id": "00024-7049e132-ad8d-425a-9072-2cf2a7cc2da2",
    "deepnote_cell_type": "markdown",
    "output_cleared": false,
    "slideshow": {
     "slide_type": "slide"
    }
   },
   "source": [
    "## Exercise 7.3\n",
    "- Parallelize pair-wise correlations with `e.submit`\n",
    "- Implement two versions one using Processes, another with Threads by replacing `e` with a ProcessPoolExecutor:\n",
    "\n",
    "### Threads\n",
    "\n",
    "```python\n",
    "from concurrent.futures import ThreadPoolExecutor\n",
    "e = ThreadPoolExecutor(4)\n",
    "```\n",
    "\n",
    "### Processes\n",
    "\n",
    "Be careful, a `ProcessPoolExecutor` does not run in the jupyter notebook cell.\n",
    "You must run your file in a terminal.\n",
    "\n",
    "```python\n",
    "from concurrent.futures import ProcessPoolExecutor\n",
    "e = ProcessPoolExecutor(4)\n",
    "```\n",
    "\n",
    "- How does performance vary?"
   ]
  },
  {
   "cell_type": "markdown",
   "metadata": {
    "cell_id": "00025-cdb2fe63-6727-4845-b5fa-38475f48bdf1",
    "deepnote_cell_type": "markdown",
    "output_cleared": false,
    "slideshow": {
     "slide_type": "slide"
    }
   },
   "source": [
    "Some conclusions about futures\n",
    "----------------------------\n",
    "\n",
    "*  `submit` functions can help us to parallelize more complex applications\n",
    "*  It didn't actually speed up the code very much\n",
    "*  Threads and Processes give some performance differences\n",
    "*  This is not very robust."
   ]
  }
 ],
 "metadata": {
  "deepnote_execution_queue": [],
  "deepnote_notebook_id": "b910fa80-efb8-4641-99b8-a67a363a6c65",
  "kernelspec": {
   "display_name": "big-data",
   "language": "python",
   "name": "big-data"
  }
 },
 "nbformat": 4,
 "nbformat_minor": 4
}
