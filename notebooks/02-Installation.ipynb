{
 "cells": [
  {
   "cell_type": "markdown",
   "metadata": {
    "cell_id": "00000-c079c5a8-e332-4f27-a8b4-313451da4571",
    "deepnote_cell_type": "markdown",
    "slideshow": {
     "slide_type": "slide"
    }
   },
   "source": [
    "# Installation\n",
    "\n",
    "Conda is a powerful package manager and environment manager.\n",
    "\n",
    "[Ref: Getting started with conda](https://docs.conda.io/projects/conda/en/latest/user-guide/getting-started.html)\n",
    "\n",
    "<!-- #region {\"slideshow\": {\"slide_type\": \"slide\"}} -->\n",
    "##  Install [Anaconda](https://www.anaconda.com/downloads) (large) or [Miniconda](https://conda.io/miniconda.html) (small) or [Miniforge](https://github.com/conda-forge/miniforge/releases) (best)\n",
    "\n",
    "```\n",
    "wget https://github.com/conda-forge/miniforge/releases/latest/download/Miniforge3-Linux-x86_64.sh\n",
    "bash Miniforge3-Linux-x86_64.sh -b\n",
    "```"
   ]
  },
  {
   "cell_type": "markdown",
   "metadata": {
    "cell_id": "00001-ce04a564-f215-4e7a-bcd2-5d11d2311bef",
    "deepnote_cell_type": "markdown",
    "slideshow": {
     "slide_type": "slide"
    }
   },
   "source": [
    "##  Open a terminal (Linux/MacOSX) or a Anaconda prompt (Windows)"
   ]
  },
  {
   "cell_type": "markdown",
   "metadata": {
    "cell_id": "00002-433f0999-74bd-4b24-8203-b0da444ab8cb",
    "deepnote_cell_type": "markdown",
    "slideshow": {
     "slide_type": "fragment"
    }
   },
   "source": [
    "Verify that conda is installed and running on your system by typing:"
   ]
  },
  {
   "cell_type": "code",
   "execution_count": null,
   "metadata": {
    "cell_id": "00003-d557c9f8-81ee-4c1e-b7ac-6f454935523a",
    "deepnote_cell_type": "code",
    "execution_millis": 170,
    "execution_start": 1605782014656,
    "output_cleared": false,
    "slideshow": {
     "slide_type": "fragment"
    },
    "source_hash": "f0593b1f"
   },
   "outputs": [
    {
     "name": "stdout",
     "output_type": "stream",
     "text": [
      "no change     /home/jovyan/miniforge3/condabin/conda\n",
      "no change     /home/jovyan/miniforge3/bin/conda\n",
      "no change     /home/jovyan/miniforge3/bin/conda-env\n",
      "no change     /home/jovyan/miniforge3/bin/activate\n",
      "no change     /home/jovyan/miniforge3/bin/deactivate\n",
      "no change     /home/jovyan/miniforge3/etc/profile.d/conda.sh\n",
      "no change     /home/jovyan/miniforge3/etc/fish/conf.d/conda.fish\n",
      "no change     /home/jovyan/miniforge3/shell/condabin/Conda.psm1\n",
      "no change     /home/jovyan/miniforge3/shell/condabin/conda-hook.ps1\n",
      "no change     /home/jovyan/miniforge3/lib/python3.8/site-packages/xontrib/conda.xsh\n",
      "no change     /home/jovyan/miniforge3/etc/profile.d/conda.csh\n",
      "no change     /home/jovyan/.bashrc\n",
      "No action taken.\n"
     ]
    }
   ],
   "source": [
    "%%bash\n",
    "~/miniforge3/bin/conda init"
   ]
  },
  {
   "cell_type": "code",
   "execution_count": null,
   "metadata": {
    "cell_id": "00006-4178ff26-bed3-4b36-9fc8-acd37e1fb16c",
    "deepnote_cell_type": "code",
    "execution_millis": 3,
    "execution_start": 1605782209255,
    "output_cleared": false,
    "source_hash": "2be4121e",
    "tags": []
   },
   "outputs": [
    {
     "name": "stdout",
     "output_type": "stream",
     "text": [
      "\n",
      "BONJOUR !\n",
      "Sur le coté il y a un lien \"add comment\" qui permet de commenter pour les visiteurs :-)\n",
      "\n"
     ]
    }
   ],
   "source": [
    "print(\"\"\"\n",
    "BONJOUR !\n",
    "Sur le coté il y a un lien \"add comment\" qui permet de commenter pour les visiteurs :-)\n",
    "\"\"\")"
   ]
  },
  {
   "cell_type": "markdown",
   "metadata": {
    "cell_id": "00004-8134637c-5ee9-45af-8325-3bdf3a606ab8",
    "deepnote_cell_type": "markdown",
    "slideshow": {
     "slide_type": "slide"
    }
   },
   "source": [
    "Conda displays the number of the version that you have installed.\n",
    "\n",
    "If you get an error message, make sure you closed and re-opened the\n",
    "terminal window after installing, or do it now. \n",
    "\n",
    "To update conda to the current version. Type the following:\n",
    "\n",
    "```bash\n",
    "conda update -y conda -n base\n",
    "```"
   ]
  },
  {
   "cell_type": "markdown",
   "metadata": {
    "cell_id": "00005-66113ab6-546a-428e-b895-f97a46553ee8",
    "deepnote_cell_type": "markdown",
    "slideshow": {
     "slide_type": "slide"
    }
   },
   "source": [
    "## Managing channels\n",
    "\n",
    "Conda channels are the locations where packages are stored. We use the [conda-forge](https://conda-forge.org),\n",
    "a good community-led collection of recipes for conda. If you installed [Miniforge](https://github.com/conda-forge/miniforge) you already have a conda specific to conda-forge.\n",
    "\n",
    "```bash\n",
    "conda config --add channels conda-forge \n",
    "conda config --set channel_priority strict\n",
    "```\n",
    "\n",
    "Strict channel priority speed up conda operations and also reduce package incompatibility problems."
   ]
  },
  {
   "cell_type": "markdown",
   "metadata": {
    "cell_id": "00006-47b827c2-9bc0-416d-993f-48e95819836d",
    "deepnote_cell_type": "markdown",
    "slideshow": {
     "slide_type": "slide"
    }
   },
   "source": [
    "## Managing environments\n",
    "\n",
    "Conda allows you to create separate environments containing files, packages,\n",
    "and their dependencies that will not interact with other environments.\n",
    "\n",
    "When you begin using conda, you already have a default environment named\n",
    "``base``. You don't want to put programs into your base environment, though.\n",
    "Create separate environments to keep your programs isolated from each other.\n",
    "\n",
    "### Create a new environment and install a package in it.\n",
    "\n",
    "We will name the environment `big-data` and install the version 3.8 of `python`. At the Anaconda Prompt or in your terminal window, type the following:\n",
    "```bash\n",
    "conda create -y -n big-data python=3.8\n",
    "```"
   ]
  },
  {
   "cell_type": "markdown",
   "metadata": {
    "cell_id": "00007-160cfa3a-76d6-4583-bd41-a61927c7da04",
    "deepnote_cell_type": "markdown",
    "slideshow": {
     "slide_type": "slide"
    }
   },
   "source": [
    "### To use, or \"activate\" the new environment, type the following:\n",
    "\n",
    "```bash\n",
    "conda activate big-data\n",
    "```"
   ]
  },
  {
   "cell_type": "markdown",
   "metadata": {
    "cell_id": "00008-9e275657-1b31-4aaa-bf05-795ea1f4d925",
    "deepnote_cell_type": "markdown",
    "slideshow": {
     "slide_type": "fragment"
    }
   },
   "source": [
    "Now that you are in your ``big-data`` environment, any conda commands you type will go to that environment until you deactivate it.\n",
    "\n",
    "Verify which version of Python is in your current environment:\n",
    "\n",
    "```bash\n",
    "python --version\n",
    "```"
   ]
  },
  {
   "cell_type": "markdown",
   "metadata": {
    "cell_id": "00009-131c5ed6-2ac9-41fe-9ca3-ffcf2d1fd9e1",
    "deepnote_cell_type": "markdown",
    "slideshow": {
     "slide_type": "slide"
    }
   },
   "source": [
    "### To see a list of all your environments, type:"
   ]
  },
  {
   "cell_type": "code",
   "execution_count": null,
   "metadata": {
    "cell_id": "00010-f66a0378-5833-4fa0-ab0b-005baa7bd2ff",
    "deepnote_cell_type": "code",
    "slideshow": {
     "slide_type": "fragment"
    }
   },
   "outputs": [],
   "source": [
    "%%bash\n",
    "conda info --envs"
   ]
  },
  {
   "cell_type": "markdown",
   "metadata": {
    "cell_id": "00011-fc26b545-3b11-4dfb-9d3b-fe64673f5da4",
    "deepnote_cell_type": "markdown",
    "slideshow": {
     "slide_type": "slide"
    }
   },
   "source": [
    "The active environment is the one with an asterisk (*).\n",
    "\n",
    "### Change your current environment back to the default (base):\n",
    "\n",
    "```bash\n",
    "conda activate\n",
    "```"
   ]
  },
  {
   "cell_type": "markdown",
   "metadata": {
    "cell_id": "00012-df8df772-187f-4b19-8e2d-9a5f70682378",
    "deepnote_cell_type": "markdown",
    "slideshow": {
     "slide_type": "slide"
    }
   },
   "source": [
    "## Managing packages\n",
    "\n",
    "- Check to see if a package you have not installed named \"jupyter\" is available from the Anaconda repository (must be connected to the Internet):"
   ]
  },
  {
   "cell_type": "code",
   "execution_count": null,
   "metadata": {
    "cell_id": "00013-2a0afc14-6f3c-4303-8fe1-c044376d61ef",
    "deepnote_cell_type": "code",
    "slideshow": {
     "slide_type": "fragment"
    }
   },
   "outputs": [],
   "source": [
    "%%bash\n",
    "conda search jupyter | grep conda-forge"
   ]
  },
  {
   "cell_type": "markdown",
   "metadata": {
    "cell_id": "00014-4fea59f6-2bad-427a-bcd8-ed50bf86d6f5",
    "deepnote_cell_type": "markdown",
    "slideshow": {
     "slide_type": "slide"
    }
   },
   "source": [
    "Conda displays a list of all packages with that name on conda-forge repository, so we know it is available.\n",
    "\n",
    "Install this package into the base environment:\n",
    "\n",
    "```bash\n",
    "conda activate\n",
    "conda install -y jupyter -c conda-forge -n base\n",
    "```"
   ]
  },
  {
   "cell_type": "markdown",
   "metadata": {
    "cell_id": "00015-8ffee693-33a1-4810-95ac-1a78bdc76747",
    "deepnote_cell_type": "markdown",
    "slideshow": {
     "slide_type": "slide"
    }
   },
   "source": [
    "Check to see if the newly installed program is in this environment:"
   ]
  },
  {
   "cell_type": "code",
   "execution_count": null,
   "metadata": {
    "cell_id": "00016-259afc3f-771d-445e-bef8-8a86ace41777",
    "deepnote_cell_type": "code",
    "slideshow": {
     "slide_type": "fragment"
    }
   },
   "outputs": [],
   "source": [
    "%%bash\n",
    "conda list jupyter"
   ]
  },
  {
   "cell_type": "markdown",
   "metadata": {
    "cell_id": "00017-aa5e9516-8a01-4d25-8caf-62e1f0497d46",
    "deepnote_cell_type": "markdown",
    "slideshow": {
     "slide_type": "slide"
    }
   },
   "source": [
    "### Update a new conda environment from file\n",
    "\n",
    "Download the file [environment.yml](https://raw.githubusercontent.com/pnavaro/big-data/master/environment.yml).\n",
    "This file contains the packages list for this course. Be aware that it takes time to download and install all packages.\n",
    "\n",
    "```bash\n",
    "conda env update -f environment.yml -n big-data\n",
    "```\n",
    "\n",
    "[Conda envs documentation](https://conda.io/docs/using/envs.html)."
   ]
  },
  {
   "cell_type": "markdown",
   "metadata": {
    "cell_id": "00018-61768c7e-7e7a-4459-bde5-3d98028bf4e1",
    "deepnote_cell_type": "markdown",
    "slideshow": {
     "slide_type": "slide"
    }
   },
   "source": [
    "Activating the conda environment will change your shell’s prompt to show what virtual environment you’re using, and modify the environment so that running python will get you that particular version and installation of Python. \n",
    "<pre>\n",
    "$ conda activate big-data\n",
    "(big-data) $ python\n",
    "Python 3.6.2 (default, Jul 17 2017, 16:44:45) \n",
    "[GCC 4.2.1 Compatible Apple LLVM 8.1.0 (clang-802.0.42)] on darwin\n",
    "Type \"help\", \"copyright\", \"credits\" or \"license\" for more information.\n",
    ">>> quit()\n",
    "</pre>\n",
    "\n",
    "**You must do this everytime you open a new terminal**"
   ]
  },
  {
   "cell_type": "markdown",
   "metadata": {
    "cell_id": "00019-243b5913-75c8-461a-a6b0-aac380449a2e",
    "deepnote_cell_type": "markdown",
    "slideshow": {
     "slide_type": "slide"
    }
   },
   "source": [
    "## Install the kernel for jupyter\n",
    "\n",
    "```bash\n",
    "conda run -n big-data python -m ipykernel install --user --name big-data\n",
    "```\n",
    "\n",
    "With this command you create the `big-data` kernel with python and all course dependencies.\n",
    "The cell above will give you the path to the python that runs in this notebook."
   ]
  },
  {
   "cell_type": "code",
   "execution_count": null,
   "metadata": {
    "cell_id": "00020-9708ee56-1207-4fc0-b94b-a3963e073993",
    "deepnote_cell_type": "code",
    "slideshow": {
     "slide_type": "slide"
    }
   },
   "outputs": [],
   "source": [
    "import sys\n",
    "print(f\"{sys.executable}\")"
   ]
  },
  {
   "cell_type": "code",
   "execution_count": null,
   "metadata": {
    "cell_id": "00021-ef265755-c5c4-4b5b-aaa3-9b1f5f3b5d3d",
    "deepnote_cell_type": "code",
    "slideshow": {
     "slide_type": "fragment"
    }
   },
   "outputs": [],
   "source": [
    "%%bash\n",
    "jupyter-kernelspec list"
   ]
  },
  {
   "cell_type": "markdown",
   "metadata": {
    "cell_id": "00022-67347d4a-f461-4846-8a07-c07b1f101726",
    "deepnote_cell_type": "markdown"
   },
   "source": [
    "## Mamba\n",
    "\n",
    "Mamba is a parallel reimplementation of the conda package manager in C++. It stays compatible as possible with conda interface. Install mamba from conda-forge:\n",
    "```bash\n",
    "conda install mamba -c conda-forge\n",
    "```\n",
    "\n",
    "To test it you can try to install the metapackage `r-tidyverse` which contains 144 packages.\n",
    "\n",
    "```bash\n",
    "$ time conda create -y r-tidyverse -n condatest\n",
    "real\t1m9.057s\n",
    "$ time mamba create -y r-tidyverse -n mambatest\n",
    "real\t0m32.365s\n",
    "```\n",
    "In this comparison packages are already downloaded, mamba is even better with downloads."
   ]
  }
 ],
 "metadata": {
  "deepnote_execution_queue": [],
  "deepnote_notebook_id": "a17cb0b0-e36b-4d80-a4d4-b1ec8efb60fb",
  "jupytext": {
   "cell_metadata_json": true,
   "encoding": "# -*- coding: utf-8 -*-",
   "formats": "ipynb,md:myst"
  },
  "kernelspec": {
   "display_name": "big-data",
   "language": "python",
   "name": "big-data"
  }
 },
 "nbformat": 4,
 "nbformat_minor": 4
}
